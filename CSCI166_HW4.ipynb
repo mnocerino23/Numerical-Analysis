{
  "nbformat": 4,
  "nbformat_minor": 0,
  "metadata": {
    "colab": {
      "provenance": [],
      "collapsed_sections": [],
      "authorship_tag": "ABX9TyMGf0C4LoyGL7GZJvZNdbbx",
      "include_colab_link": true
    },
    "kernelspec": {
      "name": "python3",
      "display_name": "Python 3"
    },
    "language_info": {
      "name": "python"
    }
  },
  "cells": [
    {
      "cell_type": "markdown",
      "metadata": {
        "id": "view-in-github",
        "colab_type": "text"
      },
      "source": [
        "<a href=\"https://colab.research.google.com/github/mnocerino23/Numerical-Analysis/blob/main/CSCI166_HW4.ipynb\" target=\"_parent\"><img src=\"https://colab.research.google.com/assets/colab-badge.svg\" alt=\"Open In Colab\"/></a>"
      ]
    },
    {
      "cell_type": "markdown",
      "source": [
        "# Michael Nocerino\n",
        "# CSCI 166 HW4"
      ],
      "metadata": {
        "id": "w2kzThrAAOoE"
      }
    },
    {
      "cell_type": "markdown",
      "source": [
        "# Problem 1:"
      ],
      "metadata": {
        "id": "1hAqkIwi9cyU"
      }
    },
    {
      "cell_type": "markdown",
      "source": [
        "1a:"
      ],
      "metadata": {
        "id": "Qut3tp_-9hIw"
      }
    },
    {
      "cell_type": "code",
      "source": [
        "import math\n",
        "import numpy as np"
      ],
      "metadata": {
        "id": "hDEoJP8I9m2O"
      },
      "execution_count": 16,
      "outputs": []
    },
    {
      "cell_type": "code",
      "execution_count": 17,
      "metadata": {
        "id": "XWQdP1Td9ZNN"
      },
      "outputs": [],
      "source": [
        "#harcode in the function and its derivative\n",
        "def f(x):\n",
        "  return ((27*(x**4)) + (162*(x**3)) - (180*(x**2)) + (62*x) -7)\n",
        "def fprime(x):\n",
        "  return ((108*(x**3)) + (486*(x**2)) - (360*x) + 62)"
      ]
    },
    {
      "cell_type": "code",
      "source": [
        "#we want to start at p = 0 and perform ten iterations of Newton's method"
      ],
      "metadata": {
        "id": "u6ZzEFxL-Cnx"
      },
      "execution_count": 18,
      "outputs": []
    },
    {
      "cell_type": "code",
      "source": [
        "def newtons_method(function, derivative, p, iterations):\n",
        "  for i in range(iterations):\n",
        "    next_p = p - (f(p)/fprime(p))\n",
        "    p = next_p\n",
        "  return p"
      ],
      "metadata": {
        "id": "u54PSzYv-gbM"
      },
      "execution_count": 19,
      "outputs": []
    },
    {
      "cell_type": "markdown",
      "source": [
        "Newton's method approximation of the root of f(x) using 10 iterations:"
      ],
      "metadata": {
        "id": "jZjunc9L_hgF"
      }
    },
    {
      "cell_type": "code",
      "source": [
        "newtons_method(f,fprime,0,10)"
      ],
      "metadata": {
        "colab": {
          "base_uri": "https://localhost:8080/"
        },
        "id": "ksxmMC-X_JHZ",
        "outputId": "a264e884-180e-42d3-dc4d-a6a0070ae1ba"
      },
      "execution_count": 20,
      "outputs": [
        {
          "output_type": "execute_result",
          "data": {
            "text/plain": [
              "0.32768450259607224"
            ]
          },
          "metadata": {},
          "execution_count": 20
        }
      ]
    },
    {
      "cell_type": "markdown",
      "source": [
        "1a(i): Now create a table to help determine the order of convergence for Newton's method"
      ],
      "metadata": {
        "id": "vXuSZPYa_5Yy"
      }
    },
    {
      "cell_type": "code",
      "source": [
        "import pandas as pd\n",
        "table = pd.DataFrame(columns = ['n', 'pn','en', 'en/(en-1)', 'en/(en-1)^2', 'en/(en-1)^3'])"
      ],
      "metadata": {
        "id": "MH3SCZ4fAVqa"
      },
      "execution_count": 21,
      "outputs": []
    },
    {
      "cell_type": "code",
      "source": [
        "col1 = [0]\n",
        "col2 = [0]\n",
        "col3 = [1/3]\n",
        "col4 = [\"undefined\"]\n",
        "col5 = [\"undefined\"]\n",
        "col6 = [\"undefined\"]"
      ],
      "metadata": {
        "id": "Tj4v0aruAyVj"
      },
      "execution_count": 22,
      "outputs": []
    },
    {
      "cell_type": "code",
      "source": [
        "for i in range(10):\n",
        "  col1.append(i+1)\n",
        "  p_previous = col2[-1]\n",
        "  next_p = p_previous - (f(p_previous)/fprime(p_previous))\n",
        "  col2.append(next_p)\n",
        "  \n",
        "  error = abs((1/3)-next_p)\n",
        "  previous_error = col3[-1]\n",
        "\n",
        "  col3.append(error)\n",
        "  col4.append(error/previous_error)\n",
        "  col5.append((error)/(previous_error**2))\n",
        "  col6.append((error)/((previous_error**3)))"
      ],
      "metadata": {
        "id": "8oBlCY0lH6Xq"
      },
      "execution_count": 23,
      "outputs": []
    },
    {
      "cell_type": "code",
      "source": [
        "table['n'] = col1\n",
        "table['pn'] = col2\n",
        "table['en'] = col3\n",
        "table['en/(en-1)'] = col4\n",
        "table['en/(en-1)^2'] = col5\n",
        "table['en/(en-1)^3'] = col6"
      ],
      "metadata": {
        "id": "KJ3mHbT1BiPb"
      },
      "execution_count": 24,
      "outputs": []
    },
    {
      "cell_type": "code",
      "source": [
        "table"
      ],
      "metadata": {
        "colab": {
          "base_uri": "https://localhost:8080/",
          "height": 394
        },
        "id": "FugoSxucAxEe",
        "outputId": "3609fb19-c1d6-4131-e98b-ac1679f0ca44"
      },
      "execution_count": 25,
      "outputs": [
        {
          "output_type": "execute_result",
          "data": {
            "text/plain": [
              "     n        pn        en  en/(en-1) en/(en-1)^2  en/(en-1)^3\n",
              "0    0  0.000000  0.333333  undefined   undefined    undefined\n",
              "1    1  0.112903  0.220430    0.66129    1.983871     5.951613\n",
              "2    2  0.187147  0.146186   0.663187    3.008606    13.648799\n",
              "3    3  0.236208  0.097125   0.664391    4.544821    31.089202\n",
              "4    4  0.268729  0.064605   0.665169    6.848583    70.513072\n",
              "5    5  0.290328  0.043006   0.665676   10.303866   159.491443\n",
              "6    6  0.304691  0.028642    0.66601   15.486557   360.104916\n",
              "7    7  0.314251  0.019082    0.66623    23.26044   812.103527\n",
              "8    8  0.320617  0.012716   0.666377   34.921163  1830.027905\n",
              "9    9  0.324858  0.008475   0.666474   52.412181  4121.749051\n",
              "10  10  0.327685  0.005649   0.666538   78.648663  9280.208601"
            ],
            "text/html": [
              "\n",
              "  <div id=\"df-dadff7ef-9a93-4e8f-8b66-f3c3c109c1a1\">\n",
              "    <div class=\"colab-df-container\">\n",
              "      <div>\n",
              "<style scoped>\n",
              "    .dataframe tbody tr th:only-of-type {\n",
              "        vertical-align: middle;\n",
              "    }\n",
              "\n",
              "    .dataframe tbody tr th {\n",
              "        vertical-align: top;\n",
              "    }\n",
              "\n",
              "    .dataframe thead th {\n",
              "        text-align: right;\n",
              "    }\n",
              "</style>\n",
              "<table border=\"1\" class=\"dataframe\">\n",
              "  <thead>\n",
              "    <tr style=\"text-align: right;\">\n",
              "      <th></th>\n",
              "      <th>n</th>\n",
              "      <th>pn</th>\n",
              "      <th>en</th>\n",
              "      <th>en/(en-1)</th>\n",
              "      <th>en/(en-1)^2</th>\n",
              "      <th>en/(en-1)^3</th>\n",
              "    </tr>\n",
              "  </thead>\n",
              "  <tbody>\n",
              "    <tr>\n",
              "      <th>0</th>\n",
              "      <td>0</td>\n",
              "      <td>0.000000</td>\n",
              "      <td>0.333333</td>\n",
              "      <td>undefined</td>\n",
              "      <td>undefined</td>\n",
              "      <td>undefined</td>\n",
              "    </tr>\n",
              "    <tr>\n",
              "      <th>1</th>\n",
              "      <td>1</td>\n",
              "      <td>0.112903</td>\n",
              "      <td>0.220430</td>\n",
              "      <td>0.66129</td>\n",
              "      <td>1.983871</td>\n",
              "      <td>5.951613</td>\n",
              "    </tr>\n",
              "    <tr>\n",
              "      <th>2</th>\n",
              "      <td>2</td>\n",
              "      <td>0.187147</td>\n",
              "      <td>0.146186</td>\n",
              "      <td>0.663187</td>\n",
              "      <td>3.008606</td>\n",
              "      <td>13.648799</td>\n",
              "    </tr>\n",
              "    <tr>\n",
              "      <th>3</th>\n",
              "      <td>3</td>\n",
              "      <td>0.236208</td>\n",
              "      <td>0.097125</td>\n",
              "      <td>0.664391</td>\n",
              "      <td>4.544821</td>\n",
              "      <td>31.089202</td>\n",
              "    </tr>\n",
              "    <tr>\n",
              "      <th>4</th>\n",
              "      <td>4</td>\n",
              "      <td>0.268729</td>\n",
              "      <td>0.064605</td>\n",
              "      <td>0.665169</td>\n",
              "      <td>6.848583</td>\n",
              "      <td>70.513072</td>\n",
              "    </tr>\n",
              "    <tr>\n",
              "      <th>5</th>\n",
              "      <td>5</td>\n",
              "      <td>0.290328</td>\n",
              "      <td>0.043006</td>\n",
              "      <td>0.665676</td>\n",
              "      <td>10.303866</td>\n",
              "      <td>159.491443</td>\n",
              "    </tr>\n",
              "    <tr>\n",
              "      <th>6</th>\n",
              "      <td>6</td>\n",
              "      <td>0.304691</td>\n",
              "      <td>0.028642</td>\n",
              "      <td>0.66601</td>\n",
              "      <td>15.486557</td>\n",
              "      <td>360.104916</td>\n",
              "    </tr>\n",
              "    <tr>\n",
              "      <th>7</th>\n",
              "      <td>7</td>\n",
              "      <td>0.314251</td>\n",
              "      <td>0.019082</td>\n",
              "      <td>0.66623</td>\n",
              "      <td>23.26044</td>\n",
              "      <td>812.103527</td>\n",
              "    </tr>\n",
              "    <tr>\n",
              "      <th>8</th>\n",
              "      <td>8</td>\n",
              "      <td>0.320617</td>\n",
              "      <td>0.012716</td>\n",
              "      <td>0.666377</td>\n",
              "      <td>34.921163</td>\n",
              "      <td>1830.027905</td>\n",
              "    </tr>\n",
              "    <tr>\n",
              "      <th>9</th>\n",
              "      <td>9</td>\n",
              "      <td>0.324858</td>\n",
              "      <td>0.008475</td>\n",
              "      <td>0.666474</td>\n",
              "      <td>52.412181</td>\n",
              "      <td>4121.749051</td>\n",
              "    </tr>\n",
              "    <tr>\n",
              "      <th>10</th>\n",
              "      <td>10</td>\n",
              "      <td>0.327685</td>\n",
              "      <td>0.005649</td>\n",
              "      <td>0.666538</td>\n",
              "      <td>78.648663</td>\n",
              "      <td>9280.208601</td>\n",
              "    </tr>\n",
              "  </tbody>\n",
              "</table>\n",
              "</div>\n",
              "      <button class=\"colab-df-convert\" onclick=\"convertToInteractive('df-dadff7ef-9a93-4e8f-8b66-f3c3c109c1a1')\"\n",
              "              title=\"Convert this dataframe to an interactive table.\"\n",
              "              style=\"display:none;\">\n",
              "        \n",
              "  <svg xmlns=\"http://www.w3.org/2000/svg\" height=\"24px\"viewBox=\"0 0 24 24\"\n",
              "       width=\"24px\">\n",
              "    <path d=\"M0 0h24v24H0V0z\" fill=\"none\"/>\n",
              "    <path d=\"M18.56 5.44l.94 2.06.94-2.06 2.06-.94-2.06-.94-.94-2.06-.94 2.06-2.06.94zm-11 1L8.5 8.5l.94-2.06 2.06-.94-2.06-.94L8.5 2.5l-.94 2.06-2.06.94zm10 10l.94 2.06.94-2.06 2.06-.94-2.06-.94-.94-2.06-.94 2.06-2.06.94z\"/><path d=\"M17.41 7.96l-1.37-1.37c-.4-.4-.92-.59-1.43-.59-.52 0-1.04.2-1.43.59L10.3 9.45l-7.72 7.72c-.78.78-.78 2.05 0 2.83L4 21.41c.39.39.9.59 1.41.59.51 0 1.02-.2 1.41-.59l7.78-7.78 2.81-2.81c.8-.78.8-2.07 0-2.86zM5.41 20L4 18.59l7.72-7.72 1.47 1.35L5.41 20z\"/>\n",
              "  </svg>\n",
              "      </button>\n",
              "      \n",
              "  <style>\n",
              "    .colab-df-container {\n",
              "      display:flex;\n",
              "      flex-wrap:wrap;\n",
              "      gap: 12px;\n",
              "    }\n",
              "\n",
              "    .colab-df-convert {\n",
              "      background-color: #E8F0FE;\n",
              "      border: none;\n",
              "      border-radius: 50%;\n",
              "      cursor: pointer;\n",
              "      display: none;\n",
              "      fill: #1967D2;\n",
              "      height: 32px;\n",
              "      padding: 0 0 0 0;\n",
              "      width: 32px;\n",
              "    }\n",
              "\n",
              "    .colab-df-convert:hover {\n",
              "      background-color: #E2EBFA;\n",
              "      box-shadow: 0px 1px 2px rgba(60, 64, 67, 0.3), 0px 1px 3px 1px rgba(60, 64, 67, 0.15);\n",
              "      fill: #174EA6;\n",
              "    }\n",
              "\n",
              "    [theme=dark] .colab-df-convert {\n",
              "      background-color: #3B4455;\n",
              "      fill: #D2E3FC;\n",
              "    }\n",
              "\n",
              "    [theme=dark] .colab-df-convert:hover {\n",
              "      background-color: #434B5C;\n",
              "      box-shadow: 0px 1px 3px 1px rgba(0, 0, 0, 0.15);\n",
              "      filter: drop-shadow(0px 1px 2px rgba(0, 0, 0, 0.3));\n",
              "      fill: #FFFFFF;\n",
              "    }\n",
              "  </style>\n",
              "\n",
              "      <script>\n",
              "        const buttonEl =\n",
              "          document.querySelector('#df-dadff7ef-9a93-4e8f-8b66-f3c3c109c1a1 button.colab-df-convert');\n",
              "        buttonEl.style.display =\n",
              "          google.colab.kernel.accessAllowed ? 'block' : 'none';\n",
              "\n",
              "        async function convertToInteractive(key) {\n",
              "          const element = document.querySelector('#df-dadff7ef-9a93-4e8f-8b66-f3c3c109c1a1');\n",
              "          const dataTable =\n",
              "            await google.colab.kernel.invokeFunction('convertToInteractive',\n",
              "                                                     [key], {});\n",
              "          if (!dataTable) return;\n",
              "\n",
              "          const docLinkHtml = 'Like what you see? Visit the ' +\n",
              "            '<a target=\"_blank\" href=https://colab.research.google.com/notebooks/data_table.ipynb>data table notebook</a>'\n",
              "            + ' to learn more about interactive tables.';\n",
              "          element.innerHTML = '';\n",
              "          dataTable['output_type'] = 'display_data';\n",
              "          await google.colab.output.renderOutput(dataTable, element);\n",
              "          const docLink = document.createElement('div');\n",
              "          docLink.innerHTML = docLinkHtml;\n",
              "          element.appendChild(docLink);\n",
              "        }\n",
              "      </script>\n",
              "    </div>\n",
              "  </div>\n",
              "  "
            ]
          },
          "metadata": {},
          "execution_count": 25
        }
      ]
    },
    {
      "cell_type": "markdown",
      "source": [
        "# Problem 1b:"
      ],
      "metadata": {
        "id": "VG8HM_xxJOjF"
      }
    },
    {
      "cell_type": "code",
      "source": [
        "#using a modified version of Newton's method now"
      ],
      "metadata": {
        "id": "_x2b5lUGJRYU"
      },
      "execution_count": 36,
      "outputs": []
    },
    {
      "cell_type": "code",
      "source": [
        "def modified_newton(function, derivative, p, iterations):\n",
        "  for i in range(iterations):\n",
        "    next_p = p - (3*(f(p)/fprime(p)))\n",
        "    p = next_p\n",
        "  return p"
      ],
      "metadata": {
        "id": "vM1gnv7aKy21"
      },
      "execution_count": 37,
      "outputs": []
    },
    {
      "cell_type": "code",
      "source": [
        "modified_newton(f, fprime, 0, 10)"
      ],
      "metadata": {
        "colab": {
          "base_uri": "https://localhost:8080/"
        },
        "id": "9CMUe0UcK3U9",
        "outputId": "721f4f50-53a0-4c20-fb9e-3d2788e0b617"
      },
      "execution_count": 38,
      "outputs": [
        {
          "output_type": "execute_result",
          "data": {
            "text/plain": [
              "0.3333329873212111"
            ]
          },
          "metadata": {},
          "execution_count": 38
        }
      ]
    },
    {
      "cell_type": "code",
      "source": [
        "column1 = [0]\n",
        "column2 = [0]\n",
        "column3 = [1/3]\n",
        "column4 = [\"undefined\"]\n",
        "column5 = [\"undefined\"]\n",
        "column6 = [\"undefined\"]"
      ],
      "metadata": {
        "id": "NpSdabgvKB3c"
      },
      "execution_count": 39,
      "outputs": []
    },
    {
      "cell_type": "code",
      "source": [
        "for i in range(10):\n",
        "  column1.append(i+1)\n",
        "  p_previous = col2[-1]\n",
        "  next_p = p_previous - (3*(f(p_previous)/fprime(p_previous)))\n",
        "  column2.append(next_p)\n",
        "  \n",
        "  error = abs((1/3)-next_p)\n",
        "  previous_error = column3[-1]\n",
        "\n",
        "  column3.append(error)\n",
        "  column4.append(error/previous_error)\n",
        "  column5.append((error)/(previous_error**2))\n",
        "  column6.append((error)/((previous_error**3)))"
      ],
      "metadata": {
        "id": "fiu-w4CGJ1-F"
      },
      "execution_count": 40,
      "outputs": []
    },
    {
      "cell_type": "code",
      "source": [
        "table2 = pd.DataFrame(columns = ['n', 'pn','en', 'en/(en-1)', 'en/(en-1)^2', 'en/(en-1)^3'])"
      ],
      "metadata": {
        "id": "TCfcpOExKXJ1"
      },
      "execution_count": 41,
      "outputs": []
    },
    {
      "cell_type": "code",
      "source": [
        "table2['n'] = column1\n",
        "table2['pn'] = column2\n",
        "table2['en'] = column3\n",
        "table2['en/(en-1)'] = column4\n",
        "table2['en/(en-1)^2'] = column5\n",
        "table2['en/(en-1)^3'] = column6"
      ],
      "metadata": {
        "id": "NCRx9_FqLLZm"
      },
      "execution_count": 43,
      "outputs": []
    },
    {
      "cell_type": "code",
      "source": [
        "table2"
      ],
      "metadata": {
        "colab": {
          "base_uri": "https://localhost:8080/",
          "height": 394
        },
        "id": "AfwV3j-HKZkV",
        "outputId": "16b0833c-be3a-435f-bdbb-b7eb7ca6002c"
      },
      "execution_count": 44,
      "outputs": [
        {
          "output_type": "execute_result",
          "data": {
            "text/plain": [
              "     n        pn        en  en/(en-1)    en/(en-1)^2          en/(en-1)^3\n",
              "0    0  0.000000  0.333333  undefined      undefined            undefined\n",
              "1    1  0.333335  0.000001   0.000004       0.000013             0.000039\n",
              "2    2  0.333335  0.000001        1.0  688746.240045  474371383176.308105\n",
              "3    3  0.333335  0.000001        1.0  688746.240045  474371383176.308105\n",
              "4    4  0.333335  0.000001        1.0  688746.240045  474371383176.308105\n",
              "5    5  0.333335  0.000001        1.0  688746.240045  474371383176.308105\n",
              "6    6  0.333335  0.000001        1.0  688746.240045  474371383176.308105\n",
              "7    7  0.333335  0.000001        1.0  688746.240045  474371383176.308105\n",
              "8    8  0.333335  0.000001        1.0  688746.240045  474371383176.308105\n",
              "9    9  0.333335  0.000001        1.0  688746.240045  474371383176.308105\n",
              "10  10  0.333335  0.000001        1.0  688746.240045  474371383176.308105"
            ],
            "text/html": [
              "\n",
              "  <div id=\"df-c2a47cdf-240d-4eb4-9491-e19d971f88b8\">\n",
              "    <div class=\"colab-df-container\">\n",
              "      <div>\n",
              "<style scoped>\n",
              "    .dataframe tbody tr th:only-of-type {\n",
              "        vertical-align: middle;\n",
              "    }\n",
              "\n",
              "    .dataframe tbody tr th {\n",
              "        vertical-align: top;\n",
              "    }\n",
              "\n",
              "    .dataframe thead th {\n",
              "        text-align: right;\n",
              "    }\n",
              "</style>\n",
              "<table border=\"1\" class=\"dataframe\">\n",
              "  <thead>\n",
              "    <tr style=\"text-align: right;\">\n",
              "      <th></th>\n",
              "      <th>n</th>\n",
              "      <th>pn</th>\n",
              "      <th>en</th>\n",
              "      <th>en/(en-1)</th>\n",
              "      <th>en/(en-1)^2</th>\n",
              "      <th>en/(en-1)^3</th>\n",
              "    </tr>\n",
              "  </thead>\n",
              "  <tbody>\n",
              "    <tr>\n",
              "      <th>0</th>\n",
              "      <td>0</td>\n",
              "      <td>0.000000</td>\n",
              "      <td>0.333333</td>\n",
              "      <td>undefined</td>\n",
              "      <td>undefined</td>\n",
              "      <td>undefined</td>\n",
              "    </tr>\n",
              "    <tr>\n",
              "      <th>1</th>\n",
              "      <td>1</td>\n",
              "      <td>0.333335</td>\n",
              "      <td>0.000001</td>\n",
              "      <td>0.000004</td>\n",
              "      <td>0.000013</td>\n",
              "      <td>0.000039</td>\n",
              "    </tr>\n",
              "    <tr>\n",
              "      <th>2</th>\n",
              "      <td>2</td>\n",
              "      <td>0.333335</td>\n",
              "      <td>0.000001</td>\n",
              "      <td>1.0</td>\n",
              "      <td>688746.240045</td>\n",
              "      <td>474371383176.308105</td>\n",
              "    </tr>\n",
              "    <tr>\n",
              "      <th>3</th>\n",
              "      <td>3</td>\n",
              "      <td>0.333335</td>\n",
              "      <td>0.000001</td>\n",
              "      <td>1.0</td>\n",
              "      <td>688746.240045</td>\n",
              "      <td>474371383176.308105</td>\n",
              "    </tr>\n",
              "    <tr>\n",
              "      <th>4</th>\n",
              "      <td>4</td>\n",
              "      <td>0.333335</td>\n",
              "      <td>0.000001</td>\n",
              "      <td>1.0</td>\n",
              "      <td>688746.240045</td>\n",
              "      <td>474371383176.308105</td>\n",
              "    </tr>\n",
              "    <tr>\n",
              "      <th>5</th>\n",
              "      <td>5</td>\n",
              "      <td>0.333335</td>\n",
              "      <td>0.000001</td>\n",
              "      <td>1.0</td>\n",
              "      <td>688746.240045</td>\n",
              "      <td>474371383176.308105</td>\n",
              "    </tr>\n",
              "    <tr>\n",
              "      <th>6</th>\n",
              "      <td>6</td>\n",
              "      <td>0.333335</td>\n",
              "      <td>0.000001</td>\n",
              "      <td>1.0</td>\n",
              "      <td>688746.240045</td>\n",
              "      <td>474371383176.308105</td>\n",
              "    </tr>\n",
              "    <tr>\n",
              "      <th>7</th>\n",
              "      <td>7</td>\n",
              "      <td>0.333335</td>\n",
              "      <td>0.000001</td>\n",
              "      <td>1.0</td>\n",
              "      <td>688746.240045</td>\n",
              "      <td>474371383176.308105</td>\n",
              "    </tr>\n",
              "    <tr>\n",
              "      <th>8</th>\n",
              "      <td>8</td>\n",
              "      <td>0.333335</td>\n",
              "      <td>0.000001</td>\n",
              "      <td>1.0</td>\n",
              "      <td>688746.240045</td>\n",
              "      <td>474371383176.308105</td>\n",
              "    </tr>\n",
              "    <tr>\n",
              "      <th>9</th>\n",
              "      <td>9</td>\n",
              "      <td>0.333335</td>\n",
              "      <td>0.000001</td>\n",
              "      <td>1.0</td>\n",
              "      <td>688746.240045</td>\n",
              "      <td>474371383176.308105</td>\n",
              "    </tr>\n",
              "    <tr>\n",
              "      <th>10</th>\n",
              "      <td>10</td>\n",
              "      <td>0.333335</td>\n",
              "      <td>0.000001</td>\n",
              "      <td>1.0</td>\n",
              "      <td>688746.240045</td>\n",
              "      <td>474371383176.308105</td>\n",
              "    </tr>\n",
              "  </tbody>\n",
              "</table>\n",
              "</div>\n",
              "      <button class=\"colab-df-convert\" onclick=\"convertToInteractive('df-c2a47cdf-240d-4eb4-9491-e19d971f88b8')\"\n",
              "              title=\"Convert this dataframe to an interactive table.\"\n",
              "              style=\"display:none;\">\n",
              "        \n",
              "  <svg xmlns=\"http://www.w3.org/2000/svg\" height=\"24px\"viewBox=\"0 0 24 24\"\n",
              "       width=\"24px\">\n",
              "    <path d=\"M0 0h24v24H0V0z\" fill=\"none\"/>\n",
              "    <path d=\"M18.56 5.44l.94 2.06.94-2.06 2.06-.94-2.06-.94-.94-2.06-.94 2.06-2.06.94zm-11 1L8.5 8.5l.94-2.06 2.06-.94-2.06-.94L8.5 2.5l-.94 2.06-2.06.94zm10 10l.94 2.06.94-2.06 2.06-.94-2.06-.94-.94-2.06-.94 2.06-2.06.94z\"/><path d=\"M17.41 7.96l-1.37-1.37c-.4-.4-.92-.59-1.43-.59-.52 0-1.04.2-1.43.59L10.3 9.45l-7.72 7.72c-.78.78-.78 2.05 0 2.83L4 21.41c.39.39.9.59 1.41.59.51 0 1.02-.2 1.41-.59l7.78-7.78 2.81-2.81c.8-.78.8-2.07 0-2.86zM5.41 20L4 18.59l7.72-7.72 1.47 1.35L5.41 20z\"/>\n",
              "  </svg>\n",
              "      </button>\n",
              "      \n",
              "  <style>\n",
              "    .colab-df-container {\n",
              "      display:flex;\n",
              "      flex-wrap:wrap;\n",
              "      gap: 12px;\n",
              "    }\n",
              "\n",
              "    .colab-df-convert {\n",
              "      background-color: #E8F0FE;\n",
              "      border: none;\n",
              "      border-radius: 50%;\n",
              "      cursor: pointer;\n",
              "      display: none;\n",
              "      fill: #1967D2;\n",
              "      height: 32px;\n",
              "      padding: 0 0 0 0;\n",
              "      width: 32px;\n",
              "    }\n",
              "\n",
              "    .colab-df-convert:hover {\n",
              "      background-color: #E2EBFA;\n",
              "      box-shadow: 0px 1px 2px rgba(60, 64, 67, 0.3), 0px 1px 3px 1px rgba(60, 64, 67, 0.15);\n",
              "      fill: #174EA6;\n",
              "    }\n",
              "\n",
              "    [theme=dark] .colab-df-convert {\n",
              "      background-color: #3B4455;\n",
              "      fill: #D2E3FC;\n",
              "    }\n",
              "\n",
              "    [theme=dark] .colab-df-convert:hover {\n",
              "      background-color: #434B5C;\n",
              "      box-shadow: 0px 1px 3px 1px rgba(0, 0, 0, 0.15);\n",
              "      filter: drop-shadow(0px 1px 2px rgba(0, 0, 0, 0.3));\n",
              "      fill: #FFFFFF;\n",
              "    }\n",
              "  </style>\n",
              "\n",
              "      <script>\n",
              "        const buttonEl =\n",
              "          document.querySelector('#df-c2a47cdf-240d-4eb4-9491-e19d971f88b8 button.colab-df-convert');\n",
              "        buttonEl.style.display =\n",
              "          google.colab.kernel.accessAllowed ? 'block' : 'none';\n",
              "\n",
              "        async function convertToInteractive(key) {\n",
              "          const element = document.querySelector('#df-c2a47cdf-240d-4eb4-9491-e19d971f88b8');\n",
              "          const dataTable =\n",
              "            await google.colab.kernel.invokeFunction('convertToInteractive',\n",
              "                                                     [key], {});\n",
              "          if (!dataTable) return;\n",
              "\n",
              "          const docLinkHtml = 'Like what you see? Visit the ' +\n",
              "            '<a target=\"_blank\" href=https://colab.research.google.com/notebooks/data_table.ipynb>data table notebook</a>'\n",
              "            + ' to learn more about interactive tables.';\n",
              "          element.innerHTML = '';\n",
              "          dataTable['output_type'] = 'display_data';\n",
              "          await google.colab.output.renderOutput(dataTable, element);\n",
              "          const docLink = document.createElement('div');\n",
              "          docLink.innerHTML = docLinkHtml;\n",
              "          element.appendChild(docLink);\n",
              "        }\n",
              "      </script>\n",
              "    </div>\n",
              "  </div>\n",
              "  "
            ]
          },
          "metadata": {},
          "execution_count": 44
        }
      ]
    },
    {
      "cell_type": "markdown",
      "source": [
        "# Problem 2b:"
      ],
      "metadata": {
        "id": "xpVzZ_zewf2b"
      }
    },
    {
      "cell_type": "code",
      "source": [
        "import numpy as np"
      ],
      "metadata": {
        "id": "lP-mh3JawjIS"
      },
      "execution_count": 27,
      "outputs": []
    },
    {
      "cell_type": "code",
      "source": [
        "def fp_iteration(x):\n",
        "  return np.cos(x)"
      ],
      "metadata": {
        "id": "lUIGTVX7wmkE"
      },
      "execution_count": 28,
      "outputs": []
    },
    {
      "cell_type": "code",
      "source": [
        "#set po to 0.5 as instructed\n",
        "p_inital = 0.5\n",
        "pn = p_inital\n",
        "\n",
        "iterations = 0\n",
        "#initialize absolute error to a large number so that while loop is able to run for the first time\n",
        "absolute_error = 100\n",
        "\n",
        "\n",
        "while absolute_error > (1e-7):\n",
        "  pn = fp_iteration(pn)\n",
        "  absolute_error = abs(pn - 0.7390851332)\n",
        "  #keep track of the number of iterations and print it after the while loop finishes\n",
        "  iterations +=1\n",
        "print('Number of Iterations Required: ', iterations)"
      ],
      "metadata": {
        "colab": {
          "base_uri": "https://localhost:8080/"
        },
        "id": "B1xuVWjVw-_h",
        "outputId": "27f4e058-bb59-4bf8-cfc5-b3fe58cdf9ce"
      },
      "execution_count": 29,
      "outputs": [
        {
          "output_type": "stream",
          "name": "stdout",
          "text": [
            "Number of Iterations Required:  37\n"
          ]
        }
      ]
    },
    {
      "cell_type": "markdown",
      "source": [
        "# Problem 3c:"
      ],
      "metadata": {
        "id": "3wzk_JwKmGSX"
      }
    },
    {
      "cell_type": "code",
      "source": [
        "n = [0,1,2,3,4,5,6]\n",
        "p = [0.20]\n",
        "en = [0.30]\n",
        "linear = ['undefined']\n",
        "quad = ['undefined']\n",
        "cubic = ['undefined']"
      ],
      "metadata": {
        "id": "NeD6chzbmer9"
      },
      "execution_count": 30,
      "outputs": []
    },
    {
      "cell_type": "code",
      "source": [
        "def g(x):\n",
        "  return ((2*x) - (2*(x**2)))"
      ],
      "metadata": {
        "id": "dUxWVPLwmLmN"
      },
      "execution_count": 31,
      "outputs": []
    },
    {
      "cell_type": "code",
      "source": [
        "for i in range(6):\n",
        "  p_previous = p[-1]\n",
        "  pn = g(p_previous)\n",
        "  p.append(pn)\n",
        "  \n",
        "  error = 0.5-pn\n",
        "  previous_error = en[-1]\n",
        "\n",
        "  en.append(error)\n",
        "  linear.append(error/previous_error)\n",
        "  quad.append((error)/(previous_error**2))\n",
        "  cubic.append((error)/((previous_error**3)))"
      ],
      "metadata": {
        "id": "0Sc02kGQmeWF"
      },
      "execution_count": 32,
      "outputs": []
    },
    {
      "cell_type": "code",
      "source": [
        "results = pd.DataFrame(columns = ['n','pn','en', 'en/(en-1)', 'en/(en-1)^2', 'en/(en-1)^3'])"
      ],
      "metadata": {
        "id": "lztDeVpyn7kl"
      },
      "execution_count": 33,
      "outputs": []
    },
    {
      "cell_type": "code",
      "source": [
        "results['n'] = n\n",
        "results['pn'] = p\n",
        "results['en'] = en\n",
        "results['en/(en-1)'] = linear\n",
        "results['en/(en-1)^2'] = quad\n",
        "results['en/(en-1)^3'] = cubic"
      ],
      "metadata": {
        "id": "whPQrOnJoCTV"
      },
      "execution_count": 34,
      "outputs": []
    },
    {
      "cell_type": "markdown",
      "source": [
        "Perform 7 iterations of the fixed point iteration and look at results:\n",
        "\n",
        "*  We have shown that pn converges to 0.5.\n",
        "\n",
        "*   Looking at the en/(en-1)^2 column in the results Dataframe as well affirms that the convergence is quadratic (of order 2) and converges to a lambda value of 2 as expected from the result of theorem.\n",
        "\n",
        "\n",
        "\n"
      ],
      "metadata": {
        "id": "ebbE4y5Sq-D-"
      }
    },
    {
      "cell_type": "code",
      "source": [
        "results"
      ],
      "metadata": {
        "colab": {
          "base_uri": "https://localhost:8080/",
          "height": 269
        },
        "id": "ClidlQYio51K",
        "outputId": "f7e1bebf-1f3e-4d27-dd4b-ff9513e29abe"
      },
      "execution_count": 35,
      "outputs": [
        {
          "output_type": "execute_result",
          "data": {
            "text/plain": [
              "   n        pn            en  en/(en-1) en/(en-1)^2      en/(en-1)^3\n",
              "0  0  0.200000  3.000000e-01  undefined   undefined        undefined\n",
              "1  1  0.320000  1.800000e-01        0.6         2.0         6.666667\n",
              "2  2  0.435200  6.480000e-02       0.36         2.0        11.111111\n",
              "3  3  0.491602  8.398080e-03     0.1296         2.0        30.864198\n",
              "4  4  0.499859  1.410555e-04   0.016796         2.0       238.149672\n",
              "5  5  0.500000  3.979331e-08   0.000282         2.0     14178.816601\n",
              "6  6  0.500000  3.164136e-15        0.0    1.998182  50214025.676079"
            ],
            "text/html": [
              "\n",
              "  <div id=\"df-27a1edda-7981-4c48-ad09-a8d275bd0c39\">\n",
              "    <div class=\"colab-df-container\">\n",
              "      <div>\n",
              "<style scoped>\n",
              "    .dataframe tbody tr th:only-of-type {\n",
              "        vertical-align: middle;\n",
              "    }\n",
              "\n",
              "    .dataframe tbody tr th {\n",
              "        vertical-align: top;\n",
              "    }\n",
              "\n",
              "    .dataframe thead th {\n",
              "        text-align: right;\n",
              "    }\n",
              "</style>\n",
              "<table border=\"1\" class=\"dataframe\">\n",
              "  <thead>\n",
              "    <tr style=\"text-align: right;\">\n",
              "      <th></th>\n",
              "      <th>n</th>\n",
              "      <th>pn</th>\n",
              "      <th>en</th>\n",
              "      <th>en/(en-1)</th>\n",
              "      <th>en/(en-1)^2</th>\n",
              "      <th>en/(en-1)^3</th>\n",
              "    </tr>\n",
              "  </thead>\n",
              "  <tbody>\n",
              "    <tr>\n",
              "      <th>0</th>\n",
              "      <td>0</td>\n",
              "      <td>0.200000</td>\n",
              "      <td>3.000000e-01</td>\n",
              "      <td>undefined</td>\n",
              "      <td>undefined</td>\n",
              "      <td>undefined</td>\n",
              "    </tr>\n",
              "    <tr>\n",
              "      <th>1</th>\n",
              "      <td>1</td>\n",
              "      <td>0.320000</td>\n",
              "      <td>1.800000e-01</td>\n",
              "      <td>0.6</td>\n",
              "      <td>2.0</td>\n",
              "      <td>6.666667</td>\n",
              "    </tr>\n",
              "    <tr>\n",
              "      <th>2</th>\n",
              "      <td>2</td>\n",
              "      <td>0.435200</td>\n",
              "      <td>6.480000e-02</td>\n",
              "      <td>0.36</td>\n",
              "      <td>2.0</td>\n",
              "      <td>11.111111</td>\n",
              "    </tr>\n",
              "    <tr>\n",
              "      <th>3</th>\n",
              "      <td>3</td>\n",
              "      <td>0.491602</td>\n",
              "      <td>8.398080e-03</td>\n",
              "      <td>0.1296</td>\n",
              "      <td>2.0</td>\n",
              "      <td>30.864198</td>\n",
              "    </tr>\n",
              "    <tr>\n",
              "      <th>4</th>\n",
              "      <td>4</td>\n",
              "      <td>0.499859</td>\n",
              "      <td>1.410555e-04</td>\n",
              "      <td>0.016796</td>\n",
              "      <td>2.0</td>\n",
              "      <td>238.149672</td>\n",
              "    </tr>\n",
              "    <tr>\n",
              "      <th>5</th>\n",
              "      <td>5</td>\n",
              "      <td>0.500000</td>\n",
              "      <td>3.979331e-08</td>\n",
              "      <td>0.000282</td>\n",
              "      <td>2.0</td>\n",
              "      <td>14178.816601</td>\n",
              "    </tr>\n",
              "    <tr>\n",
              "      <th>6</th>\n",
              "      <td>6</td>\n",
              "      <td>0.500000</td>\n",
              "      <td>3.164136e-15</td>\n",
              "      <td>0.0</td>\n",
              "      <td>1.998182</td>\n",
              "      <td>50214025.676079</td>\n",
              "    </tr>\n",
              "  </tbody>\n",
              "</table>\n",
              "</div>\n",
              "      <button class=\"colab-df-convert\" onclick=\"convertToInteractive('df-27a1edda-7981-4c48-ad09-a8d275bd0c39')\"\n",
              "              title=\"Convert this dataframe to an interactive table.\"\n",
              "              style=\"display:none;\">\n",
              "        \n",
              "  <svg xmlns=\"http://www.w3.org/2000/svg\" height=\"24px\"viewBox=\"0 0 24 24\"\n",
              "       width=\"24px\">\n",
              "    <path d=\"M0 0h24v24H0V0z\" fill=\"none\"/>\n",
              "    <path d=\"M18.56 5.44l.94 2.06.94-2.06 2.06-.94-2.06-.94-.94-2.06-.94 2.06-2.06.94zm-11 1L8.5 8.5l.94-2.06 2.06-.94-2.06-.94L8.5 2.5l-.94 2.06-2.06.94zm10 10l.94 2.06.94-2.06 2.06-.94-2.06-.94-.94-2.06-.94 2.06-2.06.94z\"/><path d=\"M17.41 7.96l-1.37-1.37c-.4-.4-.92-.59-1.43-.59-.52 0-1.04.2-1.43.59L10.3 9.45l-7.72 7.72c-.78.78-.78 2.05 0 2.83L4 21.41c.39.39.9.59 1.41.59.51 0 1.02-.2 1.41-.59l7.78-7.78 2.81-2.81c.8-.78.8-2.07 0-2.86zM5.41 20L4 18.59l7.72-7.72 1.47 1.35L5.41 20z\"/>\n",
              "  </svg>\n",
              "      </button>\n",
              "      \n",
              "  <style>\n",
              "    .colab-df-container {\n",
              "      display:flex;\n",
              "      flex-wrap:wrap;\n",
              "      gap: 12px;\n",
              "    }\n",
              "\n",
              "    .colab-df-convert {\n",
              "      background-color: #E8F0FE;\n",
              "      border: none;\n",
              "      border-radius: 50%;\n",
              "      cursor: pointer;\n",
              "      display: none;\n",
              "      fill: #1967D2;\n",
              "      height: 32px;\n",
              "      padding: 0 0 0 0;\n",
              "      width: 32px;\n",
              "    }\n",
              "\n",
              "    .colab-df-convert:hover {\n",
              "      background-color: #E2EBFA;\n",
              "      box-shadow: 0px 1px 2px rgba(60, 64, 67, 0.3), 0px 1px 3px 1px rgba(60, 64, 67, 0.15);\n",
              "      fill: #174EA6;\n",
              "    }\n",
              "\n",
              "    [theme=dark] .colab-df-convert {\n",
              "      background-color: #3B4455;\n",
              "      fill: #D2E3FC;\n",
              "    }\n",
              "\n",
              "    [theme=dark] .colab-df-convert:hover {\n",
              "      background-color: #434B5C;\n",
              "      box-shadow: 0px 1px 3px 1px rgba(0, 0, 0, 0.15);\n",
              "      filter: drop-shadow(0px 1px 2px rgba(0, 0, 0, 0.3));\n",
              "      fill: #FFFFFF;\n",
              "    }\n",
              "  </style>\n",
              "\n",
              "      <script>\n",
              "        const buttonEl =\n",
              "          document.querySelector('#df-27a1edda-7981-4c48-ad09-a8d275bd0c39 button.colab-df-convert');\n",
              "        buttonEl.style.display =\n",
              "          google.colab.kernel.accessAllowed ? 'block' : 'none';\n",
              "\n",
              "        async function convertToInteractive(key) {\n",
              "          const element = document.querySelector('#df-27a1edda-7981-4c48-ad09-a8d275bd0c39');\n",
              "          const dataTable =\n",
              "            await google.colab.kernel.invokeFunction('convertToInteractive',\n",
              "                                                     [key], {});\n",
              "          if (!dataTable) return;\n",
              "\n",
              "          const docLinkHtml = 'Like what you see? Visit the ' +\n",
              "            '<a target=\"_blank\" href=https://colab.research.google.com/notebooks/data_table.ipynb>data table notebook</a>'\n",
              "            + ' to learn more about interactive tables.';\n",
              "          element.innerHTML = '';\n",
              "          dataTable['output_type'] = 'display_data';\n",
              "          await google.colab.output.renderOutput(dataTable, element);\n",
              "          const docLink = document.createElement('div');\n",
              "          docLink.innerHTML = docLinkHtml;\n",
              "          element.appendChild(docLink);\n",
              "        }\n",
              "      </script>\n",
              "    </div>\n",
              "  </div>\n",
              "  "
            ]
          },
          "metadata": {},
          "execution_count": 35
        }
      ]
    }
  ]
}