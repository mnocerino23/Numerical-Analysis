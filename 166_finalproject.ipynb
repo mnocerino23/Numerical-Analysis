{
  "nbformat": 4,
  "nbformat_minor": 0,
  "metadata": {
    "colab": {
      "provenance": [],
      "authorship_tag": "ABX9TyOr1Tg49eZ+ai9S1FZaJnm1",
      "include_colab_link": true
    },
    "kernelspec": {
      "name": "python3",
      "display_name": "Python 3"
    },
    "language_info": {
      "name": "python"
    }
  },
  "cells": [
    {
      "cell_type": "markdown",
      "metadata": {
        "id": "view-in-github",
        "colab_type": "text"
      },
      "source": [
        "<a href=\"https://colab.research.google.com/github/mnocerino23/Numerical-Analysis/blob/main/166_finalproject.ipynb\" target=\"_parent\"><img src=\"https://colab.research.google.com/assets/colab-badge.svg\" alt=\"Open In Colab\"/></a>"
      ]
    },
    {
      "cell_type": "markdown",
      "source": [
        "# Homework Problems for Aitken's Method"
      ],
      "metadata": {
        "id": "1vGfwekHD-EM"
      }
    },
    {
      "cell_type": "markdown",
      "source": [
        "# Problem 1a"
      ],
      "metadata": {
        "id": "K4FeBvvnHfst"
      }
    },
    {
      "cell_type": "code",
      "execution_count": 1301,
      "metadata": {
        "id": "jkCl1bwqD616"
      },
      "outputs": [],
      "source": [
        "import pandas as pd\n",
        "import numpy as np"
      ]
    },
    {
      "cell_type": "code",
      "source": [
        "#create functions in python for the function f(x) and f'(x)\n",
        "def f(x):\n",
        "  return ((x**3)+(x**2)-(5*x)+3)\n",
        "def fprime(x):\n",
        "  return ((3*(x**2))+(2*x)-5)"
      ],
      "metadata": {
        "id": "VUe_LXzdEry4"
      },
      "execution_count": 1302,
      "outputs": []
    },
    {
      "cell_type": "code",
      "source": [
        "#my newton's method function from HW4\n",
        "def newtons_method(function, derivative, p, iterations):\n",
        "  for i in range(iterations):\n",
        "    next_p = p - (f(p)/fprime(p))\n",
        "    p = next_p\n",
        "  return p"
      ],
      "metadata": {
        "id": "9LzVN6SXFBnx"
      },
      "execution_count": 1303,
      "outputs": []
    },
    {
      "cell_type": "markdown",
      "source": [
        "# Use Newton's method code from HW4 to approximate both roots "
      ],
      "metadata": {
        "id": "H2KeWDm6HrHf"
      }
    },
    {
      "cell_type": "markdown",
      "source": [
        "Root 1 seems to be located at x = 1"
      ],
      "metadata": {
        "id": "LcdaowCubCXV"
      }
    },
    {
      "cell_type": "code",
      "source": [
        "newtons_method(f, fprime, 1.3, 6)"
      ],
      "metadata": {
        "colab": {
          "base_uri": "https://localhost:8080/"
        },
        "id": "k8kGe8JEHx18",
        "outputId": "7d63243f-805d-40e7-c91b-284cbccd49bd"
      },
      "execution_count": 1304,
      "outputs": [
        {
          "output_type": "execute_result",
          "data": {
            "text/plain": [
              "1.0050247139767874"
            ]
          },
          "metadata": {},
          "execution_count": 1304
        }
      ]
    },
    {
      "cell_type": "markdown",
      "source": [
        "Root 2 seems to be located at x = -3. Notice that newton's method only took 3 iterations to accurately approximate this root whereas the root at x = 1 took more iterations"
      ],
      "metadata": {
        "id": "vZwAkC_ybpqA"
      }
    },
    {
      "cell_type": "code",
      "source": [
        "newtons_method(f, fprime, -4, 3)"
      ],
      "metadata": {
        "colab": {
          "base_uri": "https://localhost:8080/"
        },
        "id": "GkQBNZy6ICVe",
        "outputId": "1e48ccdf-aa77-49d4-bb5e-024f1b30d0e8"
      },
      "execution_count": 1305,
      "outputs": [
        {
          "output_type": "execute_result",
          "data": {
            "text/plain": [
              "-3.0005510400881663"
            ]
          },
          "metadata": {},
          "execution_count": 1305
        }
      ]
    },
    {
      "cell_type": "markdown",
      "source": [
        "# Create a table to analyze the order of convergence to both roots"
      ],
      "metadata": {
        "id": "CMIh71KWKYD8"
      }
    },
    {
      "cell_type": "markdown",
      "source": [
        "# Create a table to analyze order of convergence to the root of multiplicty 2 @ x = 1\n"
      ],
      "metadata": {
        "id": "DYPZt_hxKt5b"
      }
    },
    {
      "cell_type": "code",
      "source": [
        "#create a table to analyze order of convergence to the root of multiplicty 2 x = 1\n",
        "import pandas as pd\n",
        "table = pd.DataFrame(columns = ['n', 'pn','en', 'en/(en-1)', 'en/(en-1)^2', 'en/(en-1)^3'])"
      ],
      "metadata": {
        "id": "FeJWKrE-IYHQ"
      },
      "execution_count": 1306,
      "outputs": []
    },
    {
      "cell_type": "code",
      "source": [
        "col1 = [0]\n",
        "col2 = [1.5]\n",
        "col3 = [0.5]\n",
        "col4 = [\"undefined\"]\n",
        "col5 = [\"undefined\"]\n",
        "col6 = [\"undefined\"]"
      ],
      "metadata": {
        "id": "qX7x9jhXIheV"
      },
      "execution_count": 1307,
      "outputs": []
    },
    {
      "cell_type": "code",
      "source": [
        "for i in range(10):\n",
        "  col1.append(i+1)\n",
        "  p_previous = col2[-1]\n",
        "  #each iteration of Newton's method performed by the next_p line\n",
        "  next_p = p_previous - (f(p_previous)/fprime(p_previous))\n",
        "  col2.append(next_p)\n",
        "  \n",
        "  #accepted value of this root is x = 1\n",
        "  error = abs((1)-next_p)\n",
        "  previous_error = col3[-1]\n",
        "\n",
        "  col3.append(error)\n",
        "  col4.append(error/previous_error)\n",
        "  col5.append((error)/(previous_error**2))\n",
        "  col6.append((error)/((previous_error**3)))\n",
        "\n",
        "#populate the table\n",
        "table['n'] = col1\n",
        "table['pn'] = col2\n",
        "table['en'] = col3\n",
        "table['en/(en-1)'] = col4\n",
        "table['en/(en-1)^2'] = col5\n",
        "table['en/(en-1)^3'] = col6"
      ],
      "metadata": {
        "id": "K6a7h66gIkyp"
      },
      "execution_count": 1308,
      "outputs": []
    },
    {
      "cell_type": "code",
      "source": [
        "table"
      ],
      "metadata": {
        "colab": {
          "base_uri": "https://localhost:8080/",
          "height": 394
        },
        "id": "d8eqAi-sI7gp",
        "outputId": "0364a1e7-dc6c-439b-f8be-ff12cedc5680"
      },
      "execution_count": 1309,
      "outputs": [
        {
          "output_type": "execute_result",
          "data": {
            "text/plain": [
              "     n        pn        en  en/(en-1) en/(en-1)^2    en/(en-1)^3\n",
              "0    0  1.500000  0.500000  undefined   undefined      undefined\n",
              "1    1  1.263158  0.263158   0.526316    1.052632       2.105263\n",
              "2    2  1.135518  0.135518    0.51497    1.956886       7.436168\n",
              "3    3  1.068852  0.068852    0.50806    3.749012      27.664223\n",
              "4    4  1.034715  0.034715   0.504195    7.322929     106.358254\n",
              "5    5  1.017432  0.017432   0.502142   14.464861     416.679546\n",
              "6    6  1.008735  0.008735   0.501082   28.745555    1649.044059\n",
              "7    7  1.004372  0.004372   0.500544   57.305299    6560.654753\n",
              "8    8  1.002187  0.002187   0.500273  114.423947    26171.39964\n",
              "9    9  1.001094  0.001094   0.500137   228.66082  104542.981776\n",
              "10  10  1.000547  0.000547   0.500068  457.134353  417886.514713"
            ],
            "text/html": [
              "\n",
              "  <div id=\"df-0f93079c-d93b-4302-8bec-25fcb3c256a8\">\n",
              "    <div class=\"colab-df-container\">\n",
              "      <div>\n",
              "<style scoped>\n",
              "    .dataframe tbody tr th:only-of-type {\n",
              "        vertical-align: middle;\n",
              "    }\n",
              "\n",
              "    .dataframe tbody tr th {\n",
              "        vertical-align: top;\n",
              "    }\n",
              "\n",
              "    .dataframe thead th {\n",
              "        text-align: right;\n",
              "    }\n",
              "</style>\n",
              "<table border=\"1\" class=\"dataframe\">\n",
              "  <thead>\n",
              "    <tr style=\"text-align: right;\">\n",
              "      <th></th>\n",
              "      <th>n</th>\n",
              "      <th>pn</th>\n",
              "      <th>en</th>\n",
              "      <th>en/(en-1)</th>\n",
              "      <th>en/(en-1)^2</th>\n",
              "      <th>en/(en-1)^3</th>\n",
              "    </tr>\n",
              "  </thead>\n",
              "  <tbody>\n",
              "    <tr>\n",
              "      <th>0</th>\n",
              "      <td>0</td>\n",
              "      <td>1.500000</td>\n",
              "      <td>0.500000</td>\n",
              "      <td>undefined</td>\n",
              "      <td>undefined</td>\n",
              "      <td>undefined</td>\n",
              "    </tr>\n",
              "    <tr>\n",
              "      <th>1</th>\n",
              "      <td>1</td>\n",
              "      <td>1.263158</td>\n",
              "      <td>0.263158</td>\n",
              "      <td>0.526316</td>\n",
              "      <td>1.052632</td>\n",
              "      <td>2.105263</td>\n",
              "    </tr>\n",
              "    <tr>\n",
              "      <th>2</th>\n",
              "      <td>2</td>\n",
              "      <td>1.135518</td>\n",
              "      <td>0.135518</td>\n",
              "      <td>0.51497</td>\n",
              "      <td>1.956886</td>\n",
              "      <td>7.436168</td>\n",
              "    </tr>\n",
              "    <tr>\n",
              "      <th>3</th>\n",
              "      <td>3</td>\n",
              "      <td>1.068852</td>\n",
              "      <td>0.068852</td>\n",
              "      <td>0.50806</td>\n",
              "      <td>3.749012</td>\n",
              "      <td>27.664223</td>\n",
              "    </tr>\n",
              "    <tr>\n",
              "      <th>4</th>\n",
              "      <td>4</td>\n",
              "      <td>1.034715</td>\n",
              "      <td>0.034715</td>\n",
              "      <td>0.504195</td>\n",
              "      <td>7.322929</td>\n",
              "      <td>106.358254</td>\n",
              "    </tr>\n",
              "    <tr>\n",
              "      <th>5</th>\n",
              "      <td>5</td>\n",
              "      <td>1.017432</td>\n",
              "      <td>0.017432</td>\n",
              "      <td>0.502142</td>\n",
              "      <td>14.464861</td>\n",
              "      <td>416.679546</td>\n",
              "    </tr>\n",
              "    <tr>\n",
              "      <th>6</th>\n",
              "      <td>6</td>\n",
              "      <td>1.008735</td>\n",
              "      <td>0.008735</td>\n",
              "      <td>0.501082</td>\n",
              "      <td>28.745555</td>\n",
              "      <td>1649.044059</td>\n",
              "    </tr>\n",
              "    <tr>\n",
              "      <th>7</th>\n",
              "      <td>7</td>\n",
              "      <td>1.004372</td>\n",
              "      <td>0.004372</td>\n",
              "      <td>0.500544</td>\n",
              "      <td>57.305299</td>\n",
              "      <td>6560.654753</td>\n",
              "    </tr>\n",
              "    <tr>\n",
              "      <th>8</th>\n",
              "      <td>8</td>\n",
              "      <td>1.002187</td>\n",
              "      <td>0.002187</td>\n",
              "      <td>0.500273</td>\n",
              "      <td>114.423947</td>\n",
              "      <td>26171.39964</td>\n",
              "    </tr>\n",
              "    <tr>\n",
              "      <th>9</th>\n",
              "      <td>9</td>\n",
              "      <td>1.001094</td>\n",
              "      <td>0.001094</td>\n",
              "      <td>0.500137</td>\n",
              "      <td>228.66082</td>\n",
              "      <td>104542.981776</td>\n",
              "    </tr>\n",
              "    <tr>\n",
              "      <th>10</th>\n",
              "      <td>10</td>\n",
              "      <td>1.000547</td>\n",
              "      <td>0.000547</td>\n",
              "      <td>0.500068</td>\n",
              "      <td>457.134353</td>\n",
              "      <td>417886.514713</td>\n",
              "    </tr>\n",
              "  </tbody>\n",
              "</table>\n",
              "</div>\n",
              "      <button class=\"colab-df-convert\" onclick=\"convertToInteractive('df-0f93079c-d93b-4302-8bec-25fcb3c256a8')\"\n",
              "              title=\"Convert this dataframe to an interactive table.\"\n",
              "              style=\"display:none;\">\n",
              "        \n",
              "  <svg xmlns=\"http://www.w3.org/2000/svg\" height=\"24px\"viewBox=\"0 0 24 24\"\n",
              "       width=\"24px\">\n",
              "    <path d=\"M0 0h24v24H0V0z\" fill=\"none\"/>\n",
              "    <path d=\"M18.56 5.44l.94 2.06.94-2.06 2.06-.94-2.06-.94-.94-2.06-.94 2.06-2.06.94zm-11 1L8.5 8.5l.94-2.06 2.06-.94-2.06-.94L8.5 2.5l-.94 2.06-2.06.94zm10 10l.94 2.06.94-2.06 2.06-.94-2.06-.94-.94-2.06-.94 2.06-2.06.94z\"/><path d=\"M17.41 7.96l-1.37-1.37c-.4-.4-.92-.59-1.43-.59-.52 0-1.04.2-1.43.59L10.3 9.45l-7.72 7.72c-.78.78-.78 2.05 0 2.83L4 21.41c.39.39.9.59 1.41.59.51 0 1.02-.2 1.41-.59l7.78-7.78 2.81-2.81c.8-.78.8-2.07 0-2.86zM5.41 20L4 18.59l7.72-7.72 1.47 1.35L5.41 20z\"/>\n",
              "  </svg>\n",
              "      </button>\n",
              "      \n",
              "  <style>\n",
              "    .colab-df-container {\n",
              "      display:flex;\n",
              "      flex-wrap:wrap;\n",
              "      gap: 12px;\n",
              "    }\n",
              "\n",
              "    .colab-df-convert {\n",
              "      background-color: #E8F0FE;\n",
              "      border: none;\n",
              "      border-radius: 50%;\n",
              "      cursor: pointer;\n",
              "      display: none;\n",
              "      fill: #1967D2;\n",
              "      height: 32px;\n",
              "      padding: 0 0 0 0;\n",
              "      width: 32px;\n",
              "    }\n",
              "\n",
              "    .colab-df-convert:hover {\n",
              "      background-color: #E2EBFA;\n",
              "      box-shadow: 0px 1px 2px rgba(60, 64, 67, 0.3), 0px 1px 3px 1px rgba(60, 64, 67, 0.15);\n",
              "      fill: #174EA6;\n",
              "    }\n",
              "\n",
              "    [theme=dark] .colab-df-convert {\n",
              "      background-color: #3B4455;\n",
              "      fill: #D2E3FC;\n",
              "    }\n",
              "\n",
              "    [theme=dark] .colab-df-convert:hover {\n",
              "      background-color: #434B5C;\n",
              "      box-shadow: 0px 1px 3px 1px rgba(0, 0, 0, 0.15);\n",
              "      filter: drop-shadow(0px 1px 2px rgba(0, 0, 0, 0.3));\n",
              "      fill: #FFFFFF;\n",
              "    }\n",
              "  </style>\n",
              "\n",
              "      <script>\n",
              "        const buttonEl =\n",
              "          document.querySelector('#df-0f93079c-d93b-4302-8bec-25fcb3c256a8 button.colab-df-convert');\n",
              "        buttonEl.style.display =\n",
              "          google.colab.kernel.accessAllowed ? 'block' : 'none';\n",
              "\n",
              "        async function convertToInteractive(key) {\n",
              "          const element = document.querySelector('#df-0f93079c-d93b-4302-8bec-25fcb3c256a8');\n",
              "          const dataTable =\n",
              "            await google.colab.kernel.invokeFunction('convertToInteractive',\n",
              "                                                     [key], {});\n",
              "          if (!dataTable) return;\n",
              "\n",
              "          const docLinkHtml = 'Like what you see? Visit the ' +\n",
              "            '<a target=\"_blank\" href=https://colab.research.google.com/notebooks/data_table.ipynb>data table notebook</a>'\n",
              "            + ' to learn more about interactive tables.';\n",
              "          element.innerHTML = '';\n",
              "          dataTable['output_type'] = 'display_data';\n",
              "          await google.colab.output.renderOutput(dataTable, element);\n",
              "          const docLink = document.createElement('div');\n",
              "          docLink.innerHTML = docLinkHtml;\n",
              "          element.appendChild(docLink);\n",
              "        }\n",
              "      </script>\n",
              "    </div>\n",
              "  </div>\n",
              "  "
            ]
          },
          "metadata": {},
          "execution_count": 1309
        }
      ]
    },
    {
      "cell_type": "markdown",
      "source": [
        "# Next, Create a table to analyze order of convergence to the root of multiplicty 1 at x = -3"
      ],
      "metadata": {
        "id": "Uy88USjeKyVA"
      }
    },
    {
      "cell_type": "code",
      "source": [
        "table2 = pd.DataFrame(columns = ['n', 'pn','en', 'en/(en-1)', 'en/(en-1)^2', 'en/(en-1)^3'])"
      ],
      "metadata": {
        "id": "s-eBDQFbK3CC"
      },
      "execution_count": 1310,
      "outputs": []
    },
    {
      "cell_type": "code",
      "source": [
        "col1 = [0]\n",
        "col2 = [-4]\n",
        "col3 = [-3]\n",
        "col4 = [\"undefined\"]\n",
        "col5 = [\"undefined\"]\n",
        "col6 = [\"undefined\"]"
      ],
      "metadata": {
        "id": "u72DW9IgLCTV"
      },
      "execution_count": 1311,
      "outputs": []
    },
    {
      "cell_type": "code",
      "source": [
        "for i in range(6):\n",
        "  col1.append(i+1)\n",
        "  p_previous = col2[-1]\n",
        "  #each iteration of Newton's method performed by the next_p line\n",
        "  next_p = p_previous - (f(p_previous)/fprime(p_previous))\n",
        "  col2.append(next_p)\n",
        "  \n",
        "  #accepted value of this root is x = 1\n",
        "  error = abs((-3)-next_p)\n",
        "  previous_error = col3[-1]\n",
        "\n",
        "  col3.append(error)\n",
        "  col4.append(error/previous_error)\n",
        "  col5.append((error)/(previous_error**2))\n",
        "  col6.append((error)/((previous_error**3)))\n",
        "\n",
        "#populate the table\n",
        "table2['n'] = col1\n",
        "table2['pn'] = col2\n",
        "table2['en'] = col3\n",
        "table2['en/(en-1)'] = col4\n",
        "table2['en/(en-1)^2'] = col5\n",
        "table2['en/(en-1)^3'] = col6"
      ],
      "metadata": {
        "id": "QvoeXY33K7x-"
      },
      "execution_count": 1312,
      "outputs": []
    },
    {
      "cell_type": "code",
      "source": [
        "table2"
      ],
      "metadata": {
        "colab": {
          "base_uri": "https://localhost:8080/",
          "height": 269
        },
        "id": "SeWaXSLkLJGH",
        "outputId": "9718b24a-bf4f-4fd6-b9d4-32dcbff7fc37"
      },
      "execution_count": 1313,
      "outputs": [
        {
          "output_type": "execute_result",
          "data": {
            "text/plain": [
              "   n        pn            en  en/(en-1) en/(en-1)^2     en/(en-1)^3\n",
              "0  0 -4.000000 -3.000000e+00  undefined   undefined       undefined\n",
              "1  1 -3.285714  2.857143e-01  -0.095238    0.031746       -0.010582\n",
              "2  2 -3.033613  3.361345e-02   0.117647    0.411765        1.441176\n",
              "3  3 -3.000551  5.510401e-04   0.016393    0.487705       14.509221\n",
              "4  4 -3.000000  1.517599e-07   0.000275    0.499793      907.000155\n",
              "5  5 -3.000000  1.154632e-14        0.0    0.501337  3303487.984332\n",
              "6  6 -3.000000  0.000000e+00        0.0         0.0             0.0"
            ],
            "text/html": [
              "\n",
              "  <div id=\"df-3a5be8b2-2225-4936-975f-8649d60b1b4d\">\n",
              "    <div class=\"colab-df-container\">\n",
              "      <div>\n",
              "<style scoped>\n",
              "    .dataframe tbody tr th:only-of-type {\n",
              "        vertical-align: middle;\n",
              "    }\n",
              "\n",
              "    .dataframe tbody tr th {\n",
              "        vertical-align: top;\n",
              "    }\n",
              "\n",
              "    .dataframe thead th {\n",
              "        text-align: right;\n",
              "    }\n",
              "</style>\n",
              "<table border=\"1\" class=\"dataframe\">\n",
              "  <thead>\n",
              "    <tr style=\"text-align: right;\">\n",
              "      <th></th>\n",
              "      <th>n</th>\n",
              "      <th>pn</th>\n",
              "      <th>en</th>\n",
              "      <th>en/(en-1)</th>\n",
              "      <th>en/(en-1)^2</th>\n",
              "      <th>en/(en-1)^3</th>\n",
              "    </tr>\n",
              "  </thead>\n",
              "  <tbody>\n",
              "    <tr>\n",
              "      <th>0</th>\n",
              "      <td>0</td>\n",
              "      <td>-4.000000</td>\n",
              "      <td>-3.000000e+00</td>\n",
              "      <td>undefined</td>\n",
              "      <td>undefined</td>\n",
              "      <td>undefined</td>\n",
              "    </tr>\n",
              "    <tr>\n",
              "      <th>1</th>\n",
              "      <td>1</td>\n",
              "      <td>-3.285714</td>\n",
              "      <td>2.857143e-01</td>\n",
              "      <td>-0.095238</td>\n",
              "      <td>0.031746</td>\n",
              "      <td>-0.010582</td>\n",
              "    </tr>\n",
              "    <tr>\n",
              "      <th>2</th>\n",
              "      <td>2</td>\n",
              "      <td>-3.033613</td>\n",
              "      <td>3.361345e-02</td>\n",
              "      <td>0.117647</td>\n",
              "      <td>0.411765</td>\n",
              "      <td>1.441176</td>\n",
              "    </tr>\n",
              "    <tr>\n",
              "      <th>3</th>\n",
              "      <td>3</td>\n",
              "      <td>-3.000551</td>\n",
              "      <td>5.510401e-04</td>\n",
              "      <td>0.016393</td>\n",
              "      <td>0.487705</td>\n",
              "      <td>14.509221</td>\n",
              "    </tr>\n",
              "    <tr>\n",
              "      <th>4</th>\n",
              "      <td>4</td>\n",
              "      <td>-3.000000</td>\n",
              "      <td>1.517599e-07</td>\n",
              "      <td>0.000275</td>\n",
              "      <td>0.499793</td>\n",
              "      <td>907.000155</td>\n",
              "    </tr>\n",
              "    <tr>\n",
              "      <th>5</th>\n",
              "      <td>5</td>\n",
              "      <td>-3.000000</td>\n",
              "      <td>1.154632e-14</td>\n",
              "      <td>0.0</td>\n",
              "      <td>0.501337</td>\n",
              "      <td>3303487.984332</td>\n",
              "    </tr>\n",
              "    <tr>\n",
              "      <th>6</th>\n",
              "      <td>6</td>\n",
              "      <td>-3.000000</td>\n",
              "      <td>0.000000e+00</td>\n",
              "      <td>0.0</td>\n",
              "      <td>0.0</td>\n",
              "      <td>0.0</td>\n",
              "    </tr>\n",
              "  </tbody>\n",
              "</table>\n",
              "</div>\n",
              "      <button class=\"colab-df-convert\" onclick=\"convertToInteractive('df-3a5be8b2-2225-4936-975f-8649d60b1b4d')\"\n",
              "              title=\"Convert this dataframe to an interactive table.\"\n",
              "              style=\"display:none;\">\n",
              "        \n",
              "  <svg xmlns=\"http://www.w3.org/2000/svg\" height=\"24px\"viewBox=\"0 0 24 24\"\n",
              "       width=\"24px\">\n",
              "    <path d=\"M0 0h24v24H0V0z\" fill=\"none\"/>\n",
              "    <path d=\"M18.56 5.44l.94 2.06.94-2.06 2.06-.94-2.06-.94-.94-2.06-.94 2.06-2.06.94zm-11 1L8.5 8.5l.94-2.06 2.06-.94-2.06-.94L8.5 2.5l-.94 2.06-2.06.94zm10 10l.94 2.06.94-2.06 2.06-.94-2.06-.94-.94-2.06-.94 2.06-2.06.94z\"/><path d=\"M17.41 7.96l-1.37-1.37c-.4-.4-.92-.59-1.43-.59-.52 0-1.04.2-1.43.59L10.3 9.45l-7.72 7.72c-.78.78-.78 2.05 0 2.83L4 21.41c.39.39.9.59 1.41.59.51 0 1.02-.2 1.41-.59l7.78-7.78 2.81-2.81c.8-.78.8-2.07 0-2.86zM5.41 20L4 18.59l7.72-7.72 1.47 1.35L5.41 20z\"/>\n",
              "  </svg>\n",
              "      </button>\n",
              "      \n",
              "  <style>\n",
              "    .colab-df-container {\n",
              "      display:flex;\n",
              "      flex-wrap:wrap;\n",
              "      gap: 12px;\n",
              "    }\n",
              "\n",
              "    .colab-df-convert {\n",
              "      background-color: #E8F0FE;\n",
              "      border: none;\n",
              "      border-radius: 50%;\n",
              "      cursor: pointer;\n",
              "      display: none;\n",
              "      fill: #1967D2;\n",
              "      height: 32px;\n",
              "      padding: 0 0 0 0;\n",
              "      width: 32px;\n",
              "    }\n",
              "\n",
              "    .colab-df-convert:hover {\n",
              "      background-color: #E2EBFA;\n",
              "      box-shadow: 0px 1px 2px rgba(60, 64, 67, 0.3), 0px 1px 3px 1px rgba(60, 64, 67, 0.15);\n",
              "      fill: #174EA6;\n",
              "    }\n",
              "\n",
              "    [theme=dark] .colab-df-convert {\n",
              "      background-color: #3B4455;\n",
              "      fill: #D2E3FC;\n",
              "    }\n",
              "\n",
              "    [theme=dark] .colab-df-convert:hover {\n",
              "      background-color: #434B5C;\n",
              "      box-shadow: 0px 1px 3px 1px rgba(0, 0, 0, 0.15);\n",
              "      filter: drop-shadow(0px 1px 2px rgba(0, 0, 0, 0.3));\n",
              "      fill: #FFFFFF;\n",
              "    }\n",
              "  </style>\n",
              "\n",
              "      <script>\n",
              "        const buttonEl =\n",
              "          document.querySelector('#df-3a5be8b2-2225-4936-975f-8649d60b1b4d button.colab-df-convert');\n",
              "        buttonEl.style.display =\n",
              "          google.colab.kernel.accessAllowed ? 'block' : 'none';\n",
              "\n",
              "        async function convertToInteractive(key) {\n",
              "          const element = document.querySelector('#df-3a5be8b2-2225-4936-975f-8649d60b1b4d');\n",
              "          const dataTable =\n",
              "            await google.colab.kernel.invokeFunction('convertToInteractive',\n",
              "                                                     [key], {});\n",
              "          if (!dataTable) return;\n",
              "\n",
              "          const docLinkHtml = 'Like what you see? Visit the ' +\n",
              "            '<a target=\"_blank\" href=https://colab.research.google.com/notebooks/data_table.ipynb>data table notebook</a>'\n",
              "            + ' to learn more about interactive tables.';\n",
              "          element.innerHTML = '';\n",
              "          dataTable['output_type'] = 'display_data';\n",
              "          await google.colab.output.renderOutput(dataTable, element);\n",
              "          const docLink = document.createElement('div');\n",
              "          docLink.innerHTML = docLinkHtml;\n",
              "          element.appendChild(docLink);\n",
              "        }\n",
              "      </script>\n",
              "    </div>\n",
              "  </div>\n",
              "  "
            ]
          },
          "metadata": {},
          "execution_count": 1313
        }
      ]
    },
    {
      "cell_type": "markdown",
      "source": [
        "# Problem 1c:"
      ],
      "metadata": {
        "id": "8QN7AhZJnS4h"
      }
    },
    {
      "cell_type": "code",
      "source": [
        "def aitkens(function, derivative, guess, iterations):\n",
        "  #get all the sequence values needed to perform n-iterations of aitken's method. For each iteration n, we need \n",
        "  #two terms further out in the original sequence (n+2)\n",
        "  sequence_values = []\n",
        "  for i in range(iterations+2):\n",
        "    sequence_values.append(newtons_method(function, derivative, guess, i+1))\n",
        "  print(\"Number of iterations : \", iterations+2)\n",
        "  print(\"Final approximation: \", sequence_values[-1])\n",
        "  print(\"Original sequence: \", sequence_values)\n",
        "  \n",
        "  aitkens_sequence = []\n",
        "  for i in range(iterations):\n",
        "    #p_n which is the value of the original sequence at iteration i is given by sequence_values[i]\n",
        "    p_n = sequence_values[i]\n",
        "    #numerator is the forward difference squared\n",
        "    numerator = ((sequence_values[i+1] - p_n)**2)\n",
        "    #denominator is the second order forward difference that we derived\n",
        "    denominator = (sequence_values[i+2] - (2*sequence_values[i+1]) + p_n)\n",
        "    #apply aitkens delta squared formula to find the nth term of p-hat\n",
        "    aitkens_sequence.append((p_n - (numerator/denominator)))\n",
        "  print(\"Number of iterations : \", iterations)\n",
        "  print(\"Final Approximation: \", aitkens_sequence[-1])\n",
        "  print(\"Aitken's Method sequence: \", aitkens_sequence)\n",
        "  #return the last term in the aitkens sequence AKA the approximation after desired amount of iterations\n",
        "  return(aitkens_sequence[-1])"
      ],
      "metadata": {
        "id": "ynia7UelFE2Y"
      },
      "execution_count": 1314,
      "outputs": []
    },
    {
      "cell_type": "markdown",
      "source": [
        "Now use the function we coded to verify that aitken's method accelerates the convergence of Newton's method which is known to converge linearly for this function due to the function's root of multiplicity two at x = 1"
      ],
      "metadata": {
        "id": "hht2VWv5chX1"
      }
    },
    {
      "cell_type": "code",
      "source": [
        "aitkens(f, fprime, 1.5, 4)"
      ],
      "metadata": {
        "id": "KOnHMpbOckv_",
        "outputId": "0ce8fdc1-53f3-433b-de32-fda5c1c68c75",
        "colab": {
          "base_uri": "https://localhost:8080/"
        }
      },
      "execution_count": 1315,
      "outputs": [
        {
          "output_type": "stream",
          "name": "stdout",
          "text": [
            "Number of iterations :  6\n",
            "Final approximation:  1.0087346920242348\n",
            "Original sequence:  [1.263157894736842, 1.1355184368105893, 1.068851535414902, 1.0347145937834634, 1.0174316479307843, 1.0087346920242348]\n",
            "Number of iterations :  4\n",
            "Final Approximation:  0.9999253360250978\n",
            "Aitken's Method sequence:  [0.9959584832845672, 0.9988912852889669, 0.999708834820609, 0.9999253360250978]\n"
          ]
        },
        {
          "output_type": "execute_result",
          "data": {
            "text/plain": [
              "0.9999253360250978"
            ]
          },
          "metadata": {},
          "execution_count": 1315
        }
      ]
    },
    {
      "cell_type": "code",
      "source": [
        "aitkens(f, fprime, -4, 4)"
      ],
      "metadata": {
        "colab": {
          "base_uri": "https://localhost:8080/"
        },
        "id": "YCfSYXTjZpD6",
        "outputId": "918421d2-6c12-4a59-944b-8153d84b709f"
      },
      "execution_count": 1316,
      "outputs": [
        {
          "output_type": "stream",
          "name": "stdout",
          "text": [
            "Number of iterations :  6\n",
            "Final approximation:  -3.0\n",
            "Original sequence:  [-3.2857142857142856, -3.033613445378151, -3.0005510400881663, -3.00000015175987, -3.0000000000000115, -3.0]\n",
            "Number of iterations :  4\n",
            "Final Approximation:  -3.0\n",
            "Aitken's Method sequence:  [-2.995560488346282, -2.9999908172846252, -2.999999999958193, -3.0]\n"
          ]
        },
        {
          "output_type": "execute_result",
          "data": {
            "text/plain": [
              "-3.0"
            ]
          },
          "metadata": {},
          "execution_count": 1316
        }
      ]
    },
    {
      "cell_type": "markdown",
      "source": [
        "# Problem 1e: Find the order of convergence for Newton's method and aitken's method for approximating the root of f(x) at x = 1"
      ],
      "metadata": {
        "id": "wjOrZcU4NSmd"
      }
    },
    {
      "cell_type": "code",
      "source": [
        "aitkens_table = pd.DataFrame(columns = ['n', 'pn','en', 'en/(en-1)', 'en/(en-1)^2', 'en/(en-1)^3'])"
      ],
      "metadata": {
        "id": "5aIJ9-9cNEuI"
      },
      "execution_count": 1317,
      "outputs": []
    },
    {
      "cell_type": "code",
      "source": [
        "col1 = [0]\n",
        "col2 = [1.5]\n",
        "col3 = [0.5]\n",
        "col4 = [\"undefined\"]\n",
        "col5 = [\"undefined\"]\n",
        "col6 = [\"undefined\"]"
      ],
      "metadata": {
        "id": "ueaM463UNIZv"
      },
      "execution_count": 1318,
      "outputs": []
    },
    {
      "cell_type": "code",
      "source": [
        "for i in range(10):\n",
        "  col1.append(i+1)\n",
        "  p_previous = col2[-1]\n",
        "  next_p = aitkens(f, fprime, 1.5, i+1)\n",
        "  col2.append(next_p)\n",
        "  \n",
        "  #accepted value of this root is x = 1\n",
        "  error = abs((1)-next_p)\n",
        "  previous_error = col3[-1]\n",
        "\n",
        "  col3.append(error)\n",
        "  col4.append(error/previous_error)\n",
        "  col5.append((error)/(previous_error**2))\n",
        "  col6.append((error)/((previous_error**3)))\n",
        "\n",
        "#populate the table\n",
        "aitkens_table['n'] = col1\n",
        "aitkens_table['pn'] = col2\n",
        "aitkens_table['en'] = col3\n",
        "aitkens_table['en/(en-1)'] = col4\n",
        "aitkens_table['en/(en-1)^2'] = col5\n",
        "aitkens_table['en/(en-1)^3'] = col6"
      ],
      "metadata": {
        "colab": {
          "base_uri": "https://localhost:8080/"
        },
        "id": "LQm2SYTlObuh",
        "outputId": "3c28f75a-470f-4abf-da3e-9c298a0c0b78"
      },
      "execution_count": 1319,
      "outputs": [
        {
          "output_type": "stream",
          "name": "stdout",
          "text": [
            "Number of iterations :  3\n",
            "Final approximation:  1.068851535414902\n",
            "Original sequence:  [1.263157894736842, 1.1355184368105893, 1.068851535414902]\n",
            "Number of iterations :  1\n",
            "Final Approximation:  0.9959584832845672\n",
            "Aitken's Method sequence:  [0.9959584832845672]\n",
            "Number of iterations :  4\n",
            "Final approximation:  1.0347145937834634\n",
            "Original sequence:  [1.263157894736842, 1.1355184368105893, 1.068851535414902, 1.0347145937834634]\n",
            "Number of iterations :  2\n",
            "Final Approximation:  0.9988912852889669\n",
            "Aitken's Method sequence:  [0.9959584832845672, 0.9988912852889669]\n",
            "Number of iterations :  5\n",
            "Final approximation:  1.0174316479307843\n",
            "Original sequence:  [1.263157894736842, 1.1355184368105893, 1.068851535414902, 1.0347145937834634, 1.0174316479307843]\n",
            "Number of iterations :  3\n",
            "Final Approximation:  0.999708834820609\n",
            "Aitken's Method sequence:  [0.9959584832845672, 0.9988912852889669, 0.999708834820609]\n",
            "Number of iterations :  6\n",
            "Final approximation:  1.0087346920242348\n",
            "Original sequence:  [1.263157894736842, 1.1355184368105893, 1.068851535414902, 1.0347145937834634, 1.0174316479307843, 1.0087346920242348]\n",
            "Number of iterations :  4\n",
            "Final Approximation:  0.9999253360250978\n",
            "Aitken's Method sequence:  [0.9959584832845672, 0.9988912852889669, 0.999708834820609, 0.9999253360250978]\n",
            "Number of iterations :  7\n",
            "Final approximation:  1.0043720988718794\n",
            "Original sequence:  [1.263157894736842, 1.1355184368105893, 1.068851535414902, 1.0347145937834634, 1.0174316479307843, 1.0087346920242348, 1.0043720988718794]\n",
            "Number of iterations :  5\n",
            "Final Approximation:  0.9999810914522622\n",
            "Aitken's Method sequence:  [0.9959584832845672, 0.9988912852889669, 0.999708834820609, 0.9999253360250978, 0.9999810914522622]\n",
            "Number of iterations :  8\n",
            "Final approximation:  1.0021872421834284\n",
            "Original sequence:  [1.263157894736842, 1.1355184368105893, 1.068851535414902, 1.0347145937834634, 1.0174316479307843, 1.0087346920242348, 1.0043720988718794, 1.0021872421834284]\n",
            "Number of iterations :  6\n",
            "Final Approximation:  0.99999524199048\n",
            "Aitken's Method sequence:  [0.9959584832845672, 0.9988912852889669, 0.999708834820609, 0.9999253360250978, 0.9999810914522622, 0.99999524199048]\n",
            "Number of iterations :  9\n",
            "Final approximation:  1.0010939198484181\n",
            "Original sequence:  [1.263157894736842, 1.1355184368105893, 1.068851535414902, 1.0347145937834634, 1.0174316479307843, 1.0087346920242348, 1.0043720988718794, 1.0021872421834284, 1.0010939198484181]\n",
            "Number of iterations :  7\n",
            "Final Approximation:  0.9999988066030455\n",
            "Aitken's Method sequence:  [0.9959584832845672, 0.9988912852889669, 0.999708834820609, 0.9999253360250978, 0.9999810914522622, 0.99999524199048, 0.9999988066030455]\n",
            "Number of iterations :  10\n",
            "Final approximation:  1.0005470346848309\n",
            "Original sequence:  [1.263157894736842, 1.1355184368105893, 1.068851535414902, 1.0347145937834634, 1.0174316479307843, 1.0087346920242348, 1.0043720988718794, 1.0021872421834284, 1.0010939198484181, 1.0005470346848309]\n",
            "Number of iterations :  8\n",
            "Final Approximation:  0.9999997011617966\n",
            "Aitken's Method sequence:  [0.9959584832845672, 0.9988912852889669, 0.999708834820609, 0.9999253360250978, 0.9999810914522622, 0.99999524199048, 0.9999988066030455, 0.9999997011617966]\n",
            "Number of iterations :  11\n",
            "Final approximation:  1.0002735360415977\n",
            "Original sequence:  [1.263157894736842, 1.1355184368105893, 1.068851535414902, 1.0347145937834634, 1.0174316479307843, 1.0087346920242348, 1.0043720988718794, 1.0021872421834284, 1.0010939198484181, 1.0005470346848309, 1.0002735360415977]\n",
            "Number of iterations :  9\n",
            "Final Approximation:  0.9999999252295012\n",
            "Aitken's Method sequence:  [0.9959584832845672, 0.9988912852889669, 0.999708834820609, 0.9999253360250978, 0.9999810914522622, 0.99999524199048, 0.9999988066030455, 0.9999997011617966, 0.9999999252295012]\n",
            "Number of iterations :  12\n",
            "Final approximation:  1.0001367726967614\n",
            "Original sequence:  [1.263157894736842, 1.1355184368105893, 1.068851535414902, 1.0347145937834634, 1.0174316479307843, 1.0087346920242348, 1.0043720988718794, 1.0021872421834284, 1.0010939198484181, 1.0005470346848309, 1.0002735360415977, 1.0001367726967614]\n",
            "Number of iterations :  10\n",
            "Final Approximation:  0.9999999812997327\n",
            "Aitken's Method sequence:  [0.9959584832845672, 0.9988912852889669, 0.999708834820609, 0.9999253360250978, 0.9999810914522622, 0.99999524199048, 0.9999988066030455, 0.9999997011617966, 0.9999999252295012, 0.9999999812997327]\n"
          ]
        }
      ]
    },
    {
      "cell_type": "code",
      "source": [
        "aitkens_table"
      ],
      "metadata": {
        "id": "5nUed7A9PGCh",
        "outputId": "afe9d685-5252-48a4-9c7e-fe636e6f8845",
        "colab": {
          "base_uri": "https://localhost:8080/",
          "height": 394
        }
      },
      "execution_count": 1320,
      "outputs": [
        {
          "output_type": "execute_result",
          "data": {
            "text/plain": [
              "     n        pn            en  en/(en-1)     en/(en-1)^2  \\\n",
              "0    0  1.500000  5.000000e-01  undefined       undefined   \n",
              "1    1  0.995958  4.041517e-03   0.008083        0.016166   \n",
              "2    2  0.998891  1.108715e-03   0.274331       67.878315   \n",
              "3    3  0.999709  2.911652e-04   0.262615      236.864413   \n",
              "4    4  0.999925  7.466397e-05   0.256432      880.708594   \n",
              "5    5  0.999981  1.890855e-05   0.253249     3391.844711   \n",
              "6    6  0.999995  4.758010e-06   0.251633    13307.882509   \n",
              "7    7  0.999999  1.193397e-06   0.250819    52715.012263   \n",
              "8    8  1.000000  2.988382e-07    0.25041   209829.365026   \n",
              "9    9  1.000000  7.477050e-08   0.250204   837255.567659   \n",
              "10  10  1.000000  1.870027e-08   0.250102  3344931.739627   \n",
              "\n",
              "              en/(en-1)^3  \n",
              "0               undefined  \n",
              "1                0.032332  \n",
              "2            16795.257704  \n",
              "3            213638.73913  \n",
              "4          3024773.072664  \n",
              "5         45428129.363664  \n",
              "6        703802465.100143  \n",
              "7       11079215382.17499  \n",
              "8     175825289513.810791  \n",
              "9    2801701918024.436035  \n",
              "10  44735982689000.929688  "
            ],
            "text/html": [
              "\n",
              "  <div id=\"df-6f33dc0b-4642-411e-8b2f-e078f6aae7c0\">\n",
              "    <div class=\"colab-df-container\">\n",
              "      <div>\n",
              "<style scoped>\n",
              "    .dataframe tbody tr th:only-of-type {\n",
              "        vertical-align: middle;\n",
              "    }\n",
              "\n",
              "    .dataframe tbody tr th {\n",
              "        vertical-align: top;\n",
              "    }\n",
              "\n",
              "    .dataframe thead th {\n",
              "        text-align: right;\n",
              "    }\n",
              "</style>\n",
              "<table border=\"1\" class=\"dataframe\">\n",
              "  <thead>\n",
              "    <tr style=\"text-align: right;\">\n",
              "      <th></th>\n",
              "      <th>n</th>\n",
              "      <th>pn</th>\n",
              "      <th>en</th>\n",
              "      <th>en/(en-1)</th>\n",
              "      <th>en/(en-1)^2</th>\n",
              "      <th>en/(en-1)^3</th>\n",
              "    </tr>\n",
              "  </thead>\n",
              "  <tbody>\n",
              "    <tr>\n",
              "      <th>0</th>\n",
              "      <td>0</td>\n",
              "      <td>1.500000</td>\n",
              "      <td>5.000000e-01</td>\n",
              "      <td>undefined</td>\n",
              "      <td>undefined</td>\n",
              "      <td>undefined</td>\n",
              "    </tr>\n",
              "    <tr>\n",
              "      <th>1</th>\n",
              "      <td>1</td>\n",
              "      <td>0.995958</td>\n",
              "      <td>4.041517e-03</td>\n",
              "      <td>0.008083</td>\n",
              "      <td>0.016166</td>\n",
              "      <td>0.032332</td>\n",
              "    </tr>\n",
              "    <tr>\n",
              "      <th>2</th>\n",
              "      <td>2</td>\n",
              "      <td>0.998891</td>\n",
              "      <td>1.108715e-03</td>\n",
              "      <td>0.274331</td>\n",
              "      <td>67.878315</td>\n",
              "      <td>16795.257704</td>\n",
              "    </tr>\n",
              "    <tr>\n",
              "      <th>3</th>\n",
              "      <td>3</td>\n",
              "      <td>0.999709</td>\n",
              "      <td>2.911652e-04</td>\n",
              "      <td>0.262615</td>\n",
              "      <td>236.864413</td>\n",
              "      <td>213638.73913</td>\n",
              "    </tr>\n",
              "    <tr>\n",
              "      <th>4</th>\n",
              "      <td>4</td>\n",
              "      <td>0.999925</td>\n",
              "      <td>7.466397e-05</td>\n",
              "      <td>0.256432</td>\n",
              "      <td>880.708594</td>\n",
              "      <td>3024773.072664</td>\n",
              "    </tr>\n",
              "    <tr>\n",
              "      <th>5</th>\n",
              "      <td>5</td>\n",
              "      <td>0.999981</td>\n",
              "      <td>1.890855e-05</td>\n",
              "      <td>0.253249</td>\n",
              "      <td>3391.844711</td>\n",
              "      <td>45428129.363664</td>\n",
              "    </tr>\n",
              "    <tr>\n",
              "      <th>6</th>\n",
              "      <td>6</td>\n",
              "      <td>0.999995</td>\n",
              "      <td>4.758010e-06</td>\n",
              "      <td>0.251633</td>\n",
              "      <td>13307.882509</td>\n",
              "      <td>703802465.100143</td>\n",
              "    </tr>\n",
              "    <tr>\n",
              "      <th>7</th>\n",
              "      <td>7</td>\n",
              "      <td>0.999999</td>\n",
              "      <td>1.193397e-06</td>\n",
              "      <td>0.250819</td>\n",
              "      <td>52715.012263</td>\n",
              "      <td>11079215382.17499</td>\n",
              "    </tr>\n",
              "    <tr>\n",
              "      <th>8</th>\n",
              "      <td>8</td>\n",
              "      <td>1.000000</td>\n",
              "      <td>2.988382e-07</td>\n",
              "      <td>0.25041</td>\n",
              "      <td>209829.365026</td>\n",
              "      <td>175825289513.810791</td>\n",
              "    </tr>\n",
              "    <tr>\n",
              "      <th>9</th>\n",
              "      <td>9</td>\n",
              "      <td>1.000000</td>\n",
              "      <td>7.477050e-08</td>\n",
              "      <td>0.250204</td>\n",
              "      <td>837255.567659</td>\n",
              "      <td>2801701918024.436035</td>\n",
              "    </tr>\n",
              "    <tr>\n",
              "      <th>10</th>\n",
              "      <td>10</td>\n",
              "      <td>1.000000</td>\n",
              "      <td>1.870027e-08</td>\n",
              "      <td>0.250102</td>\n",
              "      <td>3344931.739627</td>\n",
              "      <td>44735982689000.929688</td>\n",
              "    </tr>\n",
              "  </tbody>\n",
              "</table>\n",
              "</div>\n",
              "      <button class=\"colab-df-convert\" onclick=\"convertToInteractive('df-6f33dc0b-4642-411e-8b2f-e078f6aae7c0')\"\n",
              "              title=\"Convert this dataframe to an interactive table.\"\n",
              "              style=\"display:none;\">\n",
              "        \n",
              "  <svg xmlns=\"http://www.w3.org/2000/svg\" height=\"24px\"viewBox=\"0 0 24 24\"\n",
              "       width=\"24px\">\n",
              "    <path d=\"M0 0h24v24H0V0z\" fill=\"none\"/>\n",
              "    <path d=\"M18.56 5.44l.94 2.06.94-2.06 2.06-.94-2.06-.94-.94-2.06-.94 2.06-2.06.94zm-11 1L8.5 8.5l.94-2.06 2.06-.94-2.06-.94L8.5 2.5l-.94 2.06-2.06.94zm10 10l.94 2.06.94-2.06 2.06-.94-2.06-.94-.94-2.06-.94 2.06-2.06.94z\"/><path d=\"M17.41 7.96l-1.37-1.37c-.4-.4-.92-.59-1.43-.59-.52 0-1.04.2-1.43.59L10.3 9.45l-7.72 7.72c-.78.78-.78 2.05 0 2.83L4 21.41c.39.39.9.59 1.41.59.51 0 1.02-.2 1.41-.59l7.78-7.78 2.81-2.81c.8-.78.8-2.07 0-2.86zM5.41 20L4 18.59l7.72-7.72 1.47 1.35L5.41 20z\"/>\n",
              "  </svg>\n",
              "      </button>\n",
              "      \n",
              "  <style>\n",
              "    .colab-df-container {\n",
              "      display:flex;\n",
              "      flex-wrap:wrap;\n",
              "      gap: 12px;\n",
              "    }\n",
              "\n",
              "    .colab-df-convert {\n",
              "      background-color: #E8F0FE;\n",
              "      border: none;\n",
              "      border-radius: 50%;\n",
              "      cursor: pointer;\n",
              "      display: none;\n",
              "      fill: #1967D2;\n",
              "      height: 32px;\n",
              "      padding: 0 0 0 0;\n",
              "      width: 32px;\n",
              "    }\n",
              "\n",
              "    .colab-df-convert:hover {\n",
              "      background-color: #E2EBFA;\n",
              "      box-shadow: 0px 1px 2px rgba(60, 64, 67, 0.3), 0px 1px 3px 1px rgba(60, 64, 67, 0.15);\n",
              "      fill: #174EA6;\n",
              "    }\n",
              "\n",
              "    [theme=dark] .colab-df-convert {\n",
              "      background-color: #3B4455;\n",
              "      fill: #D2E3FC;\n",
              "    }\n",
              "\n",
              "    [theme=dark] .colab-df-convert:hover {\n",
              "      background-color: #434B5C;\n",
              "      box-shadow: 0px 1px 3px 1px rgba(0, 0, 0, 0.15);\n",
              "      filter: drop-shadow(0px 1px 2px rgba(0, 0, 0, 0.3));\n",
              "      fill: #FFFFFF;\n",
              "    }\n",
              "  </style>\n",
              "\n",
              "      <script>\n",
              "        const buttonEl =\n",
              "          document.querySelector('#df-6f33dc0b-4642-411e-8b2f-e078f6aae7c0 button.colab-df-convert');\n",
              "        buttonEl.style.display =\n",
              "          google.colab.kernel.accessAllowed ? 'block' : 'none';\n",
              "\n",
              "        async function convertToInteractive(key) {\n",
              "          const element = document.querySelector('#df-6f33dc0b-4642-411e-8b2f-e078f6aae7c0');\n",
              "          const dataTable =\n",
              "            await google.colab.kernel.invokeFunction('convertToInteractive',\n",
              "                                                     [key], {});\n",
              "          if (!dataTable) return;\n",
              "\n",
              "          const docLinkHtml = 'Like what you see? Visit the ' +\n",
              "            '<a target=\"_blank\" href=https://colab.research.google.com/notebooks/data_table.ipynb>data table notebook</a>'\n",
              "            + ' to learn more about interactive tables.';\n",
              "          element.innerHTML = '';\n",
              "          dataTable['output_type'] = 'display_data';\n",
              "          await google.colab.output.renderOutput(dataTable, element);\n",
              "          const docLink = document.createElement('div');\n",
              "          docLink.innerHTML = docLinkHtml;\n",
              "          element.appendChild(docLink);\n",
              "        }\n",
              "      </script>\n",
              "    </div>\n",
              "  </div>\n",
              "  "
            ]
          },
          "metadata": {},
          "execution_count": 1320
        }
      ]
    },
    {
      "cell_type": "markdown",
      "source": [
        "# Problem 2b: Implement Steffenson's method"
      ],
      "metadata": {
        "id": "sykHtPKWdXkS"
      }
    },
    {
      "cell_type": "code",
      "source": [
        "#returns the next three terms that are used in each proceeding iteration of steffensen's method\n",
        "#and basically plugs in the p_hat from the last iteration into the fixed point iteration\n",
        "#twice times to get the next three points that go into the aitkens formula\n",
        "def get_sequence_values(fpi, p_hat):\n",
        "  #1st point is the p hat from the previous iteration of steffenson's method\n",
        "  sequence_values = [p_hat, fpi(p_hat), fpi(fpi(p_hat))]\n",
        "  return sequence_values"
      ],
      "metadata": {
        "id": "ued4bnXa11SW"
      },
      "execution_count": 1321,
      "outputs": []
    },
    {
      "cell_type": "code",
      "source": [
        "def steffensen(fpi, guess, iterations):\n",
        "  #create a list sequence values with the initial po, p1, p2 that are generated\n",
        "  #with the fixed point iteration\n",
        "  sequence_values = [guess, fpi(guess), fpi(fpi(guess))]\n",
        "  steffensen_sequence = []\n",
        "\n",
        "  for i in range(iterations):\n",
        "    #print(sequence_values)\n",
        "    #now we apply aitken's method to our newly generated sequence_values list\n",
        "    # at each iteration to get the next p hat\n",
        "\n",
        "    #p_n which is the first term in sequence values\n",
        "    p_n = sequence_values[0]\n",
        "    #numerator is the forward difference squared\n",
        "    numerator = ((sequence_values[1] - p_n)**2)\n",
        "    #denominator is the second order forward difference that we derived\n",
        "    denominator = (sequence_values[2] - (2*sequence_values[1]) + p_n)\n",
        "\n",
        "    #apply aitkens delta squared formula to find the nth term of p-hat, round to 10 decimal places\n",
        "    steffensen_sequence.append(round((p_n - (numerator/denominator)), 10))\n",
        "\n",
        "    #****sequence_values list of three points updates after each iteration\n",
        "    # by using the get_sequence_values function above\n",
        "    sequence_values = get_sequence_values(fpi, p_n - (numerator/denominator))\n",
        "\n",
        "  print(\"Number of iterations : \", iterations)\n",
        "  print(\"Final Approximation: \", steffensen_sequence[-1])\n",
        "  print(\"Steffensen's Method sequence: \", steffensen_sequence)\n",
        "  return steffensen_sequence[-1]"
      ],
      "metadata": {
        "id": "9RtdmmTjdBV_"
      },
      "execution_count": 1322,
      "outputs": []
    },
    {
      "cell_type": "code",
      "source": [
        "#function for f(x)\n",
        "def func(x):\n",
        "  return ((x**3)-(x**2)-(x)+1)\n",
        "  #function for f'(x)\n",
        "def derivative(x):\n",
        "  return ((3*(x**2))-(2*x)-1)\n",
        "#create a function that is the fixed point iteration of newton's method for our f(x) using the function f(x) and its derivative\n",
        "def newtons_fpi(x):\n",
        "  return x - (func(x)/derivative(x))"
      ],
      "metadata": {
        "id": "Lqb7r_ULroav"
      },
      "execution_count": 1323,
      "outputs": []
    },
    {
      "cell_type": "code",
      "source": [
        "steffensen(newtons_fpi, 1.5, 3)"
      ],
      "metadata": {
        "id": "XATvtlBvuxHj",
        "outputId": "0b040e8e-767a-468d-a47e-bec9c9f8cabb",
        "colab": {
          "base_uri": "https://localhost:8080/"
        }
      },
      "execution_count": 1324,
      "outputs": [
        {
          "output_type": "stream",
          "name": "stdout",
          "text": [
            "Number of iterations :  3\n",
            "Final Approximation:  0.9999999994\n",
            "Steffensen's Method sequence:  [0.976284585, 0.9999288665, 0.9999999994]\n"
          ]
        },
        {
          "output_type": "execute_result",
          "data": {
            "text/plain": [
              "0.9999999994"
            ]
          },
          "metadata": {},
          "execution_count": 1324
        }
      ]
    },
    {
      "cell_type": "markdown",
      "source": [
        "# Generate the table for Steffensen's method to approximate the root to find the order of convergence"
      ],
      "metadata": {
        "id": "2cISrxd15eJV"
      }
    },
    {
      "cell_type": "code",
      "source": [
        "steffensen_table =  pd.DataFrame(columns = ['n', 'pn','en', 'en/(en-1)', 'en/(en-1)^2', 'en/(en-1)^3'])"
      ],
      "metadata": {
        "id": "23rPujqe3Bgi"
      },
      "execution_count": 1325,
      "outputs": []
    },
    {
      "cell_type": "code",
      "source": [
        "col1 = [0]\n",
        "col2 = [1.5]\n",
        "col3 = [0.5]\n",
        "col4 = [\"undefined\"]\n",
        "col5 = [\"undefined\"]\n",
        "col6 = [\"undefined\"]"
      ],
      "metadata": {
        "id": "GhnCFjDe3Bua"
      },
      "execution_count": 1326,
      "outputs": []
    },
    {
      "cell_type": "code",
      "source": [
        "#run three iterations of Steffensen's method\n",
        "for i in range(3):\n",
        "  col1.append(i+1)\n",
        "  p_previous = col2[-1]\n",
        "  next_p = steffensen(newtons_fpi, 1.5, i+1)\n",
        "  col2.append(next_p)\n",
        "  \n",
        "  #accepted value of this root is x = 1\n",
        "  error = abs((1)-next_p)\n",
        "  previous_error = col3[-1]\n",
        "\n",
        "  col3.append(error)\n",
        "  col4.append(error/previous_error)\n",
        "  col5.append((error)/(previous_error**2))\n",
        "  col6.append((error)/((previous_error**3)))\n",
        "\n",
        "#populate the table\n",
        "steffensen_table['n'] = col1\n",
        "steffensen_table['pn'] = col2\n",
        "steffensen_table['en'] = col3\n",
        "steffensen_table['en/(en-1)'] = col4\n",
        "steffensen_table['en/(en-1)^2'] = col5\n",
        "steffensen_table['en/(en-1)^3'] = col6"
      ],
      "metadata": {
        "id": "u6dlH94k3Ds2",
        "outputId": "0dcf688d-9c1a-4b37-ce39-a0f9b770e56a",
        "colab": {
          "base_uri": "https://localhost:8080/"
        }
      },
      "execution_count": 1327,
      "outputs": [
        {
          "output_type": "stream",
          "name": "stdout",
          "text": [
            "Number of iterations :  1\n",
            "Final Approximation:  0.976284585\n",
            "Steffensen's Method sequence:  [0.976284585]\n",
            "Number of iterations :  2\n",
            "Final Approximation:  0.9999288665\n",
            "Steffensen's Method sequence:  [0.976284585, 0.9999288665]\n",
            "Number of iterations :  3\n",
            "Final Approximation:  0.9999999994\n",
            "Steffensen's Method sequence:  [0.976284585, 0.9999288665, 0.9999999994]\n"
          ]
        }
      ]
    },
    {
      "cell_type": "code",
      "source": [
        "steffensen_table"
      ],
      "metadata": {
        "id": "B6dJQgvl3aEm",
        "outputId": "9c3a2209-b795-48e0-cb11-5892c53987d0",
        "colab": {
          "base_uri": "https://localhost:8080/",
          "height": 175
        }
      },
      "execution_count": 1328,
      "outputs": [
        {
          "output_type": "execute_result",
          "data": {
            "text/plain": [
              "   n        pn            en  en/(en-1) en/(en-1)^2  en/(en-1)^3\n",
              "0  0  1.500000  5.000000e-01  undefined   undefined    undefined\n",
              "1  1  0.976285  2.371541e-02   0.047431    0.094862     0.189723\n",
              "2  2  0.999929  7.113350e-05   0.002999    0.126477     5.333128\n",
              "3  3  1.000000  6.000000e-10   0.000008    0.118578  1666.973717"
            ],
            "text/html": [
              "\n",
              "  <div id=\"df-543aea97-5b66-441b-b213-38469fdf8e58\">\n",
              "    <div class=\"colab-df-container\">\n",
              "      <div>\n",
              "<style scoped>\n",
              "    .dataframe tbody tr th:only-of-type {\n",
              "        vertical-align: middle;\n",
              "    }\n",
              "\n",
              "    .dataframe tbody tr th {\n",
              "        vertical-align: top;\n",
              "    }\n",
              "\n",
              "    .dataframe thead th {\n",
              "        text-align: right;\n",
              "    }\n",
              "</style>\n",
              "<table border=\"1\" class=\"dataframe\">\n",
              "  <thead>\n",
              "    <tr style=\"text-align: right;\">\n",
              "      <th></th>\n",
              "      <th>n</th>\n",
              "      <th>pn</th>\n",
              "      <th>en</th>\n",
              "      <th>en/(en-1)</th>\n",
              "      <th>en/(en-1)^2</th>\n",
              "      <th>en/(en-1)^3</th>\n",
              "    </tr>\n",
              "  </thead>\n",
              "  <tbody>\n",
              "    <tr>\n",
              "      <th>0</th>\n",
              "      <td>0</td>\n",
              "      <td>1.500000</td>\n",
              "      <td>5.000000e-01</td>\n",
              "      <td>undefined</td>\n",
              "      <td>undefined</td>\n",
              "      <td>undefined</td>\n",
              "    </tr>\n",
              "    <tr>\n",
              "      <th>1</th>\n",
              "      <td>1</td>\n",
              "      <td>0.976285</td>\n",
              "      <td>2.371541e-02</td>\n",
              "      <td>0.047431</td>\n",
              "      <td>0.094862</td>\n",
              "      <td>0.189723</td>\n",
              "    </tr>\n",
              "    <tr>\n",
              "      <th>2</th>\n",
              "      <td>2</td>\n",
              "      <td>0.999929</td>\n",
              "      <td>7.113350e-05</td>\n",
              "      <td>0.002999</td>\n",
              "      <td>0.126477</td>\n",
              "      <td>5.333128</td>\n",
              "    </tr>\n",
              "    <tr>\n",
              "      <th>3</th>\n",
              "      <td>3</td>\n",
              "      <td>1.000000</td>\n",
              "      <td>6.000000e-10</td>\n",
              "      <td>0.000008</td>\n",
              "      <td>0.118578</td>\n",
              "      <td>1666.973717</td>\n",
              "    </tr>\n",
              "  </tbody>\n",
              "</table>\n",
              "</div>\n",
              "      <button class=\"colab-df-convert\" onclick=\"convertToInteractive('df-543aea97-5b66-441b-b213-38469fdf8e58')\"\n",
              "              title=\"Convert this dataframe to an interactive table.\"\n",
              "              style=\"display:none;\">\n",
              "        \n",
              "  <svg xmlns=\"http://www.w3.org/2000/svg\" height=\"24px\"viewBox=\"0 0 24 24\"\n",
              "       width=\"24px\">\n",
              "    <path d=\"M0 0h24v24H0V0z\" fill=\"none\"/>\n",
              "    <path d=\"M18.56 5.44l.94 2.06.94-2.06 2.06-.94-2.06-.94-.94-2.06-.94 2.06-2.06.94zm-11 1L8.5 8.5l.94-2.06 2.06-.94-2.06-.94L8.5 2.5l-.94 2.06-2.06.94zm10 10l.94 2.06.94-2.06 2.06-.94-2.06-.94-.94-2.06-.94 2.06-2.06.94z\"/><path d=\"M17.41 7.96l-1.37-1.37c-.4-.4-.92-.59-1.43-.59-.52 0-1.04.2-1.43.59L10.3 9.45l-7.72 7.72c-.78.78-.78 2.05 0 2.83L4 21.41c.39.39.9.59 1.41.59.51 0 1.02-.2 1.41-.59l7.78-7.78 2.81-2.81c.8-.78.8-2.07 0-2.86zM5.41 20L4 18.59l7.72-7.72 1.47 1.35L5.41 20z\"/>\n",
              "  </svg>\n",
              "      </button>\n",
              "      \n",
              "  <style>\n",
              "    .colab-df-container {\n",
              "      display:flex;\n",
              "      flex-wrap:wrap;\n",
              "      gap: 12px;\n",
              "    }\n",
              "\n",
              "    .colab-df-convert {\n",
              "      background-color: #E8F0FE;\n",
              "      border: none;\n",
              "      border-radius: 50%;\n",
              "      cursor: pointer;\n",
              "      display: none;\n",
              "      fill: #1967D2;\n",
              "      height: 32px;\n",
              "      padding: 0 0 0 0;\n",
              "      width: 32px;\n",
              "    }\n",
              "\n",
              "    .colab-df-convert:hover {\n",
              "      background-color: #E2EBFA;\n",
              "      box-shadow: 0px 1px 2px rgba(60, 64, 67, 0.3), 0px 1px 3px 1px rgba(60, 64, 67, 0.15);\n",
              "      fill: #174EA6;\n",
              "    }\n",
              "\n",
              "    [theme=dark] .colab-df-convert {\n",
              "      background-color: #3B4455;\n",
              "      fill: #D2E3FC;\n",
              "    }\n",
              "\n",
              "    [theme=dark] .colab-df-convert:hover {\n",
              "      background-color: #434B5C;\n",
              "      box-shadow: 0px 1px 3px 1px rgba(0, 0, 0, 0.15);\n",
              "      filter: drop-shadow(0px 1px 2px rgba(0, 0, 0, 0.3));\n",
              "      fill: #FFFFFF;\n",
              "    }\n",
              "  </style>\n",
              "\n",
              "      <script>\n",
              "        const buttonEl =\n",
              "          document.querySelector('#df-543aea97-5b66-441b-b213-38469fdf8e58 button.colab-df-convert');\n",
              "        buttonEl.style.display =\n",
              "          google.colab.kernel.accessAllowed ? 'block' : 'none';\n",
              "\n",
              "        async function convertToInteractive(key) {\n",
              "          const element = document.querySelector('#df-543aea97-5b66-441b-b213-38469fdf8e58');\n",
              "          const dataTable =\n",
              "            await google.colab.kernel.invokeFunction('convertToInteractive',\n",
              "                                                     [key], {});\n",
              "          if (!dataTable) return;\n",
              "\n",
              "          const docLinkHtml = 'Like what you see? Visit the ' +\n",
              "            '<a target=\"_blank\" href=https://colab.research.google.com/notebooks/data_table.ipynb>data table notebook</a>'\n",
              "            + ' to learn more about interactive tables.';\n",
              "          element.innerHTML = '';\n",
              "          dataTable['output_type'] = 'display_data';\n",
              "          await google.colab.output.renderOutput(dataTable, element);\n",
              "          const docLink = document.createElement('div');\n",
              "          docLink.innerHTML = docLinkHtml;\n",
              "          element.appendChild(docLink);\n",
              "        }\n",
              "      </script>\n",
              "    </div>\n",
              "  </div>\n",
              "  "
            ]
          },
          "metadata": {},
          "execution_count": 1328
        }
      ]
    }
  ]
}