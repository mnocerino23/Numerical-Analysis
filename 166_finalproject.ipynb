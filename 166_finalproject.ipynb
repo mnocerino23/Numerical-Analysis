{
  "nbformat": 4,
  "nbformat_minor": 0,
  "metadata": {
    "colab": {
      "provenance": [],
      "authorship_tag": "ABX9TyPLXWYOiEXuD3dy8r6R1sl2",
      "include_colab_link": true
    },
    "kernelspec": {
      "name": "python3",
      "display_name": "Python 3"
    },
    "language_info": {
      "name": "python"
    }
  },
  "cells": [
    {
      "cell_type": "markdown",
      "metadata": {
        "id": "view-in-github",
        "colab_type": "text"
      },
      "source": [
        "<a href=\"https://colab.research.google.com/github/mnocerino23/Numerical-Analysis/blob/main/166_finalproject.ipynb\" target=\"_parent\"><img src=\"https://colab.research.google.com/assets/colab-badge.svg\" alt=\"Open In Colab\"/></a>"
      ]
    },
    {
      "cell_type": "markdown",
      "source": [
        "# Homework Problems for Aitken's Method"
      ],
      "metadata": {
        "id": "1vGfwekHD-EM"
      }
    },
    {
      "cell_type": "code",
      "execution_count": 3,
      "metadata": {
        "id": "jkCl1bwqD616"
      },
      "outputs": [],
      "source": [
        "import pandas as pd\n",
        "import numpy as np"
      ]
    },
    {
      "cell_type": "code",
      "source": [
        "def f(x):\n",
        "  return ((x**3)+(x**2)-(5*x)+3)\n",
        "def fprime(x):\n",
        "  return ((3*(x**2))+(2*x)-5)"
      ],
      "metadata": {
        "id": "VUe_LXzdEry4"
      },
      "execution_count": 5,
      "outputs": []
    },
    {
      "cell_type": "code",
      "source": [
        "#newton's method function from HW4\n",
        "def newtons_method(function, derivative, p, iterations):\n",
        "  for i in range(iterations):\n",
        "    next_p = p - (f(p)/fprime(p))\n",
        "    p = next_p\n",
        "  return p"
      ],
      "metadata": {
        "id": "9LzVN6SXFBnx"
      },
      "execution_count": 6,
      "outputs": []
    },
    {
      "cell_type": "code",
      "source": [
        "def aitkens(function, derivative, guess, iterations):\n",
        "  for i in range(iterations):\n"
      ],
      "metadata": {
        "id": "ynia7UelFE2Y"
      },
      "execution_count": null,
      "outputs": []
    },
    {
      "cell_type": "code",
      "source": [
        "newtons_method(f, fprime, 4.5, 7)"
      ],
      "metadata": {
        "colab": {
          "base_uri": "https://localhost:8080/"
        },
        "id": "9EeN7KuHGjDE",
        "outputId": "97bd1a11-0b16-44e5-9c99-2bcd6829de52"
      },
      "execution_count": 16,
      "outputs": [
        {
          "output_type": "execute_result",
          "data": {
            "text/plain": [
              "1.047006177019797"
            ]
          },
          "metadata": {},
          "execution_count": 16
        }
      ]
    }
  ]
}