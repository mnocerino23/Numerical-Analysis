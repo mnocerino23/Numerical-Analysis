{
  "nbformat": 4,
  "nbformat_minor": 0,
  "metadata": {
    "colab": {
      "provenance": [],
      "authorship_tag": "ABX9TyP7BtFvYw5Jj4biyI85Nwrh",
      "include_colab_link": true
    },
    "kernelspec": {
      "name": "python3",
      "display_name": "Python 3"
    },
    "language_info": {
      "name": "python"
    }
  },
  "cells": [
    {
      "cell_type": "markdown",
      "metadata": {
        "id": "view-in-github",
        "colab_type": "text"
      },
      "source": [
        "<a href=\"https://colab.research.google.com/github/mnocerino23/Numerical-Analysis/blob/main/166_finalproject.ipynb\" target=\"_parent\"><img src=\"https://colab.research.google.com/assets/colab-badge.svg\" alt=\"Open In Colab\"/></a>"
      ]
    },
    {
      "cell_type": "markdown",
      "source": [
        "# Homework Problems for Aitken's Method"
      ],
      "metadata": {
        "id": "1vGfwekHD-EM"
      }
    },
    {
      "cell_type": "code",
      "execution_count": 15,
      "metadata": {
        "id": "jkCl1bwqD616"
      },
      "outputs": [],
      "source": [
        "import pandas as pd\n",
        "import numpy as np"
      ]
    },
    {
      "cell_type": "code",
      "source": [
        "def f(x):\n",
        "  return ((x**3)+(x**2)-(5*x)+3)\n",
        "def fprime(x):\n",
        "  return ((3*(x**2))+(2*x)-5)"
      ],
      "metadata": {
        "id": "VUe_LXzdEry4"
      },
      "execution_count": 16,
      "outputs": []
    },
    {
      "cell_type": "code",
      "source": [
        "#newton's method function from HW4\n",
        "def newtons_method(function, derivative, p, iterations):\n",
        "  for i in range(iterations):\n",
        "    next_p = p - (f(p)/fprime(p))\n",
        "    p = next_p\n",
        "  return p"
      ],
      "metadata": {
        "id": "9LzVN6SXFBnx"
      },
      "execution_count": 17,
      "outputs": []
    },
    {
      "cell_type": "code",
      "source": [
        "def aitkens(function, derivative, guess, iterations):\n",
        "  #get all the sequence values needed to perform n-iterations of aitken's method. For each iteration n, we need \n",
        "  #two terms further out in the original sequence (n+2)\n",
        "  sequence_values = []\n",
        "  for i in range(iterations+2):\n",
        "    sequence_values.append(newtons_method(function, derivative, guess, i+1))\n",
        "  print(\"Number of iterations : \", iterations+2)\n",
        "  print(\"Final approximation: \", sequence_values[-1])\n",
        "  print(\"Original sequence: \", sequence_values)\n",
        "  \n",
        "  aitkens_sequence = []\n",
        "  for i in range(iterations):\n",
        "    #p_n which is the value of the original sequence at iteration i is given by sequence_values[i]\n",
        "    p_n = sequence_values[i]\n",
        "    #numerator is the forward difference squared\n",
        "    numerator = ((sequence_values[i+1] - p_n)**2)\n",
        "    #denominator is the second order forward difference that we derived\n",
        "    denominator = (sequence_values[i+2] - (2*sequence_values[i+1]) + p_n)\n",
        "    #apply aitkens delta squared formula to find the nth term of p-hat\n",
        "    aitkens_sequence.append((p_n - (numerator/denominator)))\n",
        "  print(\"Number of iterations : \", iterations)\n",
        "  print(\"Final Approximation: \", aitkens_sequence[-1])\n",
        "  print(\"Aitken's Method sequence: \", aitkens_sequence)"
      ],
      "metadata": {
        "id": "ynia7UelFE2Y"
      },
      "execution_count": 18,
      "outputs": []
    },
    {
      "cell_type": "markdown",
      "source": [
        "# Now use the function we coded to verify that aitken's method accelerates the convergence of Newton's method which is known to converge linearly for this function due to the function's root of multiplicity two at x = 1"
      ],
      "metadata": {
        "id": "hht2VWv5chX1"
      }
    },
    {
      "cell_type": "code",
      "source": [
        "aitkens(f, fprime, 10, 7)"
      ],
      "metadata": {
        "id": "KOnHMpbOckv_",
        "outputId": "9a591d02-ad90-4a38-fa8d-ef917e97aa1e",
        "colab": {
          "base_uri": "https://localhost:8080/"
        }
      },
      "execution_count": 19,
      "outputs": [
        {
          "output_type": "stream",
          "name": "stdout",
          "text": [
            "Number of iterations :  9\n",
            "Final approximation:  1.0464469550143396\n",
            "Original sequence:  [6.657142857142857, 4.469369074861065, 3.0616198825682472, 2.180627304506623, 1.6506972553169426, 1.3466208851915866, 1.1799557890257473, 1.0918739477307917, 1.0464469550143396]\n",
            "Number of iterations :  7\n",
            "Final Approximation:  0.998067656153094\n",
            "Aitken's Method sequence:  [0.5209848643451718, 0.7071803621602748, 0.850766092237409, 0.9372299943649705, 0.977808952892403, 0.9931453982623688, 0.998067656153094]\n"
          ]
        }
      ]
    },
    {
      "cell_type": "code",
      "source": [
        "aitkens(f, fprime, -11, 4)"
      ],
      "metadata": {
        "colab": {
          "base_uri": "https://localhost:8080/"
        },
        "id": "YCfSYXTjZpD6",
        "outputId": "074c55b4-5df5-4e15-abc3-080599b4a070"
      },
      "execution_count": 20,
      "outputs": [
        {
          "output_type": "stream",
          "name": "stdout",
          "text": [
            "Number of iterations :  6\n",
            "Final approximation:  -3.000566877717749\n",
            "Original sequence:  [-7.571428571428571, -5.3594470046082945, -4.005022351380571, -3.287971567193555, -3.0340991273901095, -3.000566877717749]\n",
            "Number of iterations :  4\n",
            "Final Approximation:  -2.9954638061109735\n",
            "Aitken's Method sequence:  [-1.8658452166689745, -2.4812836057352907, -2.89494923734607, -2.9954638061109735]\n"
          ]
        }
      ]
    },
    {
      "cell_type": "markdown",
      "source": [
        "# Implement Steffenson's method"
      ],
      "metadata": {
        "id": "sykHtPKWdXkS"
      }
    },
    {
      "cell_type": "code",
      "source": [
        "def steffenson(fpi, guess, iterations):\n",
        "  sequence_values = [guess, fpi(guess), fpi(fpi(guess))]\n",
        "  print(sequence_values)\n",
        "  \n",
        "  steffensen_sequence = []\n",
        "  for i in range(iterations):\n",
        "    #p_n which is the value of the original sequence at iteration i is given by sequence_values[i]\n",
        "    p_n = sequence_values[-3]\n",
        "    #numerator is the forward difference squared\n",
        "    numerator = ((sequence_values[-2] - p_n)**2)\n",
        "    #denominator is the second order forward difference that we derived\n",
        "    denominator = (sequence_values[-1] - (2*sequence_values[-2]) + p_n)\n",
        "    #apply aitkens delta squared formula to find the nth term of p-hat\n",
        "    steffensen_sequence.append((p_n - (numerator/denominator)))\n",
        "    #add on the next term to sequence values by evaluating the fixed point iteration at p_hat\n",
        "    sequence_values.append(fpi(p_n - (numerator/denominator)))\n",
        "  print(\"Number of iterations : \", iterations)\n",
        "  print(\"Final Approximation: \", steffensen_sequence[-1])\n",
        "  print(\"Steffensen's Method sequence: \", steffensen_sequence)"
      ],
      "metadata": {
        "id": "9RtdmmTjdBV_"
      },
      "execution_count": 31,
      "outputs": []
    },
    {
      "cell_type": "code",
      "source": [
        "def h(x):\n",
        "  return ((10/(x+4))**(1/2))"
      ],
      "metadata": {
        "id": "oLOi9lxO74Gx"
      },
      "execution_count": 32,
      "outputs": []
    },
    {
      "cell_type": "code",
      "source": [
        "steffenson(h, 1.5, 5)"
      ],
      "metadata": {
        "id": "5uMigOqc-ByJ",
        "outputId": "7575209c-7d9a-463c-f36c-1940f67c6185",
        "colab": {
          "base_uri": "https://localhost:8080/"
        }
      },
      "execution_count": 33,
      "outputs": [
        {
          "output_type": "stream",
          "name": "stdout",
          "text": [
            "[1.5, 1.348399724926484, 1.3673763719912828]\n",
            "Number of iterations :  5\n",
            "Final Approximation:  1.3652319069531573\n",
            "Steffensen's Method sequence:  [1.3652652239572602, 1.3654444951102276, 1.365202481405645, 1.3652158281823754, 1.3652319069531573]\n"
          ]
        }
      ]
    }
  ]
}