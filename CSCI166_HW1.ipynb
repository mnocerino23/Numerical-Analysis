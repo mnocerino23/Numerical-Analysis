{
  "nbformat": 4,
  "nbformat_minor": 0,
  "metadata": {
    "colab": {
      "provenance": [],
      "collapsed_sections": []
    },
    "kernelspec": {
      "name": "python3",
      "display_name": "Python 3"
    },
    "language_info": {
      "name": "python"
    }
  },
  "cells": [
    {
      "cell_type": "markdown",
      "source": [
        "# Note: I decided to use Python for the homework since I am comfortable with its libraries and syntax"
      ],
      "metadata": {
        "id": "LboygBCL7wD8"
      }
    },
    {
      "cell_type": "code",
      "execution_count": 32,
      "metadata": {
        "id": "2RYLiSbKYyov"
      },
      "outputs": [],
      "source": [
        "#Import the necessary python libraries for plotting, numpy and matplotlib\n",
        "\n",
        "import numpy as np\n",
        "import matplotlib.pyplot as plt\n",
        "\n",
        "%matplotlib inline"
      ]
    },
    {
      "cell_type": "markdown",
      "source": [
        "# Question 1: Plot f(x) = sin(x) from o to pi"
      ],
      "metadata": {
        "id": "uASr6wyhZQLr"
      }
    },
    {
      "cell_type": "code",
      "source": [
        "#set the x range from 0-pi (given by numpy pi) and use a step size of 0.001\n",
        "x = np.arange(0,np.pi,0.001)\n",
        "#f(x) = numpy's sin(x)\n",
        "y = np.sin(x)\n",
        "\n",
        "plt.plot(x,y)\n",
        "plt.xlabel('x')\n",
        "plt.ylabel('f(x)')"
      ],
      "metadata": {
        "colab": {
          "base_uri": "https://localhost:8080/",
          "height": 297
        },
        "id": "qPE5IXF6ZHr_",
        "outputId": "a22b7425-18f8-4acc-da37-bd6870ae68ec"
      },
      "execution_count": 33,
      "outputs": [
        {
          "output_type": "execute_result",
          "data": {
            "text/plain": [
              "Text(0, 0.5, 'f(x)')"
            ]
          },
          "metadata": {},
          "execution_count": 33
        },
        {
          "output_type": "display_data",
          "data": {
            "text/plain": [
              "<Figure size 432x288 with 1 Axes>"
            ],
            "image/png": "[encoded data removed]"
          },
          "metadata": {
            "needs_background": "light"
          }
        }
      ]
    },
    {
      "cell_type": "markdown",
      "source": [
        "#Question 2: Linear Algebra"
      ],
      "metadata": {
        "id": "2RdpOYh9a3Sd"
      }
    },
    {
      "cell_type": "markdown",
      "source": [
        "#2A:"
      ],
      "metadata": {
        "id": "OlFtNEOna-oy"
      }
    },
    {
      "cell_type": "code",
      "source": [
        "#we can use numpy arrays to represent matrices in python"
      ],
      "metadata": {
        "id": "TGSNOXhObAuc"
      },
      "execution_count": 34,
      "outputs": []
    },
    {
      "cell_type": "code",
      "source": [
        "#feeding in a list of lists to np.array creates \n",
        "a = np.array([[1,2],[3,-1]])\n",
        "b = np.array([[1,2,0],[3,-1,-1]])\n",
        "c = np.array([[4],[-2]])"
      ],
      "metadata": {
        "id": "VTZc3gJEbi7P"
      },
      "execution_count": 35,
      "outputs": []
    },
    {
      "cell_type": "code",
      "source": [
        "print('Matrix A: ')\n",
        "print(a)\n",
        "print('Matrix B: ')\n",
        "print(b)\n",
        "print('Matrix x: ')\n",
        "print(c)"
      ],
      "metadata": {
        "colab": {
          "base_uri": "https://localhost:8080/"
        },
        "id": "0D5f3wBRbq_0",
        "outputId": "c4385d47-445e-49d2-c8e4-9ad7934ee6bc"
      },
      "execution_count": 36,
      "outputs": [
        {
          "output_type": "stream",
          "name": "stdout",
          "text": [
            "Matrix A: \n",
            "[[ 1  2]\n",
            " [ 3 -1]]\n",
            "Matrix B: \n",
            "[[ 1  2  0]\n",
            " [ 3 -1 -1]]\n",
            "Matrix x: \n",
            "[[ 4]\n",
            " [-2]]\n"
          ]
        }
      ]
    },
    {
      "cell_type": "code",
      "source": [
        "print('AB: ')\n",
        "product = a.dot(b)\n",
        "print(product)"
      ],
      "metadata": {
        "colab": {
          "base_uri": "https://localhost:8080/"
        },
        "id": "APOuxuDDf77J",
        "outputId": "aea81efc-246b-4db1-8277-0a52605fa802"
      },
      "execution_count": 37,
      "outputs": [
        {
          "output_type": "stream",
          "name": "stdout",
          "text": [
            "AB: \n",
            "[[ 7  0 -2]\n",
            " [ 0  7  1]]\n"
          ]
        }
      ]
    },
    {
      "cell_type": "code",
      "source": [
        "product_two = a.dot(c)\n",
        "print('Ax: ')\n",
        "print(product_two)"
      ],
      "metadata": {
        "colab": {
          "base_uri": "https://localhost:8080/"
        },
        "id": "4MUUJS0GdDMp",
        "outputId": "f36507a0-96bd-4850-afc6-1a477c93b131"
      },
      "execution_count": 38,
      "outputs": [
        {
          "output_type": "stream",
          "name": "stdout",
          "text": [
            "Ax: \n",
            "[[ 0]\n",
            " [14]]\n"
          ]
        }
      ]
    },
    {
      "cell_type": "code",
      "source": [
        "b_tranpose = b.transpose()\n",
        "print(b_tranpose)"
      ],
      "metadata": {
        "colab": {
          "base_uri": "https://localhost:8080/"
        },
        "id": "4yattoyRgYTK",
        "outputId": "ec424753-9920-4ea4-a74d-068009ffeb1a"
      },
      "execution_count": 39,
      "outputs": [
        {
          "output_type": "stream",
          "name": "stdout",
          "text": [
            "[[ 1  3]\n",
            " [ 2 -1]\n",
            " [ 0 -1]]\n"
          ]
        }
      ]
    },
    {
      "cell_type": "code",
      "source": [
        "print('B tranpose * x: ')\n",
        "product_three = b_tranpose.dot(c)\n",
        "print(product_three)"
      ],
      "metadata": {
        "colab": {
          "base_uri": "https://localhost:8080/"
        },
        "id": "Rwnu-e-Ngk0r",
        "outputId": "d60715c4-ce67-4cff-a7c5-d5247bee5481"
      },
      "execution_count": 40,
      "outputs": [
        {
          "output_type": "stream",
          "name": "stdout",
          "text": [
            "B tranpose * x: \n",
            "[[-2]\n",
            " [10]\n",
            " [ 2]]\n"
          ]
        }
      ]
    },
    {
      "cell_type": "markdown",
      "source": [
        "# Question 3: Programming Loops"
      ],
      "metadata": {
        "id": "toWXGthKgz8M"
      }
    },
    {
      "cell_type": "markdown",
      "source": [
        "# 3A"
      ],
      "metadata": {
        "id": "e9ZYqz3i1vZR"
      }
    },
    {
      "cell_type": "code",
      "source": [
        "rows = []\n",
        "for i in range(10):\n",
        "  new_row = []\n",
        "  row_number = i + 1\n",
        "  for j in range(12):\n",
        "    column_number = j + 1\n",
        "    #check if the sum is even using mod\n",
        "    if (row_number+column_number)%2 == 0:\n",
        "      new_row.append(row_number+column_number)\n",
        "    else:\n",
        "      new_row.append(row_number - (2* column_number))\n",
        "  rows.append(new_row)"
      ],
      "metadata": {
        "id": "bkDxVu1zuQem"
      },
      "execution_count": 41,
      "outputs": []
    },
    {
      "cell_type": "code",
      "source": [
        "#create a numpy array with \n",
        "matrix = np.array([rows])\n",
        "print(matrix)"
      ],
      "metadata": {
        "colab": {
          "base_uri": "https://localhost:8080/"
        },
        "id": "XdFKrAPxudm_",
        "outputId": "73a0c3f8-a8de-43f8-f316-443c8bc1913c"
      },
      "execution_count": 42,
      "outputs": [
        {
          "output_type": "stream",
          "name": "stdout",
          "text": [
            "[[[  2  -3   4  -7   6 -11   8 -15  10 -19  12 -23]\n",
            "  [  0   4  -4   6  -8   8 -12  10 -16  12 -20  14]\n",
            "  [  4  -1   6  -5   8  -9  10 -13  12 -17  14 -21]\n",
            "  [  2   6  -2   8  -6  10 -10  12 -14  14 -18  16]\n",
            "  [  6   1   8  -3  10  -7  12 -11  14 -15  16 -19]\n",
            "  [  4   8   0  10  -4  12  -8  14 -12  16 -16  18]\n",
            "  [  8   3  10  -1  12  -5  14  -9  16 -13  18 -17]\n",
            "  [  6  10   2  12  -2  14  -6  16 -10  18 -14  20]\n",
            "  [ 10   5  12   1  14  -3  16  -7  18 -11  20 -15]\n",
            "  [  8  12   4  14   0  16  -4  18  -8  20 -12  22]]]\n"
          ]
        }
      ]
    },
    {
      "cell_type": "markdown",
      "source": [
        "# 3B"
      ],
      "metadata": {
        "id": "-T51TQA21x0D"
      }
    },
    {
      "cell_type": "code",
      "source": [
        "vector = [1]\n",
        "for i in range(99):\n",
        "  xn = vector[-1]\n",
        "  numerator = 3* xn\n",
        "  denominator = (xn ** 2) + 1\n",
        "  vector.append(numerator/denominator)"
      ],
      "metadata": {
        "id": "kC7i480S11o8"
      },
      "execution_count": 43,
      "outputs": []
    },
    {
      "cell_type": "code",
      "source": [
        "len(vector)\n",
        "vector"
      ],
      "metadata": {
        "colab": {
          "base_uri": "https://localhost:8080/"
        },
        "id": "LxXCS4BJ7Jvr",
        "outputId": "8f34f2ae-3d11-421d-fe0c-403d2ff063b2"
      },
      "execution_count": 44,
      "outputs": [
        {
          "output_type": "execute_result",
          "data": {
            "text/plain": [
              "[1,\n",
              " 1.5,\n",
              " 1.3846153846153846,\n",
              " 1.4239350912778903,\n",
              " 1.4109584387099052,\n",
              " 1.4152969296564542,\n",
              " 1.4138522558479472,\n",
              " 1.414333977356486,\n",
              " 1.4141734217673316,\n",
              " 1.4142269423218128,\n",
              " 1.414209102362059,\n",
              " 1.4142150490403147,\n",
              " 1.4142130668170079,\n",
              " 1.4142137275584188,\n",
              " 1.414213507311316,\n",
              " 1.414213580727021,\n",
              " 1.4142135562551197,\n",
              " 1.4142135644124203,\n",
              " 1.41421356169332,\n",
              " 1.4142135625996868,\n",
              " 1.4142135622975645,\n",
              " 1.414213562398272,\n",
              " 1.4142135623647025,\n",
              " 1.4142135623758925,\n",
              " 1.4142135623721626,\n",
              " 1.414213562373406,\n",
              " 1.4142135623729915,\n",
              " 1.4142135623731298,\n",
              " 1.4142135623730836,\n",
              " 1.414213562373099,\n",
              " 1.4142135623730936,\n",
              " 1.4142135623730956,\n",
              " 1.414213562373095,\n",
              " 1.4142135623730951,\n",
              " 1.414213562373095,\n",
              " 1.4142135623730951,\n",
              " 1.414213562373095,\n",
              " 1.4142135623730951,\n",
              " 1.414213562373095,\n",
              " 1.4142135623730951,\n",
              " 1.414213562373095,\n",
              " 1.4142135623730951,\n",
              " 1.414213562373095,\n",
              " 1.4142135623730951,\n",
              " 1.414213562373095,\n",
              " 1.4142135623730951,\n",
              " 1.414213562373095,\n",
              " 1.4142135623730951,\n",
              " 1.414213562373095,\n",
              " 1.4142135623730951,\n",
              " 1.414213562373095,\n",
              " 1.4142135623730951,\n",
              " 1.414213562373095,\n",
              " 1.4142135623730951,\n",
              " 1.414213562373095,\n",
              " 1.4142135623730951,\n",
              " 1.414213562373095,\n",
              " 1.4142135623730951,\n",
              " 1.414213562373095,\n",
              " 1.4142135623730951,\n",
              " 1.414213562373095,\n",
              " 1.4142135623730951,\n",
              " 1.414213562373095,\n",
              " 1.4142135623730951,\n",
              " 1.414213562373095,\n",
              " 1.4142135623730951,\n",
              " 1.414213562373095,\n",
              " 1.4142135623730951,\n",
              " 1.414213562373095,\n",
              " 1.4142135623730951,\n",
              " 1.414213562373095,\n",
              " 1.4142135623730951,\n",
              " 1.414213562373095,\n",
              " 1.4142135623730951,\n",
              " 1.414213562373095,\n",
              " 1.4142135623730951,\n",
              " 1.414213562373095,\n",
              " 1.4142135623730951,\n",
              " 1.414213562373095,\n",
              " 1.4142135623730951,\n",
              " 1.414213562373095,\n",
              " 1.4142135623730951,\n",
              " 1.414213562373095,\n",
              " 1.4142135623730951,\n",
              " 1.414213562373095,\n",
              " 1.4142135623730951,\n",
              " 1.414213562373095,\n",
              " 1.4142135623730951,\n",
              " 1.414213562373095,\n",
              " 1.4142135623730951,\n",
              " 1.414213562373095,\n",
              " 1.4142135623730951,\n",
              " 1.414213562373095,\n",
              " 1.4142135623730951,\n",
              " 1.414213562373095,\n",
              " 1.4142135623730951,\n",
              " 1.414213562373095,\n",
              " 1.4142135623730951,\n",
              " 1.414213562373095,\n",
              " 1.4142135623730951]"
            ]
          },
          "metadata": {},
          "execution_count": 44
        }
      ]
    },
    {
      "cell_type": "markdown",
      "source": [
        "# Question 4: Displaying Results in a Table"
      ],
      "metadata": {
        "id": "HKz5QYVvg6eF"
      }
    },
    {
      "cell_type": "code",
      "source": [
        "import pandas as pd\n",
        "inputs = [1,0.1,0.01,0.001,0.0001]"
      ],
      "metadata": {
        "id": "5ltN6vJag-Xb"
      },
      "execution_count": 45,
      "outputs": []
    },
    {
      "cell_type": "code",
      "source": [
        "table = pd.DataFrame(columns = ['x','f(x)','e(x)'])"
      ],
      "metadata": {
        "id": "ewyFw7L4j0lN"
      },
      "execution_count": 46,
      "outputs": []
    },
    {
      "cell_type": "code",
      "source": [
        "table['x'] = inputs"
      ],
      "metadata": {
        "id": "sCBpSXP2j69c"
      },
      "execution_count": 47,
      "outputs": []
    },
    {
      "cell_type": "code",
      "source": [
        "#create empty table\n",
        "table.head()"
      ],
      "metadata": {
        "colab": {
          "base_uri": "https://localhost:8080/",
          "height": 206
        },
        "id": "pZqqSc26zNUV",
        "outputId": "7344b468-1f57-42a7-da94-ab5d253cfa2a"
      },
      "execution_count": 48,
      "outputs": [
        {
          "output_type": "execute_result",
          "data": {
            "text/plain": [
              "        x f(x) e(x)\n",
              "0  1.0000  NaN  NaN\n",
              "1  0.1000  NaN  NaN\n",
              "2  0.0100  NaN  NaN\n",
              "3  0.0010  NaN  NaN\n",
              "4  0.0001  NaN  NaN"
            ],
            "text/html": [
              "\n",
              "  <div id=\"df-64fb5f6e-db97-4f01-b299-d2467c381b54\">\n",
              "    <div class=\"colab-df-container\">\n",
              "      <div>\n",
              "<style scoped>\n",
              "    .dataframe tbody tr th:only-of-type {\n",
              "        vertical-align: middle;\n",
              "    }\n",
              "\n",
              "    .dataframe tbody tr th {\n",
              "        vertical-align: top;\n",
              "    }\n",
              "\n",
              "    .dataframe thead th {\n",
              "        text-align: right;\n",
              "    }\n",
              "</style>\n",
              "<table border=\"1\" class=\"dataframe\">\n",
              "  <thead>\n",
              "    <tr style=\"text-align: right;\">\n",
              "      <th></th>\n",
              "      <th>x</th>\n",
              "      <th>f(x)</th>\n",
              "      <th>e(x)</th>\n",
              "    </tr>\n",
              "  </thead>\n",
              "  <tbody>\n",
              "    <tr>\n",
              "      <th>0</th>\n",
              "      <td>1.0000</td>\n",
              "      <td>NaN</td>\n",
              "      <td>NaN</td>\n",
              "    </tr>\n",
              "    <tr>\n",
              "      <th>1</th>\n",
              "      <td>0.1000</td>\n",
              "      <td>NaN</td>\n",
              "      <td>NaN</td>\n",
              "    </tr>\n",
              "    <tr>\n",
              "      <th>2</th>\n",
              "      <td>0.0100</td>\n",
              "      <td>NaN</td>\n",
              "      <td>NaN</td>\n",
              "    </tr>\n",
              "    <tr>\n",
              "      <th>3</th>\n",
              "      <td>0.0010</td>\n",
              "      <td>NaN</td>\n",
              "      <td>NaN</td>\n",
              "    </tr>\n",
              "    <tr>\n",
              "      <th>4</th>\n",
              "      <td>0.0001</td>\n",
              "      <td>NaN</td>\n",
              "      <td>NaN</td>\n",
              "    </tr>\n",
              "  </tbody>\n",
              "</table>\n",
              "</div>\n",
              "      <button class=\"colab-df-convert\" onclick=\"convertToInteractive('df-64fb5f6e-db97-4f01-b299-d2467c381b54')\"\n",
              "              title=\"Convert this dataframe to an interactive table.\"\n",
              "              style=\"display:none;\">\n",
              "        \n",
              "  <svg xmlns=\"http://www.w3.org/2000/svg\" height=\"24px\"viewBox=\"0 0 24 24\"\n",
              "       width=\"24px\">\n",
              "    <path d=\"M0 0h24v24H0V0z\" fill=\"none\"/>\n",
              "    <path d=\"M18.56 5.44l.94 2.06.94-2.06 2.06-.94-2.06-.94-.94-2.06-.94 2.06-2.06.94zm-11 1L8.5 8.5l.94-2.06 2.06-.94-2.06-.94L8.5 2.5l-.94 2.06-2.06.94zm10 10l.94 2.06.94-2.06 2.06-.94-2.06-.94-.94-2.06-.94 2.06-2.06.94z\"/><path d=\"M17.41 7.96l-1.37-1.37c-.4-.4-.92-.59-1.43-.59-.52 0-1.04.2-1.43.59L10.3 9.45l-7.72 7.72c-.78.78-.78 2.05 0 2.83L4 21.41c.39.39.9.59 1.41.59.51 0 1.02-.2 1.41-.59l7.78-7.78 2.81-2.81c.8-.78.8-2.07 0-2.86zM5.41 20L4 18.59l7.72-7.72 1.47 1.35L5.41 20z\"/>\n",
              "  </svg>\n",
              "      </button>\n",
              "      \n",
              "  <style>\n",
              "    .colab-df-container {\n",
              "      display:flex;\n",
              "      flex-wrap:wrap;\n",
              "      gap: 12px;\n",
              "    }\n",
              "\n",
              "    .colab-df-convert {\n",
              "      background-color: #E8F0FE;\n",
              "      border: none;\n",
              "      border-radius: 50%;\n",
              "      cursor: pointer;\n",
              "      display: none;\n",
              "      fill: #1967D2;\n",
              "      height: 32px;\n",
              "      padding: 0 0 0 0;\n",
              "      width: 32px;\n",
              "    }\n",
              "\n",
              "    .colab-df-convert:hover {\n",
              "      background-color: #E2EBFA;\n",
              "      box-shadow: 0px 1px 2px rgba(60, 64, 67, 0.3), 0px 1px 3px 1px rgba(60, 64, 67, 0.15);\n",
              "      fill: #174EA6;\n",
              "    }\n",
              "\n",
              "    [theme=dark] .colab-df-convert {\n",
              "      background-color: #3B4455;\n",
              "      fill: #D2E3FC;\n",
              "    }\n",
              "\n",
              "    [theme=dark] .colab-df-convert:hover {\n",
              "      background-color: #434B5C;\n",
              "      box-shadow: 0px 1px 3px 1px rgba(0, 0, 0, 0.15);\n",
              "      filter: drop-shadow(0px 1px 2px rgba(0, 0, 0, 0.3));\n",
              "      fill: #FFFFFF;\n",
              "    }\n",
              "  </style>\n",
              "\n",
              "      <script>\n",
              "        const buttonEl =\n",
              "          document.querySelector('#df-64fb5f6e-db97-4f01-b299-d2467c381b54 button.colab-df-convert');\n",
              "        buttonEl.style.display =\n",
              "          google.colab.kernel.accessAllowed ? 'block' : 'none';\n",
              "\n",
              "        async function convertToInteractive(key) {\n",
              "          const element = document.querySelector('#df-64fb5f6e-db97-4f01-b299-d2467c381b54');\n",
              "          const dataTable =\n",
              "            await google.colab.kernel.invokeFunction('convertToInteractive',\n",
              "                                                     [key], {});\n",
              "          if (!dataTable) return;\n",
              "\n",
              "          const docLinkHtml = 'Like what you see? Visit the ' +\n",
              "            '<a target=\"_blank\" href=https://colab.research.google.com/notebooks/data_table.ipynb>data table notebook</a>'\n",
              "            + ' to learn more about interactive tables.';\n",
              "          element.innerHTML = '';\n",
              "          dataTable['output_type'] = 'display_data';\n",
              "          await google.colab.output.renderOutput(dataTable, element);\n",
              "          const docLink = document.createElement('div');\n",
              "          docLink.innerHTML = docLinkHtml;\n",
              "          element.appendChild(docLink);\n",
              "        }\n",
              "      </script>\n",
              "    </div>\n",
              "  </div>\n",
              "  "
            ]
          },
          "metadata": {},
          "execution_count": 48
        }
      ]
    },
    {
      "cell_type": "code",
      "source": [
        "#write functions for both functions we want to calculate\n",
        "def f(x):\n",
        "  return (np.sin(x) * (1/x))\n",
        "def e(x):\n",
        "  return abs(f(x) -1)"
      ],
      "metadata": {
        "id": "sd_HUwYuzUy9"
      },
      "execution_count": 49,
      "outputs": []
    },
    {
      "cell_type": "code",
      "source": [
        "for index, row in table.iterrows():\n",
        "  input = table.at[index,'x']\n",
        "  table.at[index,'f(x)'] = f(input)\n",
        "  table.at[index,'e(x)'] = e(input)"
      ],
      "metadata": {
        "id": "hjW2KL16zfPG"
      },
      "execution_count": 50,
      "outputs": []
    },
    {
      "cell_type": "code",
      "source": [
        "#final table with results\n",
        "table.head()"
      ],
      "metadata": {
        "colab": {
          "base_uri": "https://localhost:8080/",
          "height": 206
        },
        "id": "HwZlj5uI0Wh6",
        "outputId": "d7a87ecb-868a-4a29-8567-863741cd8d05"
      },
      "execution_count": 51,
      "outputs": [
        {
          "output_type": "execute_result",
          "data": {
            "text/plain": [
              "        x      f(x)      e(x)\n",
              "0  1.0000  0.841471  0.158529\n",
              "1  0.1000  0.998334  0.001666\n",
              "2  0.0100  0.999983  0.000017\n",
              "3  0.0010       1.0       0.0\n",
              "4  0.0001       1.0       0.0"
            ],
            "text/html": [
              "\n",
              "  <div id=\"df-6bc86033-8fe8-4bed-9faf-f67c7f521fb4\">\n",
              "    <div class=\"colab-df-container\">\n",
              "      <div>\n",
              "<style scoped>\n",
              "    .dataframe tbody tr th:only-of-type {\n",
              "        vertical-align: middle;\n",
              "    }\n",
              "\n",
              "    .dataframe tbody tr th {\n",
              "        vertical-align: top;\n",
              "    }\n",
              "\n",
              "    .dataframe thead th {\n",
              "        text-align: right;\n",
              "    }\n",
              "</style>\n",
              "<table border=\"1\" class=\"dataframe\">\n",
              "  <thead>\n",
              "    <tr style=\"text-align: right;\">\n",
              "      <th></th>\n",
              "      <th>x</th>\n",
              "      <th>f(x)</th>\n",
              "      <th>e(x)</th>\n",
              "    </tr>\n",
              "  </thead>\n",
              "  <tbody>\n",
              "    <tr>\n",
              "      <th>0</th>\n",
              "      <td>1.0000</td>\n",
              "      <td>0.841471</td>\n",
              "      <td>0.158529</td>\n",
              "    </tr>\n",
              "    <tr>\n",
              "      <th>1</th>\n",
              "      <td>0.1000</td>\n",
              "      <td>0.998334</td>\n",
              "      <td>0.001666</td>\n",
              "    </tr>\n",
              "    <tr>\n",
              "      <th>2</th>\n",
              "      <td>0.0100</td>\n",
              "      <td>0.999983</td>\n",
              "      <td>0.000017</td>\n",
              "    </tr>\n",
              "    <tr>\n",
              "      <th>3</th>\n",
              "      <td>0.0010</td>\n",
              "      <td>1.0</td>\n",
              "      <td>0.0</td>\n",
              "    </tr>\n",
              "    <tr>\n",
              "      <th>4</th>\n",
              "      <td>0.0001</td>\n",
              "      <td>1.0</td>\n",
              "      <td>0.0</td>\n",
              "    </tr>\n",
              "  </tbody>\n",
              "</table>\n",
              "</div>\n",
              "      <button class=\"colab-df-convert\" onclick=\"convertToInteractive('df-6bc86033-8fe8-4bed-9faf-f67c7f521fb4')\"\n",
              "              title=\"Convert this dataframe to an interactive table.\"\n",
              "              style=\"display:none;\">\n",
              "        \n",
              "  <svg xmlns=\"http://www.w3.org/2000/svg\" height=\"24px\"viewBox=\"0 0 24 24\"\n",
              "       width=\"24px\">\n",
              "    <path d=\"M0 0h24v24H0V0z\" fill=\"none\"/>\n",
              "    <path d=\"M18.56 5.44l.94 2.06.94-2.06 2.06-.94-2.06-.94-.94-2.06-.94 2.06-2.06.94zm-11 1L8.5 8.5l.94-2.06 2.06-.94-2.06-.94L8.5 2.5l-.94 2.06-2.06.94zm10 10l.94 2.06.94-2.06 2.06-.94-2.06-.94-.94-2.06-.94 2.06-2.06.94z\"/><path d=\"M17.41 7.96l-1.37-1.37c-.4-.4-.92-.59-1.43-.59-.52 0-1.04.2-1.43.59L10.3 9.45l-7.72 7.72c-.78.78-.78 2.05 0 2.83L4 21.41c.39.39.9.59 1.41.59.51 0 1.02-.2 1.41-.59l7.78-7.78 2.81-2.81c.8-.78.8-2.07 0-2.86zM5.41 20L4 18.59l7.72-7.72 1.47 1.35L5.41 20z\"/>\n",
              "  </svg>\n",
              "      </button>\n",
              "      \n",
              "  <style>\n",
              "    .colab-df-container {\n",
              "      display:flex;\n",
              "      flex-wrap:wrap;\n",
              "      gap: 12px;\n",
              "    }\n",
              "\n",
              "    .colab-df-convert {\n",
              "      background-color: #E8F0FE;\n",
              "      border: none;\n",
              "      border-radius: 50%;\n",
              "      cursor: pointer;\n",
              "      display: none;\n",
              "      fill: #1967D2;\n",
              "      height: 32px;\n",
              "      padding: 0 0 0 0;\n",
              "      width: 32px;\n",
              "    }\n",
              "\n",
              "    .colab-df-convert:hover {\n",
              "      background-color: #E2EBFA;\n",
              "      box-shadow: 0px 1px 2px rgba(60, 64, 67, 0.3), 0px 1px 3px 1px rgba(60, 64, 67, 0.15);\n",
              "      fill: #174EA6;\n",
              "    }\n",
              "\n",
              "    [theme=dark] .colab-df-convert {\n",
              "      background-color: #3B4455;\n",
              "      fill: #D2E3FC;\n",
              "    }\n",
              "\n",
              "    [theme=dark] .colab-df-convert:hover {\n",
              "      background-color: #434B5C;\n",
              "      box-shadow: 0px 1px 3px 1px rgba(0, 0, 0, 0.15);\n",
              "      filter: drop-shadow(0px 1px 2px rgba(0, 0, 0, 0.3));\n",
              "      fill: #FFFFFF;\n",
              "    }\n",
              "  </style>\n",
              "\n",
              "      <script>\n",
              "        const buttonEl =\n",
              "          document.querySelector('#df-6bc86033-8fe8-4bed-9faf-f67c7f521fb4 button.colab-df-convert');\n",
              "        buttonEl.style.display =\n",
              "          google.colab.kernel.accessAllowed ? 'block' : 'none';\n",
              "\n",
              "        async function convertToInteractive(key) {\n",
              "          const element = document.querySelector('#df-6bc86033-8fe8-4bed-9faf-f67c7f521fb4');\n",
              "          const dataTable =\n",
              "            await google.colab.kernel.invokeFunction('convertToInteractive',\n",
              "                                                     [key], {});\n",
              "          if (!dataTable) return;\n",
              "\n",
              "          const docLinkHtml = 'Like what you see? Visit the ' +\n",
              "            '<a target=\"_blank\" href=https://colab.research.google.com/notebooks/data_table.ipynb>data table notebook</a>'\n",
              "            + ' to learn more about interactive tables.';\n",
              "          element.innerHTML = '';\n",
              "          dataTable['output_type'] = 'display_data';\n",
              "          await google.colab.output.renderOutput(dataTable, element);\n",
              "          const docLink = document.createElement('div');\n",
              "          docLink.innerHTML = docLinkHtml;\n",
              "          element.appendChild(docLink);\n",
              "        }\n",
              "      </script>\n",
              "    </div>\n",
              "  </div>\n",
              "  "
            ]
          },
          "metadata": {},
          "execution_count": 51
        }
      ]
    }
  ]
}