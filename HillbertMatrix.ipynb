{
  "nbformat": 4,
  "nbformat_minor": 0,
  "metadata": {
    "colab": {
      "provenance": [],
      "collapsed_sections": [],
      "authorship_tag": "ABX9TyNI65yl+pJMCmwKfpJRPQHP",
      "include_colab_link": true
    },
    "kernelspec": {
      "name": "python3",
      "display_name": "Python 3"
    },
    "language_info": {
      "name": "python"
    }
  },
  "cells": [
    {
      "cell_type": "markdown",
      "metadata": {
        "id": "view-in-github",
        "colab_type": "text"
      },
      "source": [
        "<a href=\"https://colab.research.google.com/github/mnocerino23/Numerical-Analysis/blob/main/HillbertMatrix.ipynb\" target=\"_parent\"><img src=\"https://colab.research.google.com/assets/colab-badge.svg\" alt=\"Open In Colab\"/></a>"
      ]
    },
    {
      "cell_type": "markdown",
      "source": [
        "The function below will take in parameter size and create a size x size matrix with entries such that Hn(i,j) = 1/(i+j-1)"
      ],
      "metadata": {
        "id": "g_26JAneZNv8"
      }
    },
    {
      "cell_type": "code",
      "source": [
        "import numpy as np\n",
        "import numpy.linalg as nplinalg\n",
        "import scipy\n",
        "import scipy.linalg"
      ],
      "metadata": {
        "id": "76zlDiisaHSh"
      },
      "execution_count": 88,
      "outputs": []
    },
    {
      "cell_type": "code",
      "execution_count": 89,
      "metadata": {
        "id": "Kyq-uPChZLWL"
      },
      "outputs": [],
      "source": [
        "def create_hillbert(size):\n",
        "  #initialize to a nxn matrix with 0's as entries\n",
        "  matrix = np.zeros(shape = (size,size))\n",
        "  row_count = 1\n",
        "  for row in matrix:\n",
        "    for i in range(len(row)):\n",
        "      #index represents column count\n",
        "      index = i+1\n",
        "      row[i] = 1/(row_count+index-1)\n",
        "    row_count += 1\n",
        "  #calculate the vector containing the matrix row sums using np.sum(axis = 1)\n",
        "  b = matrix.sum(axis=1, dtype='float')\n",
        "  return (matrix, b)"
      ]
    },
    {
      "cell_type": "markdown",
      "source": [
        "Running the code to create a 4x4 Hillbert matrix and the associated b vector. The function returns a pair with the first element being the Hillbert matrix and the second element being the associated b vector with the row sums"
      ],
      "metadata": {
        "id": "lnGlWBRjZntI"
      }
    },
    {
      "cell_type": "code",
      "source": [
        "create_hillbert(4)"
      ],
      "metadata": {
        "colab": {
          "base_uri": "https://localhost:8080/"
        },
        "id": "69KXXZwVZkky",
        "outputId": "671afa22-ca57-4877-9864-2e0a91a828b9"
      },
      "execution_count": 90,
      "outputs": [
        {
          "output_type": "execute_result",
          "data": {
            "text/plain": [
              "(array([[1.        , 0.5       , 0.33333333, 0.25      ],\n",
              "        [0.5       , 0.33333333, 0.25      , 0.2       ],\n",
              "        [0.33333333, 0.25      , 0.2       , 0.16666667],\n",
              "        [0.25      , 0.2       , 0.16666667, 0.14285714]]),\n",
              " array([2.08333333, 1.28333333, 0.95      , 0.75952381]))"
            ]
          },
          "metadata": {},
          "execution_count": 90
        }
      ]
    },
    {
      "cell_type": "markdown",
      "source": [
        "Now solve for the solution"
      ],
      "metadata": {
        "id": "ZA7WaDz3ZfUT"
      }
    },
    {
      "cell_type": "code",
      "source": [
        "n_values = [5, 10, 15, 20]"
      ],
      "metadata": {
        "id": "0BPhcCgnZgte"
      },
      "execution_count": 91,
      "outputs": []
    },
    {
      "cell_type": "code",
      "source": [
        "import pandas as pd"
      ],
      "metadata": {
        "id": "PxxIqAvIaCaj"
      },
      "execution_count": 92,
      "outputs": []
    },
    {
      "cell_type": "markdown",
      "source": [
        "Note the way we have coded our function\n",
        "H[0] = Hillbert matrix\n",
        "H[1] = b vector"
      ],
      "metadata": {
        "id": "aMZjiEiwfcuH"
      }
    },
    {
      "cell_type": "code",
      "source": [
        "#write a function to get LU decomposition of Hillbert matrix\n",
        "def get_Hillbert_LU(H):\n",
        "  P, L, U = scipy.linalg.lu(H)\n",
        "  return (L,U)"
      ],
      "metadata": {
        "id": "4T2pokUEgJb3"
      },
      "execution_count": 93,
      "outputs": []
    },
    {
      "cell_type": "code",
      "source": [
        "get_Hillbert_LU(create_hillbert(4)[0])"
      ],
      "metadata": {
        "colab": {
          "base_uri": "https://localhost:8080/"
        },
        "id": "Y_g66gHugByM",
        "outputId": "af2e50f4-be8c-4341-ac08-ce44ef4e7ee4"
      },
      "execution_count": 94,
      "outputs": [
        {
          "output_type": "execute_result",
          "data": {
            "text/plain": [
              "(array([[ 1.        ,  0.        ,  0.        ,  0.        ],\n",
              "        [ 0.33333333,  1.        ,  0.        ,  0.        ],\n",
              "        [ 0.5       ,  1.        ,  1.        ,  0.        ],\n",
              "        [ 0.25      ,  0.9       , -0.6       ,  1.        ]]),\n",
              " array([[ 1.00000000e+00,  5.00000000e-01,  3.33333333e-01,\n",
              "          2.50000000e-01],\n",
              "        [ 0.00000000e+00,  8.33333333e-02,  8.88888889e-02,\n",
              "          8.33333333e-02],\n",
              "        [ 0.00000000e+00,  0.00000000e+00, -5.55555556e-03,\n",
              "         -8.33333333e-03],\n",
              "        [ 0.00000000e+00,  0.00000000e+00,  0.00000000e+00,\n",
              "          3.57142857e-04]]))"
            ]
          },
          "metadata": {},
          "execution_count": 94
        }
      ]
    },
    {
      "cell_type": "code",
      "source": [
        "solutions = []\n",
        "condition_number = []\n",
        "relative_error = []\n",
        "relative_residual = []\n",
        "\n",
        "for item in n_values:\n",
        "  #create the appropriate matrix\n",
        "  H = create_hillbert(item)\n",
        "  #append the condition number with the infinite norm\n",
        "  condition_number.append(np.linalg.cond(H[0], np.inf))\n",
        "  L,U = get_Hillbert_LU(H[0])\n",
        "  #solve for x_approximate as instructed\n",
        "  x_approximate = np.linalg.solve(U, np.linalg.solve(L,H[1]))\n",
        "  solutions.append(x_approximate)\n",
        "  #exact solution is vector of 1's with item rows (item will be 5, 10, 15, 20)\n",
        "  exact_solution = np.ones((item,1))\n",
        "\n",
        "  #find relative error and relative residual with infinity norm\n",
        "  #since the exact solution is a column vector of 1's its infinity norm (largest row sum) = 1\n",
        "  rel_error = (np.linalg.norm(exact_solution-x_approximate), np.inf)\n",
        "  relative_error.append(rel_error)\n",
        "  #np.dot is used for matrix multiplication\n",
        "  rel_residual = (np.linalg.norm((H[1] - (np.dot(H[0],x_approximate))), np.inf))/(np.linalg.norm(H[1], np.inf))\n",
        "  relative_residual.append(rel_residual)"
      ],
      "metadata": {
        "id": "guMEozVNaDtn"
      },
      "execution_count": 95,
      "outputs": []
    },
    {
      "cell_type": "code",
      "source": [
        "solutions"
      ],
      "metadata": {
        "colab": {
          "base_uri": "https://localhost:8080/"
        },
        "id": "_0hnhEapiFsX",
        "outputId": "0536ba1a-523c-441c-e08b-bc5e686fc597"
      },
      "execution_count": 96,
      "outputs": [
        {
          "output_type": "execute_result",
          "data": {
            "text/plain": [
              "[array([   765.08730159, -13946.61904771,  59309.33333372, -88737.88888949,\n",
              "         43126.0000003 ]),\n",
              " array([-7.47637652e+06,  6.62160908e+08, -1.43649053e+10,  1.32457162e+11,\n",
              "        -6.38976646e+11,  1.77280929e+12, -2.93100365e+12,  2.85084694e+12,\n",
              "        -1.50496839e+12,  3.32551700e+11]),\n",
              " array([-5.93287616e+08,  8.97669686e+10, -3.43019643e+12,  5.79378081e+13,\n",
              "        -5.39252868e+14,  3.09845637e+15, -1.17275918e+16,  3.03514297e+16,\n",
              "        -5.47088243e+16,  6.88631022e+16, -5.96852691e+16,  3.43406111e+16,\n",
              "        -1.21616025e+16,  2.24972403e+15, -1.35379633e+14]),\n",
              " array([ 6.98630790e+09, -1.25493292e+12,  5.56125612e+13, -1.06261364e+15,\n",
              "         1.08660751e+16, -6.60251748e+16,  2.49907659e+17, -5.88694819e+17,\n",
              "         7.93399102e+17, -3.66738831e+17, -5.29717470e+17,  8.24258913e+17,\n",
              "        -9.09049345e+16, -6.35320311e+17,  6.32670430e+17, -4.21177302e+17,\n",
              "         3.67293981e+17, -2.57220557e+17,  8.85338058e+16, -1.01223121e+16])]"
            ]
          },
          "metadata": {},
          "execution_count": 96
        }
      ]
    },
    {
      "cell_type": "code",
      "source": [
        "results = pd.DataFrame(columns = ['n', 'relative error', 'condition number', 'relative residual'])\n",
        "results['n'] = n_values\n",
        "results['condition number'] = condition_number\n",
        "results['relative error'] = relative_error\n",
        "results['relative residual'] = relative_residual"
      ],
      "metadata": {
        "id": "taWWlB5KiVhx"
      },
      "execution_count": 97,
      "outputs": []
    },
    {
      "cell_type": "code",
      "source": [
        "results"
      ],
      "metadata": {
        "colab": {
          "base_uri": "https://localhost:8080/",
          "height": 175
        },
        "id": "_JfVrIO5iiRn",
        "outputId": "18db31c0-a3fd-4884-f8ab-2a0935d11a34"
      },
      "execution_count": 98,
      "outputs": [
        {
          "output_type": "execute_result",
          "data": {
            "text/plain": [
              "    n                relative error  condition number  relative residual\n",
              "0   5     (259296.68659370445, inf)      9.436560e+05           0.156413\n",
              "1  10     (15054078116384.676, inf)      3.535685e+13           0.258287\n",
              "2  15  (4.532948654324339e+17, inf)      1.041727e+18           0.734004\n",
              "3  20  (8.168283284632813e+18, inf)      6.008377e+18           6.390855"
            ],
            "text/html": [
              "\n",
              "  <div id=\"df-3f21ca21-39fc-490d-abc7-05eab1637f43\">\n",
              "    <div class=\"colab-df-container\">\n",
              "      <div>\n",
              "<style scoped>\n",
              "    .dataframe tbody tr th:only-of-type {\n",
              "        vertical-align: middle;\n",
              "    }\n",
              "\n",
              "    .dataframe tbody tr th {\n",
              "        vertical-align: top;\n",
              "    }\n",
              "\n",
              "    .dataframe thead th {\n",
              "        text-align: right;\n",
              "    }\n",
              "</style>\n",
              "<table border=\"1\" class=\"dataframe\">\n",
              "  <thead>\n",
              "    <tr style=\"text-align: right;\">\n",
              "      <th></th>\n",
              "      <th>n</th>\n",
              "      <th>relative error</th>\n",
              "      <th>condition number</th>\n",
              "      <th>relative residual</th>\n",
              "    </tr>\n",
              "  </thead>\n",
              "  <tbody>\n",
              "    <tr>\n",
              "      <th>0</th>\n",
              "      <td>5</td>\n",
              "      <td>(259296.68659370445, inf)</td>\n",
              "      <td>9.436560e+05</td>\n",
              "      <td>0.156413</td>\n",
              "    </tr>\n",
              "    <tr>\n",
              "      <th>1</th>\n",
              "      <td>10</td>\n",
              "      <td>(15054078116384.676, inf)</td>\n",
              "      <td>3.535685e+13</td>\n",
              "      <td>0.258287</td>\n",
              "    </tr>\n",
              "    <tr>\n",
              "      <th>2</th>\n",
              "      <td>15</td>\n",
              "      <td>(4.532948654324339e+17, inf)</td>\n",
              "      <td>1.041727e+18</td>\n",
              "      <td>0.734004</td>\n",
              "    </tr>\n",
              "    <tr>\n",
              "      <th>3</th>\n",
              "      <td>20</td>\n",
              "      <td>(8.168283284632813e+18, inf)</td>\n",
              "      <td>6.008377e+18</td>\n",
              "      <td>6.390855</td>\n",
              "    </tr>\n",
              "  </tbody>\n",
              "</table>\n",
              "</div>\n",
              "      <button class=\"colab-df-convert\" onclick=\"convertToInteractive('df-3f21ca21-39fc-490d-abc7-05eab1637f43')\"\n",
              "              title=\"Convert this dataframe to an interactive table.\"\n",
              "              style=\"display:none;\">\n",
              "        \n",
              "  <svg xmlns=\"http://www.w3.org/2000/svg\" height=\"24px\"viewBox=\"0 0 24 24\"\n",
              "       width=\"24px\">\n",
              "    <path d=\"M0 0h24v24H0V0z\" fill=\"none\"/>\n",
              "    <path d=\"M18.56 5.44l.94 2.06.94-2.06 2.06-.94-2.06-.94-.94-2.06-.94 2.06-2.06.94zm-11 1L8.5 8.5l.94-2.06 2.06-.94-2.06-.94L8.5 2.5l-.94 2.06-2.06.94zm10 10l.94 2.06.94-2.06 2.06-.94-2.06-.94-.94-2.06-.94 2.06-2.06.94z\"/><path d=\"M17.41 7.96l-1.37-1.37c-.4-.4-.92-.59-1.43-.59-.52 0-1.04.2-1.43.59L10.3 9.45l-7.72 7.72c-.78.78-.78 2.05 0 2.83L4 21.41c.39.39.9.59 1.41.59.51 0 1.02-.2 1.41-.59l7.78-7.78 2.81-2.81c.8-.78.8-2.07 0-2.86zM5.41 20L4 18.59l7.72-7.72 1.47 1.35L5.41 20z\"/>\n",
              "  </svg>\n",
              "      </button>\n",
              "      \n",
              "  <style>\n",
              "    .colab-df-container {\n",
              "      display:flex;\n",
              "      flex-wrap:wrap;\n",
              "      gap: 12px;\n",
              "    }\n",
              "\n",
              "    .colab-df-convert {\n",
              "      background-color: #E8F0FE;\n",
              "      border: none;\n",
              "      border-radius: 50%;\n",
              "      cursor: pointer;\n",
              "      display: none;\n",
              "      fill: #1967D2;\n",
              "      height: 32px;\n",
              "      padding: 0 0 0 0;\n",
              "      width: 32px;\n",
              "    }\n",
              "\n",
              "    .colab-df-convert:hover {\n",
              "      background-color: #E2EBFA;\n",
              "      box-shadow: 0px 1px 2px rgba(60, 64, 67, 0.3), 0px 1px 3px 1px rgba(60, 64, 67, 0.15);\n",
              "      fill: #174EA6;\n",
              "    }\n",
              "\n",
              "    [theme=dark] .colab-df-convert {\n",
              "      background-color: #3B4455;\n",
              "      fill: #D2E3FC;\n",
              "    }\n",
              "\n",
              "    [theme=dark] .colab-df-convert:hover {\n",
              "      background-color: #434B5C;\n",
              "      box-shadow: 0px 1px 3px 1px rgba(0, 0, 0, 0.15);\n",
              "      filter: drop-shadow(0px 1px 2px rgba(0, 0, 0, 0.3));\n",
              "      fill: #FFFFFF;\n",
              "    }\n",
              "  </style>\n",
              "\n",
              "      <script>\n",
              "        const buttonEl =\n",
              "          document.querySelector('#df-3f21ca21-39fc-490d-abc7-05eab1637f43 button.colab-df-convert');\n",
              "        buttonEl.style.display =\n",
              "          google.colab.kernel.accessAllowed ? 'block' : 'none';\n",
              "\n",
              "        async function convertToInteractive(key) {\n",
              "          const element = document.querySelector('#df-3f21ca21-39fc-490d-abc7-05eab1637f43');\n",
              "          const dataTable =\n",
              "            await google.colab.kernel.invokeFunction('convertToInteractive',\n",
              "                                                     [key], {});\n",
              "          if (!dataTable) return;\n",
              "\n",
              "          const docLinkHtml = 'Like what you see? Visit the ' +\n",
              "            '<a target=\"_blank\" href=https://colab.research.google.com/notebooks/data_table.ipynb>data table notebook</a>'\n",
              "            + ' to learn more about interactive tables.';\n",
              "          element.innerHTML = '';\n",
              "          dataTable['output_type'] = 'display_data';\n",
              "          await google.colab.output.renderOutput(dataTable, element);\n",
              "          const docLink = document.createElement('div');\n",
              "          docLink.innerHTML = docLinkHtml;\n",
              "          element.appendChild(docLink);\n",
              "        }\n",
              "      </script>\n",
              "    </div>\n",
              "  </div>\n",
              "  "
            ]
          },
          "metadata": {},
          "execution_count": 98
        }
      ]
    }
  ]
}