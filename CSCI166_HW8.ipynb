{
  "nbformat": 4,
  "nbformat_minor": 0,
  "metadata": {
    "colab": {
      "provenance": [],
      "authorship_tag": "ABX9TyMpyXoQGe5TQmGw7xyk2sqo",
      "include_colab_link": true
    },
    "kernelspec": {
      "name": "python3",
      "display_name": "Python 3"
    },
    "language_info": {
      "name": "python"
    }
  },
  "cells": [
    {
      "cell_type": "markdown",
      "metadata": {
        "id": "view-in-github",
        "colab_type": "text"
      },
      "source": [
        "<a href=\"https://colab.research.google.com/github/mnocerino23/Numerical-Analysis/blob/main/CSCI166_HW8.ipynb\" target=\"_parent\"><img src=\"https://colab.research.google.com/assets/colab-badge.svg\" alt=\"Open In Colab\"/></a>"
      ]
    },
    {
      "cell_type": "markdown",
      "source": [
        "# Question 1c:"
      ],
      "metadata": {
        "id": "r0fxzLTJlypd"
      }
    },
    {
      "cell_type": "code",
      "execution_count": 301,
      "metadata": {
        "id": "1OPc90F6lwSK"
      },
      "outputs": [],
      "source": [
        "import numpy as np\n",
        "import numpy.linalg as nplinalg\n",
        "import pandas as pd"
      ]
    },
    {
      "cell_type": "code",
      "source": [
        "newton = pd.DataFrame(columns = ['Iteration', 'Solution', 'Error', 'Residual'])"
      ],
      "metadata": {
        "id": "r5tEPIUx2Nil"
      },
      "execution_count": 302,
      "outputs": []
    },
    {
      "cell_type": "code",
      "source": [
        "iteration = []\n",
        "x_ns = []\n",
        "errors = []\n",
        "residuals = []"
      ],
      "metadata": {
        "id": "A40G_Gqv20g0"
      },
      "execution_count": 303,
      "outputs": []
    },
    {
      "cell_type": "code",
      "source": [
        "solution_1 = np.array([[-2/3], [-4/3], [4/3]])\n",
        "solution_2 = np.array([[-6/7], [-12/7], [4/7]])"
      ],
      "metadata": {
        "id": "KzQFBDkA4aPG"
      },
      "execution_count": 304,
      "outputs": []
    },
    {
      "cell_type": "code",
      "source": [
        "#start with an initial guess of x1 = 15, x2 = 15, x3 = 15\n",
        "x1, x2, x3 = 15, 15, 15\n",
        "\n",
        "function = np.array([[(2*x1)-(3*x2)+ x3-4], [(2*x1)+x2-x3+4], [(x1**2) + (x2**2) + (x3**2) - 4]])\n",
        "print(function)\n",
        "#create the jacobian which has constant values in rows one and two but the third row will\n",
        "#change depending on the values of x1, x2, x3 at each iteration\n",
        "Jacobian = np.array([[2, -3, 1],[2, 1, -1],[2*x1, 2*x2, 2*x3]])\n",
        "print(Jacobian)\n",
        "\n",
        "for i in range(1):\n",
        "  iteration.append(i+1)\n",
        "  #solve the linear system for the direction change\n",
        "  v = np.linalg.solve(Jacobian, function)\n",
        "  print(v)\n",
        "  #update values of x1, x2, x3 by subtracting the direction change in the correct compute\n",
        "  x1 = x1 - v[0]\n",
        "  x2 = x2 - v[1]\n",
        "  x3 = x3 - v[2]\n",
        "  x_n = np.array([[x1], [x2], [x3]])\n",
        "  print(x_n)\n",
        "  x_ns.append(x_n)"
      ],
      "metadata": {
        "colab": {
          "base_uri": "https://localhost:8080/"
        },
        "id": "MmshvPGX0Kgk",
        "outputId": "8c127751-d3d7-47aa-b920-c89b442ebf32"
      },
      "execution_count": 305,
      "outputs": [
        {
          "output_type": "stream",
          "name": "stdout",
          "text": [
            "[[ -4]\n",
            " [ 34]\n",
            " [671]]\n",
            "[[ 2 -3  1]\n",
            " [ 2  1 -1]\n",
            " [30 30 30]]\n",
            "[[12.33809524]\n",
            " [ 9.67619048]\n",
            " [ 0.35238095]]\n",
            "[[[ 2.66190476]]\n",
            "\n",
            " [[ 5.32380952]]\n",
            "\n",
            " [[14.64761905]]]\n"
          ]
        }
      ]
    },
    {
      "cell_type": "code",
      "source": [
        "newton['Iteration'] = iteration\n",
        "newton['Solution'] = x_ns"
      ],
      "metadata": {
        "id": "EebdkL9E8h4z"
      },
      "execution_count": 306,
      "outputs": []
    },
    {
      "cell_type": "code",
      "source": [
        "newton"
      ],
      "metadata": {
        "colab": {
          "base_uri": "https://localhost:8080/",
          "height": 81
        },
        "id": "TVja6C6Z87Ft",
        "outputId": "d0a71c02-54d1-48b2-9cf1-546e17df5168"
      },
      "execution_count": 307,
      "outputs": [
        {
          "output_type": "execute_result",
          "data": {
            "text/plain": [
              "   Iteration                                           Solution Error Residual\n",
              "0          1  [[[2.6619047619047613]], [[5.323809523809524]]...   NaN      NaN"
            ],
            "text/html": [
              "\n",
              "  <div id=\"df-ae93a585-bb8f-4694-b24f-0d814feceb4e\">\n",
              "    <div class=\"colab-df-container\">\n",
              "      <div>\n",
              "<style scoped>\n",
              "    .dataframe tbody tr th:only-of-type {\n",
              "        vertical-align: middle;\n",
              "    }\n",
              "\n",
              "    .dataframe tbody tr th {\n",
              "        vertical-align: top;\n",
              "    }\n",
              "\n",
              "    .dataframe thead th {\n",
              "        text-align: right;\n",
              "    }\n",
              "</style>\n",
              "<table border=\"1\" class=\"dataframe\">\n",
              "  <thead>\n",
              "    <tr style=\"text-align: right;\">\n",
              "      <th></th>\n",
              "      <th>Iteration</th>\n",
              "      <th>Solution</th>\n",
              "      <th>Error</th>\n",
              "      <th>Residual</th>\n",
              "    </tr>\n",
              "  </thead>\n",
              "  <tbody>\n",
              "    <tr>\n",
              "      <th>0</th>\n",
              "      <td>1</td>\n",
              "      <td>[[[2.6619047619047613]], [[5.323809523809524]]...</td>\n",
              "      <td>NaN</td>\n",
              "      <td>NaN</td>\n",
              "    </tr>\n",
              "  </tbody>\n",
              "</table>\n",
              "</div>\n",
              "      <button class=\"colab-df-convert\" onclick=\"convertToInteractive('df-ae93a585-bb8f-4694-b24f-0d814feceb4e')\"\n",
              "              title=\"Convert this dataframe to an interactive table.\"\n",
              "              style=\"display:none;\">\n",
              "        \n",
              "  <svg xmlns=\"http://www.w3.org/2000/svg\" height=\"24px\"viewBox=\"0 0 24 24\"\n",
              "       width=\"24px\">\n",
              "    <path d=\"M0 0h24v24H0V0z\" fill=\"none\"/>\n",
              "    <path d=\"M18.56 5.44l.94 2.06.94-2.06 2.06-.94-2.06-.94-.94-2.06-.94 2.06-2.06.94zm-11 1L8.5 8.5l.94-2.06 2.06-.94-2.06-.94L8.5 2.5l-.94 2.06-2.06.94zm10 10l.94 2.06.94-2.06 2.06-.94-2.06-.94-.94-2.06-.94 2.06-2.06.94z\"/><path d=\"M17.41 7.96l-1.37-1.37c-.4-.4-.92-.59-1.43-.59-.52 0-1.04.2-1.43.59L10.3 9.45l-7.72 7.72c-.78.78-.78 2.05 0 2.83L4 21.41c.39.39.9.59 1.41.59.51 0 1.02-.2 1.41-.59l7.78-7.78 2.81-2.81c.8-.78.8-2.07 0-2.86zM5.41 20L4 18.59l7.72-7.72 1.47 1.35L5.41 20z\"/>\n",
              "  </svg>\n",
              "      </button>\n",
              "      \n",
              "  <style>\n",
              "    .colab-df-container {\n",
              "      display:flex;\n",
              "      flex-wrap:wrap;\n",
              "      gap: 12px;\n",
              "    }\n",
              "\n",
              "    .colab-df-convert {\n",
              "      background-color: #E8F0FE;\n",
              "      border: none;\n",
              "      border-radius: 50%;\n",
              "      cursor: pointer;\n",
              "      display: none;\n",
              "      fill: #1967D2;\n",
              "      height: 32px;\n",
              "      padding: 0 0 0 0;\n",
              "      width: 32px;\n",
              "    }\n",
              "\n",
              "    .colab-df-convert:hover {\n",
              "      background-color: #E2EBFA;\n",
              "      box-shadow: 0px 1px 2px rgba(60, 64, 67, 0.3), 0px 1px 3px 1px rgba(60, 64, 67, 0.15);\n",
              "      fill: #174EA6;\n",
              "    }\n",
              "\n",
              "    [theme=dark] .colab-df-convert {\n",
              "      background-color: #3B4455;\n",
              "      fill: #D2E3FC;\n",
              "    }\n",
              "\n",
              "    [theme=dark] .colab-df-convert:hover {\n",
              "      background-color: #434B5C;\n",
              "      box-shadow: 0px 1px 3px 1px rgba(0, 0, 0, 0.15);\n",
              "      filter: drop-shadow(0px 1px 2px rgba(0, 0, 0, 0.3));\n",
              "      fill: #FFFFFF;\n",
              "    }\n",
              "  </style>\n",
              "\n",
              "      <script>\n",
              "        const buttonEl =\n",
              "          document.querySelector('#df-ae93a585-bb8f-4694-b24f-0d814feceb4e button.colab-df-convert');\n",
              "        buttonEl.style.display =\n",
              "          google.colab.kernel.accessAllowed ? 'block' : 'none';\n",
              "\n",
              "        async function convertToInteractive(key) {\n",
              "          const element = document.querySelector('#df-ae93a585-bb8f-4694-b24f-0d814feceb4e');\n",
              "          const dataTable =\n",
              "            await google.colab.kernel.invokeFunction('convertToInteractive',\n",
              "                                                     [key], {});\n",
              "          if (!dataTable) return;\n",
              "\n",
              "          const docLinkHtml = 'Like what you see? Visit the ' +\n",
              "            '<a target=\"_blank\" href=https://colab.research.google.com/notebooks/data_table.ipynb>data table notebook</a>'\n",
              "            + ' to learn more about interactive tables.';\n",
              "          element.innerHTML = '';\n",
              "          dataTable['output_type'] = 'display_data';\n",
              "          await google.colab.output.renderOutput(dataTable, element);\n",
              "          const docLink = document.createElement('div');\n",
              "          docLink.innerHTML = docLinkHtml;\n",
              "          element.appendChild(docLink);\n",
              "        }\n",
              "      </script>\n",
              "    </div>\n",
              "  </div>\n",
              "  "
            ]
          },
          "metadata": {},
          "execution_count": 307
        }
      ]
    },
    {
      "cell_type": "markdown",
      "source": [
        "# Question 2c:"
      ],
      "metadata": {
        "id": "aAzmvDK2l1SH"
      }
    },
    {
      "cell_type": "code",
      "source": [
        "#function f(x) will be the ln(x). In python's numpy we use np.log(x) for natural log\n",
        "def f(x):\n",
        "  return np.log(x)"
      ],
      "metadata": {
        "id": "Xq89BYyTma-k"
      },
      "execution_count": 308,
      "outputs": []
    },
    {
      "cell_type": "code",
      "source": [
        "#the known derivative of ln(x) = 1/x\n",
        "def f_prime(x):\n",
        "  return (1/x)"
      ],
      "metadata": {
        "id": "ozbuG4qCn1D0"
      },
      "execution_count": 309,
      "outputs": []
    },
    {
      "cell_type": "code",
      "source": [
        "def derivative_approximation(x, h):\n",
        "  numerator = f(x+(2*h)) - f(x-h)\n",
        "  return numerator/(3*h)"
      ],
      "metadata": {
        "id": "ioA82rcwl3P8"
      },
      "execution_count": 310,
      "outputs": []
    },
    {
      "cell_type": "code",
      "source": [
        "x_o = []\n",
        "derivative_value = []\n",
        "h_value = [0.5,0.25,0.125,0.0625, 0.03125,0.015625, 0.0078125, 0.00390625, 0.001953125]\n",
        "derivative_approx = []\n",
        "error = []"
      ],
      "metadata": {
        "id": "JlePXb86p1L6"
      },
      "execution_count": 311,
      "outputs": []
    },
    {
      "cell_type": "code",
      "source": [
        "x_naught = 2"
      ],
      "metadata": {
        "id": "JF7kNIU-pfCL"
      },
      "execution_count": 312,
      "outputs": []
    },
    {
      "cell_type": "code",
      "source": [
        "for value in h_value:\n",
        "  x_o.append(x_naught)\n",
        "  d_value = 1/2\n",
        "  derivative_value.append(d_value)\n",
        "  d_approx = derivative_approximation(2, value)\n",
        "  derivative_approx.append(d_approx)\n",
        "  error.append(abs(d_value - d_approx))"
      ],
      "metadata": {
        "id": "Jc64t7PApzhC"
      },
      "execution_count": 313,
      "outputs": []
    },
    {
      "cell_type": "code",
      "source": [
        "results = pd.DataFrame(columns = ['x naught', 'f prime', 'f prime approximation', 'h-value', 'error'])"
      ],
      "metadata": {
        "id": "TwRb1iWIsi0V"
      },
      "execution_count": 314,
      "outputs": []
    },
    {
      "cell_type": "code",
      "source": [
        "results['x naught'] = x_o\n",
        "results['f prime'] = derivative_value\n",
        "results['f prime approximation'] = derivative_approx\n",
        "results['h-value'] = h_value\n",
        "results['error'] = error"
      ],
      "metadata": {
        "id": "CcYJpHpxtBAe"
      },
      "execution_count": 315,
      "outputs": []
    },
    {
      "cell_type": "markdown",
      "source": [
        "# Final table for our approximations of first derivative of ln(x):"
      ],
      "metadata": {
        "id": "gT_M8MEluIsh"
      }
    },
    {
      "cell_type": "markdown",
      "source": [
        "From our table below, we see that as the h-value is halved, the error between the approximation and the actual value of the derivative is also roughly halved at each iteration."
      ],
      "metadata": {
        "id": "DiyiamcCvWMT"
      }
    },
    {
      "cell_type": "code",
      "source": [
        "results"
      ],
      "metadata": {
        "colab": {
          "base_uri": "https://localhost:8080/",
          "height": 332
        },
        "id": "7aMF35wcs1Jb",
        "outputId": "ec93ae19-c1c1-4313-89ca-4ebf05350152"
      },
      "execution_count": 316,
      "outputs": [
        {
          "output_type": "execute_result",
          "data": {
            "text/plain": [
              "   x naught  f prime  f prime approximation   h-value     error\n",
              "0         2      0.5               0.462098  0.500000  0.037902\n",
              "1         2      0.5               0.475567  0.250000  0.024433\n",
              "2         2      0.5               0.486191  0.125000  0.013809\n",
              "3         2      0.5               0.492658  0.062500  0.007342\n",
              "4         2      0.5               0.496214  0.031250  0.003786\n",
              "5         2      0.5               0.498077  0.015625  0.001923\n",
              "6         2      0.5               0.499031  0.007812  0.000969\n",
              "7         2      0.5               0.499514  0.003906  0.000486\n",
              "8         2      0.5               0.499756  0.001953  0.000244"
            ],
            "text/html": [
              "\n",
              "  <div id=\"df-4d00ce64-b500-41d4-bc1e-3627a89c05af\">\n",
              "    <div class=\"colab-df-container\">\n",
              "      <div>\n",
              "<style scoped>\n",
              "    .dataframe tbody tr th:only-of-type {\n",
              "        vertical-align: middle;\n",
              "    }\n",
              "\n",
              "    .dataframe tbody tr th {\n",
              "        vertical-align: top;\n",
              "    }\n",
              "\n",
              "    .dataframe thead th {\n",
              "        text-align: right;\n",
              "    }\n",
              "</style>\n",
              "<table border=\"1\" class=\"dataframe\">\n",
              "  <thead>\n",
              "    <tr style=\"text-align: right;\">\n",
              "      <th></th>\n",
              "      <th>x naught</th>\n",
              "      <th>f prime</th>\n",
              "      <th>f prime approximation</th>\n",
              "      <th>h-value</th>\n",
              "      <th>error</th>\n",
              "    </tr>\n",
              "  </thead>\n",
              "  <tbody>\n",
              "    <tr>\n",
              "      <th>0</th>\n",
              "      <td>2</td>\n",
              "      <td>0.5</td>\n",
              "      <td>0.462098</td>\n",
              "      <td>0.500000</td>\n",
              "      <td>0.037902</td>\n",
              "    </tr>\n",
              "    <tr>\n",
              "      <th>1</th>\n",
              "      <td>2</td>\n",
              "      <td>0.5</td>\n",
              "      <td>0.475567</td>\n",
              "      <td>0.250000</td>\n",
              "      <td>0.024433</td>\n",
              "    </tr>\n",
              "    <tr>\n",
              "      <th>2</th>\n",
              "      <td>2</td>\n",
              "      <td>0.5</td>\n",
              "      <td>0.486191</td>\n",
              "      <td>0.125000</td>\n",
              "      <td>0.013809</td>\n",
              "    </tr>\n",
              "    <tr>\n",
              "      <th>3</th>\n",
              "      <td>2</td>\n",
              "      <td>0.5</td>\n",
              "      <td>0.492658</td>\n",
              "      <td>0.062500</td>\n",
              "      <td>0.007342</td>\n",
              "    </tr>\n",
              "    <tr>\n",
              "      <th>4</th>\n",
              "      <td>2</td>\n",
              "      <td>0.5</td>\n",
              "      <td>0.496214</td>\n",
              "      <td>0.031250</td>\n",
              "      <td>0.003786</td>\n",
              "    </tr>\n",
              "    <tr>\n",
              "      <th>5</th>\n",
              "      <td>2</td>\n",
              "      <td>0.5</td>\n",
              "      <td>0.498077</td>\n",
              "      <td>0.015625</td>\n",
              "      <td>0.001923</td>\n",
              "    </tr>\n",
              "    <tr>\n",
              "      <th>6</th>\n",
              "      <td>2</td>\n",
              "      <td>0.5</td>\n",
              "      <td>0.499031</td>\n",
              "      <td>0.007812</td>\n",
              "      <td>0.000969</td>\n",
              "    </tr>\n",
              "    <tr>\n",
              "      <th>7</th>\n",
              "      <td>2</td>\n",
              "      <td>0.5</td>\n",
              "      <td>0.499514</td>\n",
              "      <td>0.003906</td>\n",
              "      <td>0.000486</td>\n",
              "    </tr>\n",
              "    <tr>\n",
              "      <th>8</th>\n",
              "      <td>2</td>\n",
              "      <td>0.5</td>\n",
              "      <td>0.499756</td>\n",
              "      <td>0.001953</td>\n",
              "      <td>0.000244</td>\n",
              "    </tr>\n",
              "  </tbody>\n",
              "</table>\n",
              "</div>\n",
              "      <button class=\"colab-df-convert\" onclick=\"convertToInteractive('df-4d00ce64-b500-41d4-bc1e-3627a89c05af')\"\n",
              "              title=\"Convert this dataframe to an interactive table.\"\n",
              "              style=\"display:none;\">\n",
              "        \n",
              "  <svg xmlns=\"http://www.w3.org/2000/svg\" height=\"24px\"viewBox=\"0 0 24 24\"\n",
              "       width=\"24px\">\n",
              "    <path d=\"M0 0h24v24H0V0z\" fill=\"none\"/>\n",
              "    <path d=\"M18.56 5.44l.94 2.06.94-2.06 2.06-.94-2.06-.94-.94-2.06-.94 2.06-2.06.94zm-11 1L8.5 8.5l.94-2.06 2.06-.94-2.06-.94L8.5 2.5l-.94 2.06-2.06.94zm10 10l.94 2.06.94-2.06 2.06-.94-2.06-.94-.94-2.06-.94 2.06-2.06.94z\"/><path d=\"M17.41 7.96l-1.37-1.37c-.4-.4-.92-.59-1.43-.59-.52 0-1.04.2-1.43.59L10.3 9.45l-7.72 7.72c-.78.78-.78 2.05 0 2.83L4 21.41c.39.39.9.59 1.41.59.51 0 1.02-.2 1.41-.59l7.78-7.78 2.81-2.81c.8-.78.8-2.07 0-2.86zM5.41 20L4 18.59l7.72-7.72 1.47 1.35L5.41 20z\"/>\n",
              "  </svg>\n",
              "      </button>\n",
              "      \n",
              "  <style>\n",
              "    .colab-df-container {\n",
              "      display:flex;\n",
              "      flex-wrap:wrap;\n",
              "      gap: 12px;\n",
              "    }\n",
              "\n",
              "    .colab-df-convert {\n",
              "      background-color: #E8F0FE;\n",
              "      border: none;\n",
              "      border-radius: 50%;\n",
              "      cursor: pointer;\n",
              "      display: none;\n",
              "      fill: #1967D2;\n",
              "      height: 32px;\n",
              "      padding: 0 0 0 0;\n",
              "      width: 32px;\n",
              "    }\n",
              "\n",
              "    .colab-df-convert:hover {\n",
              "      background-color: #E2EBFA;\n",
              "      box-shadow: 0px 1px 2px rgba(60, 64, 67, 0.3), 0px 1px 3px 1px rgba(60, 64, 67, 0.15);\n",
              "      fill: #174EA6;\n",
              "    }\n",
              "\n",
              "    [theme=dark] .colab-df-convert {\n",
              "      background-color: #3B4455;\n",
              "      fill: #D2E3FC;\n",
              "    }\n",
              "\n",
              "    [theme=dark] .colab-df-convert:hover {\n",
              "      background-color: #434B5C;\n",
              "      box-shadow: 0px 1px 3px 1px rgba(0, 0, 0, 0.15);\n",
              "      filter: drop-shadow(0px 1px 2px rgba(0, 0, 0, 0.3));\n",
              "      fill: #FFFFFF;\n",
              "    }\n",
              "  </style>\n",
              "\n",
              "      <script>\n",
              "        const buttonEl =\n",
              "          document.querySelector('#df-4d00ce64-b500-41d4-bc1e-3627a89c05af button.colab-df-convert');\n",
              "        buttonEl.style.display =\n",
              "          google.colab.kernel.accessAllowed ? 'block' : 'none';\n",
              "\n",
              "        async function convertToInteractive(key) {\n",
              "          const element = document.querySelector('#df-4d00ce64-b500-41d4-bc1e-3627a89c05af');\n",
              "          const dataTable =\n",
              "            await google.colab.kernel.invokeFunction('convertToInteractive',\n",
              "                                                     [key], {});\n",
              "          if (!dataTable) return;\n",
              "\n",
              "          const docLinkHtml = 'Like what you see? Visit the ' +\n",
              "            '<a target=\"_blank\" href=https://colab.research.google.com/notebooks/data_table.ipynb>data table notebook</a>'\n",
              "            + ' to learn more about interactive tables.';\n",
              "          element.innerHTML = '';\n",
              "          dataTable['output_type'] = 'display_data';\n",
              "          await google.colab.output.renderOutput(dataTable, element);\n",
              "          const docLink = document.createElement('div');\n",
              "          docLink.innerHTML = docLinkHtml;\n",
              "          element.appendChild(docLink);\n",
              "        }\n",
              "      </script>\n",
              "    </div>\n",
              "  </div>\n",
              "  "
            ]
          },
          "metadata": {},
          "execution_count": 316
        }
      ]
    }
  ]
}