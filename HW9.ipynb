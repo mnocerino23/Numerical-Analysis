{
  "nbformat": 4,
  "nbformat_minor": 0,
  "metadata": {
    "colab": {
      "provenance": [],
      "authorship_tag": "ABX9TyM3YvY46w+B8AyQHsmEFfwJ",
      "include_colab_link": true
    },
    "kernelspec": {
      "name": "python3",
      "display_name": "Python 3"
    },
    "language_info": {
      "name": "python"
    }
  },
  "cells": [
    {
      "cell_type": "markdown",
      "metadata": {
        "id": "view-in-github",
        "colab_type": "text"
      },
      "source": [
        "<a href=\"https://colab.research.google.com/github/mnocerino23/Numerical-Analysis/blob/main/HW9.ipynb\" target=\"_parent\"><img src=\"https://colab.research.google.com/assets/colab-badge.svg\" alt=\"Open In Colab\"/></a>"
      ]
    },
    {
      "cell_type": "code",
      "execution_count": 29,
      "metadata": {
        "id": "SL7pbeJh4ssT"
      },
      "outputs": [],
      "source": [
        "#write code to compute R2(1) for the following interval"
      ]
    },
    {
      "cell_type": "code",
      "source": [
        "import numpy as np\n",
        "import math \n",
        "def f(x):\n",
        "  return (math.exp(1))**(-x**2)"
      ],
      "metadata": {
        "id": "R23YXiWz6k6r"
      },
      "execution_count": 30,
      "outputs": []
    },
    {
      "cell_type": "code",
      "source": [
        "#function = function whose integral we want to approximate\n",
        "#a = left endpoint of interval\n",
        "#b = right endpoint of interval\n",
        "#n = number of trapezoids used to estimate integral\n",
        "\n",
        "def trapezoidal_rule(function, a, b, n):\n",
        "  h = (b-a)/n\n",
        "  base = h/2\n",
        "  heights = 0\n",
        "  x_values = np.linspace(a,b,n+1)\n",
        "  #print(x_values)\n",
        "  for i in range(n+1):\n",
        "    if i == 0 or i == n:\n",
        "      heights += function(x_values[i])\n",
        "    else:\n",
        "      heights += 2*function(x_values[i])\n",
        "  return base*heights"
      ],
      "metadata": {
        "id": "KvRDXYa648ht"
      },
      "execution_count": 31,
      "outputs": []
    },
    {
      "cell_type": "code",
      "source": [
        "#use function from class to test my trapezoidal rule function\n",
        "trapezoidal_rule(f,0,1,4)"
      ],
      "metadata": {
        "colab": {
          "base_uri": "https://localhost:8080/"
        },
        "id": "8-RwqCcl7SVL",
        "outputId": "24e645aa-aecc-4308-d5e8-dbe00cc4b9c9"
      },
      "execution_count": 32,
      "outputs": [
        {
          "output_type": "execute_result",
          "data": {
            "text/plain": [
              "0.7429840978003812"
            ]
          },
          "metadata": {},
          "execution_count": 32
        }
      ]
    },
    {
      "cell_type": "markdown",
      "source": [
        "# Question 1c: Write a program to compute R2(h)"
      ],
      "metadata": {
        "id": "VFNpJCstGbP5"
      }
    },
    {
      "cell_type": "code",
      "source": [
        "#code the function we need to integrate into g(x)\n",
        "def g(x):\n",
        "  return x*((math.exp(1))**(-x**2))"
      ],
      "metadata": {
        "id": "YK4jA3RmIrcS"
      },
      "execution_count": 33,
      "outputs": []
    },
    {
      "cell_type": "code",
      "source": [
        "#function to compute R1(h), which uses our trapezoidal rule function twice with every call\n",
        "def R_1(function, a, b , n):\n",
        "  h = (b-a)/n\n",
        "  numerator = ((9*trapezoidal_rule(function, a, b, 3*n)) - trapezoidal_rule(function, a, b, n))\n",
        "  return numerator/8\n",
        "\n",
        "#function to compute R2(h), which uses our R_1 function twice with every call\n",
        "def R_2(function, a, b, n):\n",
        "  h = (b-a)/n\n",
        "  numerator = ((81*R_1(function, a, b, 3*n)) - R_1(function, a, b, n))\n",
        "  return numerator/80"
      ],
      "metadata": {
        "id": "-wxnfFTNGm4C"
      },
      "execution_count": 34,
      "outputs": []
    },
    {
      "cell_type": "markdown",
      "source": [
        "Now estimate the integral of our function g from 0 to 1 with an h value of one, meaning n = 1 in our parameters"
      ],
      "metadata": {
        "id": "yyZ9wUBfLkDC"
      }
    },
    {
      "cell_type": "code",
      "source": [
        "#with h = 1, the approximation is extremely close to the true value of the integral which is 0.31606027941\n",
        "R_2(g, 0, 1, 1)"
      ],
      "metadata": {
        "colab": {
          "base_uri": "https://localhost:8080/"
        },
        "id": "RYuu6ad8MKcq",
        "outputId": "92ae1494-e2b8-4f8b-ace4-5f453596bf5a"
      },
      "execution_count": 46,
      "outputs": [
        {
          "output_type": "execute_result",
          "data": {
            "text/plain": [
              "0.31605356775661503"
            ]
          },
          "metadata": {},
          "execution_count": 46
        }
      ]
    },
    {
      "cell_type": "code",
      "source": [
        "#as you increase h, approximation gets even closer and closer to actual value\n",
        "for i in range(11):\n",
        "  if i!= 0:\n",
        "    print(\"H-value:\", i,\", Approximation: \", R_2(g, 0, 1, i))\n"
      ],
      "metadata": {
        "colab": {
          "base_uri": "https://localhost:8080/"
        },
        "id": "wiQnm2MRJTGT",
        "outputId": "7f8d0343-9816-4da1-a2e1-bcf8dda24881"
      },
      "execution_count": 48,
      "outputs": [
        {
          "output_type": "stream",
          "name": "stdout",
          "text": [
            "H-value: 1 , Approximation:  0.31605356775661503\n",
            "H-value: 2 , Approximation:  0.3160602066159818\n",
            "H-value: 3 , Approximation:  0.3160602733431867\n",
            "H-value: 4 , Approximation:  0.3160602783522236\n",
            "H-value: 5 , Approximation:  0.3160602791380474\n",
            "H-value: 6 , Approximation:  0.3160602793221608\n",
            "H-value: 7 , Approximation:  0.3160602793778405\n",
            "H-value: 8 , Approximation:  0.3160602793979524\n",
            "H-value: 9 , Approximation:  0.3160602794062345\n",
            "H-value: 10 , Approximation:  0.31606027941000725\n"
          ]
        }
      ]
    },
    {
      "cell_type": "markdown",
      "source": [
        "# Question 2"
      ],
      "metadata": {
        "id": "xHnS_Is0KPC6"
      }
    }
  ]
}