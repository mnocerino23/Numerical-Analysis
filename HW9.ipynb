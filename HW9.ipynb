{
  "nbformat": 4,
  "nbformat_minor": 0,
  "metadata": {
    "colab": {
      "provenance": [],
      "authorship_tag": "ABX9TyP5dm0N8LIitT7pWxFH3Zlj",
      "include_colab_link": true
    },
    "kernelspec": {
      "name": "python3",
      "display_name": "Python 3"
    },
    "language_info": {
      "name": "python"
    }
  },
  "cells": [
    {
      "cell_type": "markdown",
      "metadata": {
        "id": "view-in-github",
        "colab_type": "text"
      },
      "source": [
        "<a href=\"https://colab.research.google.com/github/mnocerino23/Numerical-Analysis/blob/main/HW9.ipynb\" target=\"_parent\"><img src=\"https://colab.research.google.com/assets/colab-badge.svg\" alt=\"Open In Colab\"/></a>"
      ]
    },
    {
      "cell_type": "code",
      "execution_count": 72,
      "metadata": {
        "id": "SL7pbeJh4ssT"
      },
      "outputs": [],
      "source": [
        "#write code to compute R2(1) for the following interval"
      ]
    },
    {
      "cell_type": "code",
      "source": [
        "import numpy as np\n",
        "import math \n",
        "def f(x):\n",
        "  return (math.exp(1))**(-x**2)"
      ],
      "metadata": {
        "id": "R23YXiWz6k6r"
      },
      "execution_count": 73,
      "outputs": []
    },
    {
      "cell_type": "markdown",
      "source": [
        "# Trapezoidal Rule function"
      ],
      "metadata": {
        "id": "88bj71F_VZcp"
      }
    },
    {
      "cell_type": "code",
      "source": [
        "#function = function whose integral we want to approximate\n",
        "#a = left endpoint of interval\n",
        "#b = right endpoint of interval\n",
        "#n = number of trapezoids used to estimate integral\n",
        "\n",
        "def trapezoidal_rule(function, a, b, n):\n",
        "  h = (b-a)/n\n",
        "  base = h/2\n",
        "  heights = 0\n",
        "  x_values = np.linspace(a,b,n+1)\n",
        "  #print(x_values)\n",
        "  for i in range(n+1):\n",
        "    if i == 0 or i == n:\n",
        "      heights += function(x_values[i])\n",
        "    else:\n",
        "      heights += 2*function(x_values[i])\n",
        "  return base*heights"
      ],
      "metadata": {
        "id": "KvRDXYa648ht"
      },
      "execution_count": 74,
      "outputs": []
    },
    {
      "cell_type": "code",
      "source": [
        "#use function from class to test my trapezoidal rule function\n",
        "trapezoidal_rule(f,0,1,4)"
      ],
      "metadata": {
        "colab": {
          "base_uri": "https://localhost:8080/",
          "height": 0
        },
        "id": "8-RwqCcl7SVL",
        "outputId": "1899794d-bc39-4668-e839-650481abb4e0"
      },
      "execution_count": 75,
      "outputs": [
        {
          "output_type": "execute_result",
          "data": {
            "text/plain": [
              "0.7429840978003812"
            ]
          },
          "metadata": {},
          "execution_count": 75
        }
      ]
    },
    {
      "cell_type": "markdown",
      "source": [
        "# Question 1c: Write a program to compute R2(h)"
      ],
      "metadata": {
        "id": "VFNpJCstGbP5"
      }
    },
    {
      "cell_type": "code",
      "source": [
        "#code the function we need to integrate into g(x)\n",
        "def g(x):\n",
        "  return x*((math.exp(1))**(-x**2))"
      ],
      "metadata": {
        "id": "YK4jA3RmIrcS"
      },
      "execution_count": 76,
      "outputs": []
    },
    {
      "cell_type": "code",
      "source": [
        "#function to compute R1(h), which uses our trapezoidal rule function twice with every call\n",
        "def R_1(function, a, b , n):\n",
        "  h = (b-a)/n\n",
        "  numerator = ((9*trapezoidal_rule(function, a, b, 3*n)) - trapezoidal_rule(function, a, b, n))\n",
        "  return numerator/8\n",
        "\n",
        "#function to compute R2(h), which uses our R_1 function twice with every call\n",
        "def R_2(function, a, b, n):\n",
        "  h = (b-a)/n\n",
        "  numerator = ((81*R_1(function, a, b, 3*n)) - R_1(function, a, b, n))\n",
        "  return numerator/80"
      ],
      "metadata": {
        "id": "-wxnfFTNGm4C"
      },
      "execution_count": 77,
      "outputs": []
    },
    {
      "cell_type": "markdown",
      "source": [
        "Now estimate the integral of our function g from 0 to 1 with an h value of one, meaning n = 1 in our parameters"
      ],
      "metadata": {
        "id": "yyZ9wUBfLkDC"
      }
    },
    {
      "cell_type": "code",
      "source": [
        "#with h = 1, the approximation is extremely close to the true value of the integral which is 0.31606027941\n",
        "R_2(g, 0, 1, 1)"
      ],
      "metadata": {
        "colab": {
          "base_uri": "https://localhost:8080/",
          "height": 0
        },
        "id": "RYuu6ad8MKcq",
        "outputId": "3803f72b-c8df-491e-c55b-d6929be623c6"
      },
      "execution_count": 78,
      "outputs": [
        {
          "output_type": "execute_result",
          "data": {
            "text/plain": [
              "0.31605356775661503"
            ]
          },
          "metadata": {},
          "execution_count": 78
        }
      ]
    },
    {
      "cell_type": "code",
      "source": [
        "#as you increase h, approximation gets even closer and closer to actual value\n",
        "for i in range(11):\n",
        "  if i!= 0:\n",
        "    print(\"H-value:\", i,\", Approximation: \", R_2(g, 0, 1, i))\n"
      ],
      "metadata": {
        "colab": {
          "base_uri": "https://localhost:8080/",
          "height": 0
        },
        "id": "wiQnm2MRJTGT",
        "outputId": "26c64079-c664-403f-e9c8-dcf91540e5f6"
      },
      "execution_count": 79,
      "outputs": [
        {
          "output_type": "stream",
          "name": "stdout",
          "text": [
            "H-value: 1 , Approximation:  0.31605356775661503\n",
            "H-value: 2 , Approximation:  0.3160602066159818\n",
            "H-value: 3 , Approximation:  0.3160602733431867\n",
            "H-value: 4 , Approximation:  0.3160602783522236\n",
            "H-value: 5 , Approximation:  0.3160602791380474\n",
            "H-value: 6 , Approximation:  0.3160602793221608\n",
            "H-value: 7 , Approximation:  0.3160602793778405\n",
            "H-value: 8 , Approximation:  0.3160602793979524\n",
            "H-value: 9 , Approximation:  0.3160602794062345\n",
            "H-value: 10 , Approximation:  0.31606027941000725\n"
          ]
        }
      ]
    },
    {
      "cell_type": "markdown",
      "source": [
        "# Question 2"
      ],
      "metadata": {
        "id": "xHnS_Is0KPC6"
      }
    },
    {
      "cell_type": "code",
      "source": [
        "import numpy as np"
      ],
      "metadata": {
        "id": "khMpemIBUi6C"
      },
      "execution_count": 80,
      "outputs": []
    },
    {
      "cell_type": "markdown",
      "source": [
        "# 2a: The evaluation points, which are the roots of the provided polynomial is found printed below:"
      ],
      "metadata": {
        "id": "agZUwzTcmiXY"
      }
    },
    {
      "cell_type": "code",
      "source": [
        "#numpy's poly 1d function allows us to \n",
        "polynomial = np.poly1d([1, 0, -10/9, 0, 5/21, 0])\n",
        "initialPoints = polynomial.roots\n",
        "initialPoints.sort()\n",
        "print(initialPoints)"
      ],
      "metadata": {
        "colab": {
          "base_uri": "https://localhost:8080/",
          "height": 0
        },
        "id": "CV86IIdeeQWJ",
        "outputId": "3c0b35a6-503f-43b0-ce44-136aba1dabb2"
      },
      "execution_count": 81,
      "outputs": [
        {
          "output_type": "stream",
          "name": "stdout",
          "text": [
            "[-0.90617985 -0.53846931  0.          0.53846931  0.90617985]\n"
          ]
        }
      ]
    },
    {
      "cell_type": "code",
      "source": [
        "#form the matrix that we will solve to \n",
        "#row one is 5 1's since f(x) = 1\n",
        "rows = [[1, 1, 1, 1, 1]]\n",
        "\n",
        "exponents = [1, 2, 3, 4]\n",
        "for n in exponents:\n",
        "  row = []\n",
        "  for item in initialPoints:\n",
        "    row.append(item**n)\n",
        "  rows.append(row)"
      ],
      "metadata": {
        "id": "Drn1DyQVhWZv"
      },
      "execution_count": 82,
      "outputs": []
    },
    {
      "cell_type": "code",
      "source": [
        "matrix = np.array(rows)"
      ],
      "metadata": {
        "id": "FMXJGrl9jmct"
      },
      "execution_count": 83,
      "outputs": []
    },
    {
      "cell_type": "code",
      "source": [
        "#create a matrix of all the coefficients on the wi's\n",
        "matrix"
      ],
      "metadata": {
        "colab": {
          "base_uri": "https://localhost:8080/",
          "height": 0
        },
        "id": "LKwvEIM1joJp",
        "outputId": "edc894b6-2835-4cb3-d0c0-7696df2ae3ea"
      },
      "execution_count": 84,
      "outputs": [
        {
          "output_type": "execute_result",
          "data": {
            "text/plain": [
              "array([[ 1.        ,  1.        ,  1.        ,  1.        ,  1.        ],\n",
              "       [-0.90617985, -0.53846931,  0.        ,  0.53846931,  0.90617985],\n",
              "       [ 0.82116191,  0.2899492 ,  0.        ,  0.2899492 ,  0.82116191],\n",
              "       [-0.74412038, -0.15612874,  0.        ,  0.15612874,  0.74412038],\n",
              "       [ 0.67430689,  0.08407054,  0.        ,  0.08407054,  0.67430689]])"
            ]
          },
          "metadata": {},
          "execution_count": 84
        }
      ]
    },
    {
      "cell_type": "code",
      "source": [
        "#finally we to solve a matrix equation Ax = b where b are the values of the various integrals\n",
        "b = np.array([[2],\n",
        "              [0],\n",
        "              [2/3],\n",
        "              [0],\n",
        "              [2/5]])"
      ],
      "metadata": {
        "id": "NtQBktrVj8bT"
      },
      "execution_count": 85,
      "outputs": []
    },
    {
      "cell_type": "markdown",
      "source": [
        "# 2a: Solve the linear system to find the weights w1, w2, ..., w5"
      ],
      "metadata": {
        "id": "-aggt7iampzz"
      }
    },
    {
      "cell_type": "code",
      "source": [
        "#now use numpy's linear algebra solver to solve the equation and get a column vector of the weights wi\n",
        "weights = np.linalg.solve(matrix,b)\n",
        "print(weights)"
      ],
      "metadata": {
        "colab": {
          "base_uri": "https://localhost:8080/",
          "height": 0
        },
        "id": "BV1KLVRJkdAl",
        "outputId": "9b90147b-f923-4444-9a51-a04f02ce644f"
      },
      "execution_count": 86,
      "outputs": [
        {
          "output_type": "stream",
          "name": "stdout",
          "text": [
            "[[0.23692689]\n",
            " [0.47862867]\n",
            " [0.56888889]\n",
            " [0.47862867]\n",
            " [0.23692689]]\n"
          ]
        }
      ]
    },
    {
      "cell_type": "markdown",
      "source": [
        "# 2b: General function gaussian_quadrature_five gives the summation of the function values at each of the appropriate xi multiplied by the corresponding weight"
      ],
      "metadata": {
        "id": "qOqWzcx9mvcy"
      }
    },
    {
      "cell_type": "code",
      "source": [
        "def gaussian_quadrature_five(function):\n",
        "  return ((function(initialPoints[0])*weights[0][0])+ (function(initialPoints[1])*weights[1][0]) + (function(initialPoints[2])*weights[2][0]) \n",
        "  + (function(initialPoints[3])*weights[3][0]) + (function(initialPoints[4])*weights[4][0]))"
      ],
      "metadata": {
        "id": "nRP5pIDngKg7"
      },
      "execution_count": 87,
      "outputs": []
    },
    {
      "cell_type": "code",
      "source": [
        "#testing our function on a sample function from class\n",
        "#if we integrate f(x) = e^-x^2 from -1 to 1 in symbolab we get the same thing so the function works\n",
        "gaussian_quadrature_five(f)"
      ],
      "metadata": {
        "colab": {
          "base_uri": "https://localhost:8080/",
          "height": 0
        },
        "id": "MexUk1d7lHe0",
        "outputId": "632bdd66-8096-4d83-9a5c-1209f3b0276f"
      },
      "execution_count": 88,
      "outputs": [
        {
          "output_type": "execute_result",
          "data": {
            "text/plain": [
              "1.4936639207026294"
            ]
          },
          "metadata": {},
          "execution_count": 88
        }
      ]
    },
    {
      "cell_type": "markdown",
      "source": [
        "# 2c:"
      ],
      "metadata": {
        "id": "th1x9tIAnRcY"
      }
    },
    {
      "cell_type": "code",
      "source": [
        "def h(x):\n",
        "  return ((x**8)+ (42*(x**7)))"
      ],
      "metadata": {
        "id": "OSH8LkeYmYbI"
      },
      "execution_count": 89,
      "outputs": []
    },
    {
      "cell_type": "markdown",
      "source": [
        "# Here, the actual solution to the integral from -1 to 1 of h(x) is 2/9 and our gaussian quadrature is an amazing approximation!"
      ],
      "metadata": {
        "id": "tMg7BITOShol"
      }
    },
    {
      "cell_type": "code",
      "source": [
        "#run the five point gaussian quadrature on h(x) to approximate its integral from -1 to 1\n",
        "gaussian_quadrature_five(h)"
      ],
      "metadata": {
        "colab": {
          "base_uri": "https://localhost:8080/",
          "height": 0
        },
        "id": "6yMt4ThynriW",
        "outputId": "f6249c53-b696-410e-bcc6-c7963abf1914"
      },
      "execution_count": 101,
      "outputs": [
        {
          "output_type": "execute_result",
          "data": {
            "text/plain": [
              "0.222222222222209"
            ]
          },
          "metadata": {},
          "execution_count": 101
        }
      ]
    },
    {
      "cell_type": "markdown",
      "source": [
        "# 2d:"
      ],
      "metadata": {
        "id": "dpcrihXun75Y"
      }
    },
    {
      "cell_type": "markdown",
      "source": [
        "Note: the polynomial in question for part d is of degree ten which is not less than or equal to 2n-1. Our five point gaussian quadrature will only be exact for any polynomial of degree 9 or less. Here, testing the quadrature on the function of degree 10, we see that it provides a decent approximation but is not as close as for those of degree <= 9"
      ],
      "metadata": {
        "id": "ETqvim-1oTn1"
      }
    },
    {
      "cell_type": "code",
      "source": [
        "def q(x):\n",
        "  return ((x**10)+ (42*(x**7)))"
      ],
      "metadata": {
        "id": "uCl6MBbPn6Wp"
      },
      "execution_count": 98,
      "outputs": []
    },
    {
      "cell_type": "markdown",
      "source": [
        "Exact value for this integral = 2/11 = 0.18181818181\n"
      ],
      "metadata": {
        "id": "djV5jE72osx3"
      }
    },
    {
      "cell_type": "code",
      "source": [
        "gaussian_quadrature_five(q)"
      ],
      "metadata": {
        "colab": {
          "base_uri": "https://localhost:8080/",
          "height": 0
        },
        "id": "lOaacNE0n5iI",
        "outputId": "daef4062-bfd6-4a7d-b055-70903677c02b"
      },
      "execution_count": 99,
      "outputs": [
        {
          "output_type": "execute_result",
          "data": {
            "text/plain": [
              "0.1788863693625471"
            ]
          },
          "metadata": {},
          "execution_count": 99
        }
      ]
    },
    {
      "cell_type": "markdown",
      "source": [
        "# 2e:"
      ],
      "metadata": {
        "id": "izN5h_WapWCM"
      }
    },
    {
      "cell_type": "markdown",
      "source": [
        "We must use perform u-substitution because the bounds on this integral are from 0 to 1 and our specific gaussian quadrature is only valid for an interval -1 to 1"
      ],
      "metadata": {
        "id": "kJ4INkx6TDq5"
      }
    },
    {
      "cell_type": "code",
      "source": [
        "def p(u):\n",
        "  left = (u+1)/4\n",
        "  right = (math.exp(1))**(-1*(((u+1)/2)**2))\n",
        "  return left * right"
      ],
      "metadata": {
        "id": "pz1x0ny4qCjj"
      },
      "execution_count": 100,
      "outputs": []
    },
    {
      "cell_type": "markdown",
      "source": [
        "Running the gaussian quadrature on this integral we see that it is more exact than the approximation via R2(1) using Rhomberg Integration/Richardson Extrapolation technique"
      ],
      "metadata": {
        "id": "4XcSCdCprtIk"
      }
    },
    {
      "cell_type": "code",
      "source": [
        "gaussian_quadrature_five(p)"
      ],
      "metadata": {
        "colab": {
          "base_uri": "https://localhost:8080/",
          "height": 0
        },
        "id": "C8gL9VjLrg9Q",
        "outputId": "0cd197ef-f83d-4e3b-b12e-ddb99e7abcae"
      },
      "execution_count": 94,
      "outputs": [
        {
          "output_type": "execute_result",
          "data": {
            "text/plain": [
              "0.3160602943661359"
            ]
          },
          "metadata": {},
          "execution_count": 94
        }
      ]
    }
  ]
}