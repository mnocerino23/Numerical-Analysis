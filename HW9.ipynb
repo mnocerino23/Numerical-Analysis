{
  "nbformat": 4,
  "nbformat_minor": 0,
  "metadata": {
    "colab": {
      "provenance": [],
      "authorship_tag": "ABX9TyOOhrWsR/JAKI7rfaJNADAS",
      "include_colab_link": true
    },
    "kernelspec": {
      "name": "python3",
      "display_name": "Python 3"
    },
    "language_info": {
      "name": "python"
    }
  },
  "cells": [
    {
      "cell_type": "markdown",
      "metadata": {
        "id": "view-in-github",
        "colab_type": "text"
      },
      "source": [
        "<a href=\"https://colab.research.google.com/github/mnocerino23/Numerical-Analysis/blob/main/HW9.ipynb\" target=\"_parent\"><img src=\"https://colab.research.google.com/assets/colab-badge.svg\" alt=\"Open In Colab\"/></a>"
      ]
    },
    {
      "cell_type": "code",
      "execution_count": 1,
      "metadata": {
        "id": "SL7pbeJh4ssT"
      },
      "outputs": [],
      "source": [
        "#write code to compute R2(1) for the following interval"
      ]
    },
    {
      "cell_type": "code",
      "source": [
        "import numpy as np\n",
        "import math \n",
        "def f(x):\n",
        "  return (math.exp(1))**(-x**2)"
      ],
      "metadata": {
        "id": "R23YXiWz6k6r"
      },
      "execution_count": 40,
      "outputs": []
    },
    {
      "cell_type": "code",
      "source": [
        "#function = function whose integral we want to approximate\n",
        "#a = left endpoint of interval\n",
        "#b = right endpoint of interval\n",
        "#n = number of trapezoids used to estimate integral\n",
        "\n",
        "def trapezoidal_rule_estimation(a, b, n):\n",
        "  h = (b-a)/n\n",
        "  base = h/2\n",
        "  heights = 0\n",
        "  x_values = np.linspace(a,b,n)\n",
        "  print(x_values)\n",
        "  for i in range(n):\n",
        "    if i == 0 or i == n-1:\n",
        "      heights += f(x_values[i])\n",
        "    else:\n",
        "      heights += 2*f(x_values[i])\n",
        "  return base*heights"
      ],
      "metadata": {
        "id": "KvRDXYa648ht"
      },
      "execution_count": 57,
      "outputs": []
    },
    {
      "cell_type": "code",
      "source": [
        "trapezoidal_rule_estimation(0,5,6)"
      ],
      "metadata": {
        "colab": {
          "base_uri": "https://localhost:8080/"
        },
        "id": "8-RwqCcl7SVL",
        "outputId": "883df6f0-6042-43e1-e697-e0b720952436"
      },
      "execution_count": 60,
      "outputs": [
        {
          "output_type": "stream",
          "name": "stdout",
          "text": [
            "[0. 1. 2. 3. 4. 5.]\n"
          ]
        },
        {
          "output_type": "execute_result",
          "data": {
            "text/plain": [
              "0.7385988353386517"
            ]
          },
          "metadata": {},
          "execution_count": 60
        }
      ]
    }
  ]
}