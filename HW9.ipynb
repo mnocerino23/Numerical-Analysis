{
  "nbformat": 4,
  "nbformat_minor": 0,
  "metadata": {
    "colab": {
      "provenance": [],
      "authorship_tag": "ABX9TyNoIooPBJAMvPzHdHCtBoZZ",
      "include_colab_link": true
    },
    "kernelspec": {
      "name": "python3",
      "display_name": "Python 3"
    },
    "language_info": {
      "name": "python"
    }
  },
  "cells": [
    {
      "cell_type": "markdown",
      "metadata": {
        "id": "view-in-github",
        "colab_type": "text"
      },
      "source": [
        "<a href=\"https://colab.research.google.com/github/mnocerino23/Numerical-Analysis/blob/main/HW9.ipynb\" target=\"_parent\"><img src=\"https://colab.research.google.com/assets/colab-badge.svg\" alt=\"Open In Colab\"/></a>"
      ]
    },
    {
      "cell_type": "code",
      "execution_count": 1,
      "metadata": {
        "id": "SL7pbeJh4ssT"
      },
      "outputs": [],
      "source": [
        "#write code to compute R2(1) for the following interval"
      ]
    },
    {
      "cell_type": "code",
      "source": [
        "import numpy as np\n",
        "import math \n",
        "def f(x):\n",
        "  return (math.exp(1))**(-x**2)"
      ],
      "metadata": {
        "id": "R23YXiWz6k6r"
      },
      "execution_count": 2,
      "outputs": []
    },
    {
      "cell_type": "code",
      "source": [
        "#function = function whose integral we want to approximate\n",
        "#a = left endpoint of interval\n",
        "#b = right endpoint of interval\n",
        "#n = number of trapezoids used to estimate integral\n",
        "\n",
        "def trapezoidal_rule(function, a, b, n):\n",
        "  h = (b-a)/n\n",
        "  base = h/2\n",
        "  heights = 0\n",
        "  x_values = np.linspace(a,b,n+1)\n",
        "  #print(x_values)\n",
        "  for i in range(n+1):\n",
        "    if i == 0 or i == n:\n",
        "      heights += function(x_values[i])\n",
        "    else:\n",
        "      heights += 2*function(x_values[i])\n",
        "  return base*heights"
      ],
      "metadata": {
        "id": "KvRDXYa648ht"
      },
      "execution_count": 3,
      "outputs": []
    },
    {
      "cell_type": "code",
      "source": [
        "#use function from class to test my trapezoidal rule function\n",
        "trapezoidal_rule(f,0,1,4)"
      ],
      "metadata": {
        "colab": {
          "base_uri": "https://localhost:8080/"
        },
        "id": "8-RwqCcl7SVL",
        "outputId": "7dc32eb3-c953-47a5-9d89-feffc44cb932"
      },
      "execution_count": 4,
      "outputs": [
        {
          "output_type": "execute_result",
          "data": {
            "text/plain": [
              "0.7429840978003812"
            ]
          },
          "metadata": {},
          "execution_count": 4
        }
      ]
    },
    {
      "cell_type": "markdown",
      "source": [
        "# Question 1c: Write a program to compute R2(h)"
      ],
      "metadata": {
        "id": "VFNpJCstGbP5"
      }
    },
    {
      "cell_type": "code",
      "source": [
        "#code the function we need to integrate into g(x)\n",
        "def g(x):\n",
        "  return x*((math.exp(1))**(-x**2))"
      ],
      "metadata": {
        "id": "YK4jA3RmIrcS"
      },
      "execution_count": 5,
      "outputs": []
    },
    {
      "cell_type": "code",
      "source": [
        "#function to compute R1(h), which uses our trapezoidal rule function twice with every call\n",
        "def R_1(function, a, b , n):\n",
        "  h = (b-a)/n\n",
        "  numerator = ((9*trapezoidal_rule(function, a, b, 3*n)) - trapezoidal_rule(function, a, b, n))\n",
        "  return numerator/8\n",
        "\n",
        "#function to compute R2(h), which uses our R_1 function twice with every call\n",
        "def R_2(function, a, b, n):\n",
        "  h = (b-a)/n\n",
        "  numerator = ((81*R_1(function, a, b, 3*n)) - R_1(function, a, b, n))\n",
        "  return numerator/80"
      ],
      "metadata": {
        "id": "-wxnfFTNGm4C"
      },
      "execution_count": 6,
      "outputs": []
    },
    {
      "cell_type": "markdown",
      "source": [
        "Now estimate the integral of our function g from 0 to 1 with an h value of one, meaning n = 1 in our parameters"
      ],
      "metadata": {
        "id": "yyZ9wUBfLkDC"
      }
    },
    {
      "cell_type": "code",
      "source": [
        "#with h = 1, the approximation is extremely close to the true value of the integral which is 0.31606027941\n",
        "R_2(g, 0, 1, 1)"
      ],
      "metadata": {
        "colab": {
          "base_uri": "https://localhost:8080/"
        },
        "id": "RYuu6ad8MKcq",
        "outputId": "f1188827-e355-4d88-f083-935c25a9a5cb"
      },
      "execution_count": 7,
      "outputs": [
        {
          "output_type": "execute_result",
          "data": {
            "text/plain": [
              "0.31605356775661503"
            ]
          },
          "metadata": {},
          "execution_count": 7
        }
      ]
    },
    {
      "cell_type": "code",
      "source": [
        "#as you increase h, approximation gets even closer and closer to actual value\n",
        "for i in range(11):\n",
        "  if i!= 0:\n",
        "    print(\"H-value:\", i,\", Approximation: \", R_2(g, 0, 1, i))\n"
      ],
      "metadata": {
        "colab": {
          "base_uri": "https://localhost:8080/"
        },
        "id": "wiQnm2MRJTGT",
        "outputId": "1cf1155d-bf65-4587-adc0-e8a08ca9b069"
      },
      "execution_count": 8,
      "outputs": [
        {
          "output_type": "stream",
          "name": "stdout",
          "text": [
            "H-value: 1 , Approximation:  0.31605356775661503\n",
            "H-value: 2 , Approximation:  0.3160602066159818\n",
            "H-value: 3 , Approximation:  0.3160602733431867\n",
            "H-value: 4 , Approximation:  0.3160602783522236\n",
            "H-value: 5 , Approximation:  0.3160602791380474\n",
            "H-value: 6 , Approximation:  0.3160602793221608\n",
            "H-value: 7 , Approximation:  0.3160602793778405\n",
            "H-value: 8 , Approximation:  0.3160602793979524\n",
            "H-value: 9 , Approximation:  0.3160602794062345\n",
            "H-value: 10 , Approximation:  0.31606027941000725\n"
          ]
        }
      ]
    },
    {
      "cell_type": "markdown",
      "source": [
        "# Question 2"
      ],
      "metadata": {
        "id": "xHnS_Is0KPC6"
      }
    },
    {
      "cell_type": "code",
      "source": [
        "import numpy as np"
      ],
      "metadata": {
        "id": "khMpemIBUi6C"
      },
      "execution_count": 9,
      "outputs": []
    },
    {
      "cell_type": "code",
      "source": [
        "#numpy's poly 1d function allows us to \n",
        "polynomial = np.poly1d([1, 0, -10/9, 0, 5/21, 0])\n",
        "roots = polynomial.roots\n",
        "print(roots)"
      ],
      "metadata": {
        "colab": {
          "base_uri": "https://localhost:8080/"
        },
        "id": "CV86IIdeeQWJ",
        "outputId": "36743e48-bc71-47c2-8297-22f67f8df07b"
      },
      "execution_count": 16,
      "outputs": [
        {
          "output_type": "stream",
          "name": "stdout",
          "text": [
            "[-0.90617985 -0.53846931  0.90617985  0.53846931  0.        ]\n",
            "-0.9061798459386644\n"
          ]
        }
      ]
    },
    {
      "cell_type": "code",
      "source": [
        "#form the matrix that we will solve to \n",
        "rows = [[1, 1, 1, 1, 1]]\n",
        "\n",
        "exponents = [1, 2, 3, 4]\n",
        "for n in exponents:\n",
        "  row = []\n",
        "  for item in roots:\n",
        "    row.append(item**n)\n",
        "  rows.append(row)"
      ],
      "metadata": {
        "id": "Drn1DyQVhWZv"
      },
      "execution_count": 28,
      "outputs": []
    },
    {
      "cell_type": "code",
      "source": [
        "matrix = np.array(rows)"
      ],
      "metadata": {
        "id": "FMXJGrl9jmct"
      },
      "execution_count": 33,
      "outputs": []
    },
    {
      "cell_type": "code",
      "source": [
        "#create a matrix of all the coefficients on the wi's\n",
        "matrix"
      ],
      "metadata": {
        "colab": {
          "base_uri": "https://localhost:8080/"
        },
        "id": "LKwvEIM1joJp",
        "outputId": "c0157939-edec-415a-8d19-cf9e83e83682"
      },
      "execution_count": 35,
      "outputs": [
        {
          "output_type": "execute_result",
          "data": {
            "text/plain": [
              "array([[ 1.        ,  1.        ,  1.        ,  1.        ,  1.        ],\n",
              "       [-0.90617985, -0.53846931,  0.90617985,  0.53846931,  0.        ],\n",
              "       [ 0.82116191,  0.2899492 ,  0.82116191,  0.2899492 ,  0.        ],\n",
              "       [-0.74412038, -0.15612874,  0.74412038,  0.15612874,  0.        ],\n",
              "       [ 0.67430689,  0.08407054,  0.67430689,  0.08407054,  0.        ]])"
            ]
          },
          "metadata": {},
          "execution_count": 35
        }
      ]
    },
    {
      "cell_type": "code",
      "source": [
        "#finally we to solve a matrix equation Ax = b where b are the values of the various integrals\n",
        "b = np.array([[2],\n",
        "              [0],\n",
        "              [2/3],\n",
        "              [0],\n",
        "              [2/5]])"
      ],
      "metadata": {
        "id": "NtQBktrVj8bT"
      },
      "execution_count": 36,
      "outputs": []
    },
    {
      "cell_type": "code",
      "source": [
        "#now use numpy's linear algebra solver to solve the equation and get a column vector of the weights wi\n",
        "solution = np.linalg.solve(matrix,b)\n",
        "print(solution)"
      ],
      "metadata": {
        "colab": {
          "base_uri": "https://localhost:8080/"
        },
        "id": "BV1KLVRJkdAl",
        "outputId": "6189d8da-80f2-4dcb-8c6d-6c08490a84dc"
      },
      "execution_count": 42,
      "outputs": [
        {
          "output_type": "stream",
          "name": "stdout",
          "text": [
            "[[0.23692689]\n",
            " [0.47862867]\n",
            " [0.23692689]\n",
            " [0.47862867]\n",
            " [0.56888889]]\n"
          ]
        }
      ]
    },
    {
      "cell_type": "code",
      "source": [
        "def gaussian_quadrature_five(function):\n",
        "  return ((function(roots[0])*solution[0][0])+ (function(roots[1])*solution[1][0]) + (function(roots[2])*solution[2][0]) \n",
        "  + (function(roots[3])*solution[3][0]) + (function(roots[4])*solution[4][0]))"
      ],
      "metadata": {
        "id": "nRP5pIDngKg7"
      },
      "execution_count": 48,
      "outputs": []
    },
    {
      "cell_type": "code",
      "source": [
        "gaussian_quadrature_five(f)"
      ],
      "metadata": {
        "colab": {
          "base_uri": "https://localhost:8080/"
        },
        "id": "MexUk1d7lHe0",
        "outputId": "3ea3b708-bed2-4196-a4f8-79caa276b797"
      },
      "execution_count": 49,
      "outputs": [
        {
          "output_type": "execute_result",
          "data": {
            "text/plain": [
              "1.4936639207026294"
            ]
          },
          "metadata": {},
          "execution_count": 49
        }
      ]
    }
  ]
}