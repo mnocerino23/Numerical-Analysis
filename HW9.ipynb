{
  "nbformat": 4,
  "nbformat_minor": 0,
  "metadata": {
    "colab": {
      "provenance": [],
      "authorship_tag": "ABX9TyNWJmRp2HmITD4KjFLuR3iZ",
      "include_colab_link": true
    },
    "kernelspec": {
      "name": "python3",
      "display_name": "Python 3"
    },
    "language_info": {
      "name": "python"
    }
  },
  "cells": [
    {
      "cell_type": "markdown",
      "metadata": {
        "id": "view-in-github",
        "colab_type": "text"
      },
      "source": [
        "<a href=\"https://colab.research.google.com/github/mnocerino23/Numerical-Analysis/blob/main/HW9.ipynb\" target=\"_parent\"><img src=\"https://colab.research.google.com/assets/colab-badge.svg\" alt=\"Open In Colab\"/></a>"
      ]
    },
    {
      "cell_type": "code",
      "execution_count": 29,
      "metadata": {
        "id": "SL7pbeJh4ssT"
      },
      "outputs": [],
      "source": [
        "#write code to compute R2(1) for the following interval"
      ]
    },
    {
      "cell_type": "code",
      "source": [
        "import numpy as np\n",
        "import math \n",
        "def f(x):\n",
        "  return (math.exp(1))**(-x**2)"
      ],
      "metadata": {
        "id": "R23YXiWz6k6r"
      },
      "execution_count": 30,
      "outputs": []
    },
    {
      "cell_type": "code",
      "source": [
        "#function = function whose integral we want to approximate\n",
        "#a = left endpoint of interval\n",
        "#b = right endpoint of interval\n",
        "#n = number of trapezoids used to estimate integral\n",
        "\n",
        "def trapezoidal_rule(function, a, b, n):\n",
        "  h = (b-a)/n\n",
        "  base = h/2\n",
        "  heights = 0\n",
        "  x_values = np.linspace(a,b,n+1)\n",
        "  #print(x_values)\n",
        "  for i in range(n+1):\n",
        "    if i == 0 or i == n:\n",
        "      heights += function(x_values[i])\n",
        "    else:\n",
        "      heights += 2*function(x_values[i])\n",
        "  return base*heights"
      ],
      "metadata": {
        "id": "KvRDXYa648ht"
      },
      "execution_count": 31,
      "outputs": []
    },
    {
      "cell_type": "code",
      "source": [
        "#use function from class to test my trapezoidal rule function\n",
        "trapezoidal_rule(f,0,1,4)"
      ],
      "metadata": {
        "colab": {
          "base_uri": "https://localhost:8080/"
        },
        "id": "8-RwqCcl7SVL",
        "outputId": "24e645aa-aecc-4308-d5e8-dbe00cc4b9c9"
      },
      "execution_count": 32,
      "outputs": [
        {
          "output_type": "execute_result",
          "data": {
            "text/plain": [
              "0.7429840978003812"
            ]
          },
          "metadata": {},
          "execution_count": 32
        }
      ]
    },
    {
      "cell_type": "markdown",
      "source": [
        "# Question 1c: Write a program to compute R2(h)"
      ],
      "metadata": {
        "id": "VFNpJCstGbP5"
      }
    },
    {
      "cell_type": "code",
      "source": [
        "#code the function we need to integrate into g(x)\n",
        "def g(x):\n",
        "  return x*((math.exp(1))**(-x**2))"
      ],
      "metadata": {
        "id": "YK4jA3RmIrcS"
      },
      "execution_count": 33,
      "outputs": []
    },
    {
      "cell_type": "code",
      "source": [
        "#function to compute R1(h), which uses our trapezoidal rule function twice with every call\n",
        "def R_1(function, a, b , n):\n",
        "  h = (b-a)/n\n",
        "  numerator = ((9*trapezoidal_rule(function, a, b, 3*n)) - trapezoidal_rule(function, a, b, n))\n",
        "  return numerator/8\n",
        "\n",
        "#function to compute R2(h), which uses our R_1 function twice with every call\n",
        "def R_2(function, a, b, n):\n",
        "  h = (b-a)/n\n",
        "  numerator = ((81*R_1(function, a, b, 3*n)) - R_1(function, a, b, n))\n",
        "  return numerator/80"
      ],
      "metadata": {
        "id": "-wxnfFTNGm4C"
      },
      "execution_count": 34,
      "outputs": []
    },
    {
      "cell_type": "code",
      "source": [
        "print(R_2(g, 0, 1, 10))"
      ],
      "metadata": {
        "colab": {
          "base_uri": "https://localhost:8080/"
        },
        "id": "wiQnm2MRJTGT",
        "outputId": "18cecf6d-d540-44be-9dac-f5110c157530"
      },
      "execution_count": 35,
      "outputs": [
        {
          "output_type": "stream",
          "name": "stdout",
          "text": [
            "0.31606027941000725\n"
          ]
        }
      ]
    }
  ]
}