{
  "nbformat": 4,
  "nbformat_minor": 0,
  "metadata": {
    "colab": {
      "provenance": [],
      "authorship_tag": "ABX9TyP+F4klbeVMfh0JXcUh5EMo",
      "include_colab_link": true
    },
    "kernelspec": {
      "name": "python3",
      "display_name": "Python 3"
    },
    "language_info": {
      "name": "python"
    }
  },
  "cells": [
    {
      "cell_type": "markdown",
      "metadata": {
        "id": "view-in-github",
        "colab_type": "text"
      },
      "source": [
        "<a href=\"https://colab.research.google.com/github/mnocerino23/Numerical-Analysis/blob/main/HW9.ipynb\" target=\"_parent\"><img src=\"https://colab.research.google.com/assets/colab-badge.svg\" alt=\"Open In Colab\"/></a>"
      ]
    },
    {
      "cell_type": "code",
      "execution_count": 1,
      "metadata": {
        "id": "SL7pbeJh4ssT"
      },
      "outputs": [],
      "source": [
        "#write code to compute R2(1) for the following interval"
      ]
    },
    {
      "cell_type": "code",
      "source": [
        "import numpy as np\n",
        "import math \n",
        "def f(x):\n",
        "  return (math.exp(1))**(-x**2)"
      ],
      "metadata": {
        "id": "R23YXiWz6k6r"
      },
      "execution_count": 3,
      "outputs": []
    },
    {
      "cell_type": "code",
      "source": [
        "#function = function whose integral we want to approximate\n",
        "#a = left endpoint of interval\n",
        "#b = right endpoint of interval\n",
        "#n = number of trapezoids used to estimate integral\n",
        "\n",
        "def trapezoidal_rule_estimation(a, b, n):\n",
        "  h = (b-a)/n\n",
        "  base = h/2\n",
        "  heights = 0\n",
        "  x_values = np.linspace(a,b,n+1)\n",
        "  print(x_values)\n",
        "  for i in range(n+1):\n",
        "    if i == 0 or i == n:\n",
        "      heights += f(x_values[i])\n",
        "    else:\n",
        "      heights += 2*f(x_values[i])\n",
        "  return base*heights"
      ],
      "metadata": {
        "id": "KvRDXYa648ht"
      },
      "execution_count": 12,
      "outputs": []
    },
    {
      "cell_type": "code",
      "source": [
        "trapezoidal_rule_estimation(0,1,4)"
      ],
      "metadata": {
        "colab": {
          "base_uri": "https://localhost:8080/"
        },
        "id": "8-RwqCcl7SVL",
        "outputId": "520bf423-6a53-419b-9b8a-c4d3343454f2"
      },
      "execution_count": 17,
      "outputs": [
        {
          "output_type": "stream",
          "name": "stdout",
          "text": [
            "[0.   0.25 0.5  0.75 1.  ]\n"
          ]
        },
        {
          "output_type": "execute_result",
          "data": {
            "text/plain": [
              "0.7429840978003812"
            ]
          },
          "metadata": {},
          "execution_count": 17
        }
      ]
    }
  ]
}